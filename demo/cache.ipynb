{
 "cells": [
  {
   "cell_type": "markdown",
   "metadata": {},
   "source": [
    "# Test of module myutil.cache\n",
    "Documentation: [here](../doc/_build/html/cache.html)"
   ]
  },
  {
   "cell_type": "code",
   "execution_count": 1,
   "metadata": {},
   "outputs": [],
   "source": [
    "#!rm -rf cache.dir/*\n",
    "#!DEL /Q /S cache.dir\\*"
   ]
  },
  {
   "cell_type": "markdown",
   "metadata": {},
   "source": [
    "## Base caching"
   ]
  },
  {
   "cell_type": "code",
   "execution_count": 2,
   "metadata": {
    "collapsed": false,
    "jupyter": {
     "outputs_hidden": false
    },
    "scrolled": true
   },
   "outputs": [
    {
     "data": {
      "text/plain": [
       "BlockInfo(hits=0, ncell=0, ncell_error=0, ncell_pending=0)"
      ]
     },
     "execution_count": 2,
     "metadata": {},
     "output_type": "execute_result"
    }
   ],
   "source": [
    "import logging\n",
    "logging.basicConfig(level='INFO')\n",
    "from myutil.demo.cache import simplefunc as f\n",
    "f.cache.clear()\n",
    "f.cache.info()"
   ]
  },
  {
   "cell_type": "markdown",
   "metadata": {},
   "source": [
    "All cache lookups miss (if cache was cleared):"
   ]
  },
  {
   "cell_type": "code",
   "execution_count": 3,
   "metadata": {
    "collapsed": false,
    "jupyter": {
     "outputs_hidden": false
    },
    "scrolled": true
   },
   "outputs": [
    {
     "name": "stderr",
     "output_type": "stream",
     "text": [
      "INFO:myutil.cache:Cache<myutil.demo.cache.simplefunc(x, y=3)> MISS(1)\n",
      "INFO:myutil.cache:Cache<myutil.demo.cache.simplefunc(x, y=3)> MISS(2)\n",
      "INFO:myutil.cache:Cache<myutil.demo.cache.simplefunc(x, y=3)> MISS(3)\n",
      "INFO:myutil.cache:Cache<myutil.demo.cache.simplefunc(x, y=3)> MISS(4)\n",
      "INFO:myutil.cache:Cache<myutil.demo.cache.simplefunc(x, y=3)> MISS(5)\n",
      "INFO:myutil.cache:Cache<myutil.demo.cache.simplefunc(x, y=3)> MISS(6)\n",
      "INFO:myutil.cache:Cache<myutil.demo.cache.simplefunc(x, y=3)> MISS(7)\n",
      "INFO:myutil.cache:Cache<myutil.demo.cache.simplefunc(x, y=3)> MISS(8)\n",
      "INFO:myutil.cache:Cache<myutil.demo.cache.simplefunc(x, y=3)> MISS(9)\n",
      "INFO:myutil.cache:Cache<myutil.demo.cache.simplefunc(x, y=3)> MISS(10)\n",
      "INFO:myutil.cache:Cache<myutil.demo.cache.simplefunc(x, y=3)> MISS(11)\n",
      "INFO:myutil.cache:Cache<myutil.demo.cache.simplefunc(x, y=3)> MISS(12)\n",
      "INFO:myutil.cache:Cache<myutil.demo.cache.simplefunc(x, y=3)> MISS(13)\n",
      "INFO:myutil.cache:Cache<myutil.demo.cache.simplefunc(x, y=3)> MISS(14)\n",
      "INFO:myutil.cache:Cache<myutil.demo.cache.simplefunc(x, y=3)> MISS(15)\n"
     ]
    }
   ],
   "source": [
    "for i in range(15): f(1,y=i)"
   ]
  },
  {
   "cell_type": "code",
   "execution_count": 4,
   "metadata": {
    "collapsed": false,
    "jupyter": {
     "outputs_hidden": false
    }
   },
   "outputs": [
    {
     "data": {
      "text/plain": [
       "BlockInfo(hits=0, ncell=15, ncell_error=0, ncell_pending=0)"
      ]
     },
     "execution_count": 4,
     "metadata": {},
     "output_type": "execute_result"
    }
   ],
   "source": [
    "f.cache.info()"
   ]
  },
  {
   "cell_type": "code",
   "execution_count": 5,
   "metadata": {},
   "outputs": [
    {
     "data": {
      "text/html": [
       "<div><div><style scoped=\"scoped\">\n",
       "  #myutil1629150902_3160026table { border-collapse: collapse; }\n",
       "  #myutil1629150902_3160026table > thead > tr > th, #myutil1629150902_3160026table > thead > tr > td, #myutil1629150902_3160026table > tbody > tr > th, #myutil1629150902_3160026table > tbody > tr > td, #myutil1629150902_3160026table > tfoot > tr > td  { background-color: white; color:black; text-align: left; vertical-align: top; border: thin solid black; }\n",
       "  #myutil1629150902_3160026table > thead > tr > th, #myutil1629150902_3160026table > thead > tr > td { background-color: gray; color: white }\n",
       "  #myutil1629150902_3160026table > tfoot > tr > td { background-color: #f0f0f0; color: navy; }\n",
       "</style><table id=\"myutil1629150902_3160026table\"><thead><tr><td colspan=\"6\">Cache&lt;myutil.demo.cache.simplefunc(x, y=3)&gt;</td></tr><tr><td></td><th>ckey</th><th>tstamp</th><th>hits</th><th>size</th><th>duration</th></tr></thead><tbody><tr><th>1</th><td><div style=\"padding:0\"><span style=\"padding: 5px\"><span>1</span></span><span style=\"padding: 5px\"><span>0</span></span></div></td><td>2021-08-16 21:54:58</td><td>0</td><td>18B</td><td>0.00882msec</td></tr><tr><th>2</th><td><div style=\"padding:0\"><span style=\"padding: 5px\"><span>1</span></span><span style=\"padding: 5px\"><span>1</span></span></div></td><td>2021-08-16 21:54:58</td><td>0</td><td>18B</td><td>0.00429msec</td></tr><tr><th>3</th><td><div style=\"padding:0\"><span style=\"padding: 5px\"><span>1</span></span><span style=\"padding: 5px\"><span>2</span></span></div></td><td>2021-08-16 21:54:58</td><td>0</td><td>18B</td><td>0.00358msec</td></tr><tr><th>4</th><td><div style=\"padding:0\"><span style=\"padding: 5px\"><span>1</span></span><span style=\"padding: 5px\"><span>3</span></span></div></td><td>2021-08-16 21:54:58</td><td>0</td><td>18B</td><td>0.00525msec</td></tr><tr><th>5</th><td><div style=\"padding:0\"><span style=\"padding: 5px\"><span>1</span></span><span style=\"padding: 5px\"><span>4</span></span></div></td><td>2021-08-16 21:54:58</td><td>0</td><td>18B</td><td>0.00501msec</td></tr><tr><th>6</th><td><div style=\"padding:0\"><span style=\"padding: 5px\"><span>1</span></span><span style=\"padding: 5px\"><span>5</span></span></div></td><td>2021-08-16 21:54:58</td><td>0</td><td>18B</td><td>0.00477msec</td></tr><tr><th>7</th><td><div style=\"padding:0\"><span style=\"padding: 5px\"><span>1</span></span><span style=\"padding: 5px\"><span>6</span></span></div></td><td>2021-08-16 21:54:58</td><td>0</td><td>18B</td><td>0.00334msec</td></tr><tr><th>8</th><td><div style=\"padding:0\"><span style=\"padding: 5px\"><span>1</span></span><span style=\"padding: 5px\"><span>7</span></span></div></td><td>2021-08-16 21:54:58</td><td>0</td><td>18B</td><td>0.00286msec</td></tr><tr><th>9</th><td><div style=\"padding:0\"><span style=\"padding: 5px\"><span>1</span></span><span style=\"padding: 5px\"><span>8</span></span></div></td><td>2021-08-16 21:54:59</td><td>0</td><td>18B</td><td>0.00668msec</td></tr><tr><th>10</th><td><div style=\"padding:0\"><span style=\"padding: 5px\"><span>1</span></span><span style=\"padding: 5px\"><span>9</span></span></div></td><td>2021-08-16 21:54:59</td><td>0</td><td>18B</td><td>0.00405msec</td></tr><tr><th>11</th><td><div style=\"padding:0\"><span style=\"padding: 5px\"><span>1</span></span><span style=\"padding: 5px\"><span>10</span></span></div></td><td>2021-08-16 21:54:59</td><td>0</td><td>18B</td><td>0.00358msec</td></tr><tr><th>12</th><td><div style=\"padding:0\"><span style=\"padding: 5px\"><span>1</span></span><span style=\"padding: 5px\"><span>11</span></span></div></td><td>2021-08-16 21:54:59</td><td>0</td><td>18B</td><td>0.00501msec</td></tr><tr><th>13</th><td><div style=\"padding:0\"><span style=\"padding: 5px\"><span>1</span></span><span style=\"padding: 5px\"><span>12</span></span></div></td><td>2021-08-16 21:54:59</td><td>0</td><td>18B</td><td>0.0031msec</td></tr><tr><th>14</th><td><div style=\"padding:0\"><span style=\"padding: 5px\"><span>1</span></span><span style=\"padding: 5px\"><span>13</span></span></div></td><td>2021-08-16 21:54:59</td><td>0</td><td>18B</td><td>0.00334msec</td></tr><tr><th>15</th><td><div style=\"padding:0\"><span style=\"padding: 5px\"><span>1</span></span><span style=\"padding: 5px\"><span>14</span></span></div></td><td>2021-08-16 21:54:59</td><td>0</td><td>18B</td><td>0.00286msec</td></tr></tbody><tfoot></tfoot></table></div></div>\n"
      ],
      "text/plain": [
       "Cache<myutil.demo.cache.simplefunc(x, y=3)>"
      ]
     },
     "execution_count": 5,
     "metadata": {},
     "output_type": "execute_result"
    }
   ],
   "source": [
    "f.cache"
   ]
  },
  {
   "cell_type": "markdown",
   "metadata": {},
   "source": [
    "All cache lookups hit, except last one (for i=15):"
   ]
  },
  {
   "cell_type": "code",
   "execution_count": 6,
   "metadata": {
    "collapsed": false,
    "jupyter": {
     "outputs_hidden": false
    }
   },
   "outputs": [
    {
     "name": "stderr",
     "output_type": "stream",
     "text": [
      "INFO:myutil.cache:Cache<myutil.demo.cache.simplefunc(x, y=3)> HIT(6)\n",
      "INFO:myutil.cache:Cache<myutil.demo.cache.simplefunc(x, y=3)> HIT(7)\n",
      "INFO:myutil.cache:Cache<myutil.demo.cache.simplefunc(x, y=3)> HIT(8)\n",
      "INFO:myutil.cache:Cache<myutil.demo.cache.simplefunc(x, y=3)> HIT(9)\n",
      "INFO:myutil.cache:Cache<myutil.demo.cache.simplefunc(x, y=3)> HIT(10)\n",
      "INFO:myutil.cache:Cache<myutil.demo.cache.simplefunc(x, y=3)> HIT(13)\n",
      "INFO:myutil.cache:Cache<myutil.demo.cache.simplefunc(x, y=3)> HIT(14)\n",
      "INFO:myutil.cache:Cache<myutil.demo.cache.simplefunc(x, y=3)> HIT(15)\n",
      "INFO:myutil.cache:Cache<myutil.demo.cache.simplefunc(x, y=3)> MISS(16)\n"
     ]
    }
   ],
   "source": [
    "for i in range(5,10): f(y=i,x=1)\n",
    "for i in range(12,16): f(1,i)"
   ]
  },
  {
   "cell_type": "code",
   "execution_count": 7,
   "metadata": {
    "collapsed": false,
    "jupyter": {
     "outputs_hidden": false
    },
    "scrolled": true
   },
   "outputs": [
    {
     "data": {
      "text/html": [
       "<div><div><style scoped=\"scoped\">\n",
       "  #myutil1629150922_26989table { border-collapse: collapse; }\n",
       "  #myutil1629150922_26989table > thead > tr > th, #myutil1629150922_26989table > thead > tr > td, #myutil1629150922_26989table > tbody > tr > th, #myutil1629150922_26989table > tbody > tr > td, #myutil1629150922_26989table > tfoot > tr > td  { background-color: white; color:black; text-align: left; vertical-align: top; border: thin solid black; }\n",
       "  #myutil1629150922_26989table > thead > tr > th, #myutil1629150922_26989table > thead > tr > td { background-color: gray; color: white }\n",
       "  #myutil1629150922_26989table > tfoot > tr > td { background-color: #f0f0f0; color: navy; }\n",
       "</style><table id=\"myutil1629150922_26989table\"><thead><tr><td colspan=\"6\">Cache&lt;myutil.demo.cache.simplefunc(x, y=3)&gt;</td></tr><tr><td></td><th>ckey</th><th>tstamp</th><th>hits</th><th>size</th><th>duration</th></tr></thead><tbody><tr><th>1</th><td><div style=\"padding:0\"><span style=\"padding: 5px\"><span>1</span></span><span style=\"padding: 5px\"><span>0</span></span></div></td><td>2021-08-16 21:54:58</td><td>0</td><td>18B</td><td>0.00882msec</td></tr><tr><th>2</th><td><div style=\"padding:0\"><span style=\"padding: 5px\"><span>1</span></span><span style=\"padding: 5px\"><span>1</span></span></div></td><td>2021-08-16 21:54:58</td><td>0</td><td>18B</td><td>0.00429msec</td></tr><tr><th>3</th><td><div style=\"padding:0\"><span style=\"padding: 5px\"><span>1</span></span><span style=\"padding: 5px\"><span>2</span></span></div></td><td>2021-08-16 21:54:58</td><td>0</td><td>18B</td><td>0.00358msec</td></tr><tr><th>4</th><td><div style=\"padding:0\"><span style=\"padding: 5px\"><span>1</span></span><span style=\"padding: 5px\"><span>3</span></span></div></td><td>2021-08-16 21:54:58</td><td>0</td><td>18B</td><td>0.00525msec</td></tr><tr><th>5</th><td><div style=\"padding:0\"><span style=\"padding: 5px\"><span>1</span></span><span style=\"padding: 5px\"><span>4</span></span></div></td><td>2021-08-16 21:54:58</td><td>0</td><td>18B</td><td>0.00501msec</td></tr><tr><th>6</th><td><div style=\"padding:0\"><span style=\"padding: 5px\"><span>1</span></span><span style=\"padding: 5px\"><span>5</span></span></div></td><td>2021-08-16 21:55:21</td><td>1</td><td>18B</td><td>0.00477msec</td></tr><tr><th>7</th><td><div style=\"padding:0\"><span style=\"padding: 5px\"><span>1</span></span><span style=\"padding: 5px\"><span>6</span></span></div></td><td>2021-08-16 21:55:21</td><td>1</td><td>18B</td><td>0.00334msec</td></tr><tr><th>8</th><td><div style=\"padding:0\"><span style=\"padding: 5px\"><span>1</span></span><span style=\"padding: 5px\"><span>7</span></span></div></td><td>2021-08-16 21:55:21</td><td>1</td><td>18B</td><td>0.00286msec</td></tr><tr><th>9</th><td><div style=\"padding:0\"><span style=\"padding: 5px\"><span>1</span></span><span style=\"padding: 5px\"><span>8</span></span></div></td><td>2021-08-16 21:55:21</td><td>1</td><td>18B</td><td>0.00668msec</td></tr><tr><th>10</th><td><div style=\"padding:0\"><span style=\"padding: 5px\"><span>1</span></span><span style=\"padding: 5px\"><span>9</span></span></div></td><td>2021-08-16 21:55:21</td><td>1</td><td>18B</td><td>0.00405msec</td></tr><tr><th>11</th><td><div style=\"padding:0\"><span style=\"padding: 5px\"><span>1</span></span><span style=\"padding: 5px\"><span>10</span></span></div></td><td>2021-08-16 21:54:59</td><td>0</td><td>18B</td><td>0.00358msec</td></tr><tr><th>12</th><td><div style=\"padding:0\"><span style=\"padding: 5px\"><span>1</span></span><span style=\"padding: 5px\"><span>11</span></span></div></td><td>2021-08-16 21:54:59</td><td>0</td><td>18B</td><td>0.00501msec</td></tr><tr><th>13</th><td><div style=\"padding:0\"><span style=\"padding: 5px\"><span>1</span></span><span style=\"padding: 5px\"><span>12</span></span></div></td><td>2021-08-16 21:55:21</td><td>1</td><td>18B</td><td>0.0031msec</td></tr><tr><th>14</th><td><div style=\"padding:0\"><span style=\"padding: 5px\"><span>1</span></span><span style=\"padding: 5px\"><span>13</span></span></div></td><td>2021-08-16 21:55:21</td><td>1</td><td>18B</td><td>0.00334msec</td></tr><tr><th>15</th><td><div style=\"padding:0\"><span style=\"padding: 5px\"><span>1</span></span><span style=\"padding: 5px\"><span>14</span></span></div></td><td>2021-08-16 21:55:21</td><td>1</td><td>18B</td><td>0.00286msec</td></tr><tr><th>16</th><td><div style=\"padding:0\"><span style=\"padding: 5px\"><span>1</span></span><span style=\"padding: 5px\"><span>15</span></span></div></td><td>2021-08-16 21:55:21</td><td>0</td><td>18B</td><td>0.00334msec</td></tr></tbody><tfoot></tfoot></table></div></div>\n"
      ],
      "text/plain": [
       "Cache<myutil.demo.cache.simplefunc(x, y=3)>"
      ]
     },
     "execution_count": 7,
     "metadata": {},
     "output_type": "execute_result"
    }
   ],
   "source": [
    "f.cache"
   ]
  },
  {
   "cell_type": "code",
   "execution_count": 8,
   "metadata": {
    "collapsed": false,
    "jupyter": {
     "outputs_hidden": false
    }
   },
   "outputs": [
    {
     "name": "stderr",
     "output_type": "stream",
     "text": [
      "INFO:myutil.cache:Cache<myutil.demo.cache.simplefunc(x, y=3)> DELETED(12)\n"
     ]
    },
    {
     "data": {
      "text/html": [
       "<div><div><style scoped=\"scoped\">\n",
       "  #myutil1629150930_0155478table { border-collapse: collapse; }\n",
       "  #myutil1629150930_0155478table > thead > tr > th, #myutil1629150930_0155478table > thead > tr > td, #myutil1629150930_0155478table > tbody > tr > th, #myutil1629150930_0155478table > tbody > tr > td, #myutil1629150930_0155478table > tfoot > tr > td  { background-color: white; color:black; text-align: left; vertical-align: top; border: thin solid black; }\n",
       "  #myutil1629150930_0155478table > thead > tr > th, #myutil1629150930_0155478table > thead > tr > td { background-color: gray; color: white }\n",
       "  #myutil1629150930_0155478table > tfoot > tr > td { background-color: #f0f0f0; color: navy; }\n",
       "</style><table id=\"myutil1629150930_0155478table\"><thead><tr><td colspan=\"6\">Cache&lt;myutil.demo.cache.simplefunc(x, y=3)&gt;</td></tr><tr><td></td><th>ckey</th><th>tstamp</th><th>hits</th><th>size</th><th>duration</th></tr></thead><tbody><tr><th>13</th><td><div style=\"padding:0\"><span style=\"padding: 5px\"><span>1</span></span><span style=\"padding: 5px\"><span>12</span></span></div></td><td>2021-08-16 21:55:21</td><td>1</td><td>18B</td><td>0.0031msec</td></tr><tr><th>14</th><td><div style=\"padding:0\"><span style=\"padding: 5px\"><span>1</span></span><span style=\"padding: 5px\"><span>13</span></span></div></td><td>2021-08-16 21:55:21</td><td>1</td><td>18B</td><td>0.00334msec</td></tr><tr><th>15</th><td><div style=\"padding:0\"><span style=\"padding: 5px\"><span>1</span></span><span style=\"padding: 5px\"><span>14</span></span></div></td><td>2021-08-16 21:55:21</td><td>1</td><td>18B</td><td>0.00286msec</td></tr><tr><th>16</th><td><div style=\"padding:0\"><span style=\"padding: 5px\"><span>1</span></span><span style=\"padding: 5px\"><span>15</span></span></div></td><td>2021-08-16 21:55:21</td><td>0</td><td>18B</td><td>0.00334msec</td></tr></tbody><tfoot></tfoot></table></div></div>\n"
      ],
      "text/plain": [
       "Cache<myutil.demo.cache.simplefunc(x, y=3)>"
      ]
     },
     "execution_count": 8,
     "metadata": {},
     "output_type": "execute_result"
    }
   ],
   "source": [
    "f.cache.clear_overflow(4)\n",
    "f.cache"
   ]
  },
  {
   "cell_type": "markdown",
   "metadata": {},
   "source": [
    "## Error management\n",
    "Restart kernel before run."
   ]
  },
  {
   "cell_type": "code",
   "execution_count": 9,
   "metadata": {
    "collapsed": false,
    "jupyter": {
     "outputs_hidden": false
    }
   },
   "outputs": [
    {
     "name": "stdout",
     "output_type": "stream",
     "text": [
      "BlockInfo(hits=0, ncell=0, ncell_error=0, ncell_pending=0)\n"
     ]
    }
   ],
   "source": [
    "import logging\n",
    "logging.basicConfig(level='INFO')\n",
    "from myutil.demo.cache import longfunc\n",
    "longfunc.cache.clear()\n",
    "print(longfunc.cache.info())\n",
    "class timing:\n",
    "    def __enter__(self): from time import perf_counter; self.time = perf_counter(); return self\n",
    "    def __exit__(self,*a): from time import perf_counter; self.time = perf_counter()-self.time"
   ]
  },
  {
   "cell_type": "markdown",
   "metadata": {},
   "source": [
    "Cache lookup misses (if cache was cleared).\n",
    "Execution lasts 3 seconds and raises exception, which is cached.\n",
    "On second iteration, cache hits and exception is directly raised."
   ]
  },
  {
   "cell_type": "code",
   "execution_count": 10,
   "metadata": {
    "collapsed": false,
    "jupyter": {
     "outputs_hidden": false
    }
   },
   "outputs": [
    {
     "name": "stdout",
     "output_type": "stream",
     "text": [
      "Iteration 1..."
     ]
    },
    {
     "name": "stderr",
     "output_type": "stream",
     "text": [
      "INFO:myutil.cache:Cache<myutil.demo.cache.longfunc(x, delay=10)> MISS(17)\n"
     ]
    },
    {
     "name": "stdout",
     "output_type": "stream",
     "text": [
      "result: Exception[longfunc error] (3.0sec)\n",
      "Iteration 2..."
     ]
    },
    {
     "name": "stderr",
     "output_type": "stream",
     "text": [
      "INFO:myutil.cache:Cache<myutil.demo.cache.longfunc(x, delay=10)> HIT(17)\n"
     ]
    },
    {
     "name": "stdout",
     "output_type": "stream",
     "text": [
      "result: Exception[longfunc error] (0.0sec)\n"
     ]
    }
   ],
   "source": [
    "for i in range(1,3):\n",
    "    print('Iteration',i,end='...',flush=True)\n",
    "    with timing() as T:\n",
    "        try: v = longfunc(None,3)\n",
    "        except Exception as e: v = 'Exception[{}]'.format(e)\n",
    "    print('result:',v,'({:.01f}sec)'.format(T.time),flush=True)"
   ]
  },
  {
   "cell_type": "markdown",
   "metadata": {},
   "source": [
    "Note that cache values which are exceptions are marked with a star in the size column."
   ]
  },
  {
   "cell_type": "code",
   "execution_count": 11,
   "metadata": {
    "collapsed": false,
    "jupyter": {
     "outputs_hidden": false
    }
   },
   "outputs": [
    {
     "data": {
      "text/html": [
       "<div><div><style scoped=\"scoped\">\n",
       "  #myutil1629150953_6594152table { border-collapse: collapse; }\n",
       "  #myutil1629150953_6594152table > thead > tr > th, #myutil1629150953_6594152table > thead > tr > td, #myutil1629150953_6594152table > tbody > tr > th, #myutil1629150953_6594152table > tbody > tr > td, #myutil1629150953_6594152table > tfoot > tr > td  { background-color: white; color:black; text-align: left; vertical-align: top; border: thin solid black; }\n",
       "  #myutil1629150953_6594152table > thead > tr > th, #myutil1629150953_6594152table > thead > tr > td { background-color: gray; color: white }\n",
       "  #myutil1629150953_6594152table > tfoot > tr > td { background-color: #f0f0f0; color: navy; }\n",
       "</style><table id=\"myutil1629150953_6594152table\"><thead><tr><td colspan=\"6\">Cache&lt;myutil.demo.cache.longfunc(x, delay=10)&gt;</td></tr><tr><td></td><th>ckey</th><th>tstamp</th><th>hits</th><th>size</th><th>duration</th></tr></thead><tbody><tr><th>17</th><td><div style=\"padding:0\"><span style=\"padding: 5px\"><span>None</span></span><span style=\"padding: 5px\"><span>3</span></span></div></td><td>2021-08-16 21:55:46</td><td>1</td><td>*58B</td><td>3.00sec</td></tr></tbody><tfoot></tfoot></table></div></div>\n"
      ],
      "text/plain": [
       "Cache<myutil.demo.cache.longfunc(x, delay=10)>"
      ]
     },
     "execution_count": 11,
     "metadata": {},
     "output_type": "execute_result"
    }
   ],
   "source": [
    "longfunc.cache"
   ]
  },
  {
   "cell_type": "markdown",
   "metadata": {},
   "source": [
    "Now, interrupt execution for 42,5 in iteration 1. The ``KeyboardInterrupt`` exception is cached. The ``clear_error`` call will clear that cached value so iteration 2 will complete successufully."
   ]
  },
  {
   "cell_type": "code",
   "execution_count": 12,
   "metadata": {
    "collapsed": false,
    "jupyter": {
     "outputs_hidden": false
    }
   },
   "outputs": [
    {
     "name": "stdout",
     "output_type": "stream",
     "text": [
      "Iteration 1 (36, 2)..."
     ]
    },
    {
     "name": "stderr",
     "output_type": "stream",
     "text": [
      "INFO:myutil.cache:Cache<myutil.demo.cache.longfunc(x, delay=10)> MISS(18)\n"
     ]
    },
    {
     "name": "stdout",
     "output_type": "stream",
     "text": [
      "result: 36 (2.0sec)\n",
      "Iteration 1 (42, 5)..."
     ]
    },
    {
     "name": "stderr",
     "output_type": "stream",
     "text": [
      "INFO:myutil.cache:Cache<myutil.demo.cache.longfunc(x, delay=10)> MISS(19)\n"
     ]
    },
    {
     "name": "stdout",
     "output_type": "stream",
     "text": [
      "result: Exception[] (4.7sec)\n"
     ]
    },
    {
     "name": "stderr",
     "output_type": "stream",
     "text": [
      "INFO:myutil.cache:Cache<myutil.demo.cache.longfunc(x, delay=10)> DELETED(2)\n"
     ]
    },
    {
     "name": "stdout",
     "output_type": "stream",
     "text": [
      "Iteration 2 (36, 2)..."
     ]
    },
    {
     "name": "stderr",
     "output_type": "stream",
     "text": [
      "INFO:myutil.cache:Cache<myutil.demo.cache.longfunc(x, delay=10)> HIT(18)\n"
     ]
    },
    {
     "name": "stdout",
     "output_type": "stream",
     "text": [
      "result: 36 (0.0sec)\n",
      "Iteration 2 (42, 5)..."
     ]
    },
    {
     "name": "stderr",
     "output_type": "stream",
     "text": [
      "INFO:myutil.cache:Cache<myutil.demo.cache.longfunc(x, delay=10)> MISS(20)\n"
     ]
    },
    {
     "name": "stdout",
     "output_type": "stream",
     "text": [
      "result: 42 (5.0sec)\n"
     ]
    }
   ],
   "source": [
    "for i in range(1,3):\n",
    "    for x,t in (36,2),(42,5):\n",
    "        print('Iteration',i,(x,t),end='...',flush=True)\n",
    "        with timing() as T:\n",
    "            try: v = longfunc(x,t)\n",
    "            except BaseException as e: v = 'Exception[{}]'.format(e)\n",
    "        print('result:',v,'({:.01f}sec)'.format(T.time),flush=True)\n",
    "    longfunc.cache.clear_error()"
   ]
  },
  {
   "cell_type": "code",
   "execution_count": 13,
   "metadata": {
    "collapsed": false,
    "jupyter": {
     "outputs_hidden": false
    }
   },
   "outputs": [
    {
     "data": {
      "text/html": [
       "<div><div><style scoped=\"scoped\">\n",
       "  #myutil1629151011_251674table { border-collapse: collapse; }\n",
       "  #myutil1629151011_251674table > thead > tr > th, #myutil1629151011_251674table > thead > tr > td, #myutil1629151011_251674table > tbody > tr > th, #myutil1629151011_251674table > tbody > tr > td, #myutil1629151011_251674table > tfoot > tr > td  { background-color: white; color:black; text-align: left; vertical-align: top; border: thin solid black; }\n",
       "  #myutil1629151011_251674table > thead > tr > th, #myutil1629151011_251674table > thead > tr > td { background-color: gray; color: white }\n",
       "  #myutil1629151011_251674table > tfoot > tr > td { background-color: #f0f0f0; color: navy; }\n",
       "</style><table id=\"myutil1629151011_251674table\"><thead><tr><td colspan=\"6\">Cache&lt;myutil.demo.cache.longfunc(x, delay=10)&gt;</td></tr><tr><td></td><th>ckey</th><th>tstamp</th><th>hits</th><th>size</th><th>duration</th></tr></thead><tbody><tr><th>18</th><td><div style=\"padding:0\"><span style=\"padding: 5px\"><span>36</span></span><span style=\"padding: 5px\"><span>2</span></span></div></td><td>2021-08-16 21:56:36</td><td>1</td><td>5B</td><td>2.00sec</td></tr><tr><th>20</th><td><div style=\"padding:0\"><span style=\"padding: 5px\"><span>42</span></span><span style=\"padding: 5px\"><span>5</span></span></div></td><td>2021-08-16 21:56:41</td><td>0</td><td>5B</td><td>5.01sec</td></tr></tbody><tfoot></tfoot></table></div></div>\n"
      ],
      "text/plain": [
       "Cache<myutil.demo.cache.longfunc(x, delay=10)>"
      ]
     },
     "execution_count": 13,
     "metadata": {},
     "output_type": "execute_result"
    }
   ],
   "source": [
    "longfunc.cache"
   ]
  },
  {
   "cell_type": "markdown",
   "metadata": {},
   "source": [
    "## Processes\n",
    "\n",
    "Restart the kernel before run."
   ]
  },
  {
   "cell_type": "code",
   "execution_count": 1,
   "metadata": {
    "collapsed": false,
    "jupyter": {
     "outputs_hidden": false
    }
   },
   "outputs": [],
   "source": [
    "import logging\n",
    "logging.basicConfig(level='INFO')\n",
    "from myutil.demo.cache import proc, stepK\n",
    "#stepK.cache.clear() # un/comment to clear/keep cache from previous run\n",
    "e = proc()"
   ]
  },
  {
   "cell_type": "code",
   "execution_count": 2,
   "metadata": {
    "collapsed": false,
    "jupyter": {
     "outputs_hidden": false
    }
   },
   "outputs": [
    {
     "name": "stderr",
     "output_type": "stream",
     "text": [
      "INFO:myutil.cache:Cache<myutil.demo.cache.stepK(E, fr=None, to=None, r=None)> MISS(21)\n",
      "INFO:myutil.cache:Cache<myutil.demo.cache.stepK(E, fr=None, to=None, r=None)> MISS(22)\n",
      "INFO:myutil.cache:Cache<myutil.demo.cache.stepI(d, **ini)> MISS(23)\n",
      "INFO:myutil.cache:Cache<myutil.demo.cache.stepK(E, fr=None, to=None, r=None)> MISS(24)\n"
     ]
    },
    {
     "data": {
      "text/plain": [
       "'K(K(I(a*),I(b*),ab),K(I(b*),I(c*),bc),abc)'"
      ]
     },
     "execution_count": 2,
     "metadata": {},
     "output_type": "execute_result"
    }
   ],
   "source": [
    "e['abc']"
   ]
  },
  {
   "cell_type": "code",
   "execution_count": 3,
   "metadata": {
    "collapsed": false,
    "jupyter": {
     "outputs_hidden": false
    }
   },
   "outputs": [
    {
     "data": {
      "text/html": [
       "<div><style scoped=\"scoped\">\n",
       "#myutil1629151107_1339202htmlplugin { border-collapse: collapse; }\n",
       "#myutil1629151107_1339202htmlplugin > thead > tr > td, #myutil1629151107_1339202htmlplugin > tbody > tr > td { border: thin solid; text-align:left; }\n",
       "#myutil1629151107_1339202htmlplugin > thead > tr { border-bottom: thick solid; }\n",
       "#myutil1629151107_1339202htmlplugin > thead > tr > td > div, #myutil1629151107_1339202htmlplugin > tbody > tr > td > div { padding:0; max-height: 5cm; overflow-y: auto; }\n",
       "#myutil1629151107_1339202htmlplugin span.pointer { padding: 0; color: blue; background-color: #e0e0e0; font-weight:bold; }\n",
       "</style><table id=\"myutil1629151107_1339202htmlplugin\"><thead><tr><td colspan=\"2\"><div><div><style scoped=\"scoped\">\n",
       "  #myutil1629151107_1347575table { border-collapse: collapse; }\n",
       "  #myutil1629151107_1347575table > thead > tr > th, #myutil1629151107_1347575table > thead > tr > td, #myutil1629151107_1347575table > tbody > tr > th, #myutil1629151107_1347575table > tbody > tr > td, #myutil1629151107_1347575table > tfoot > tr > td  { background-color: white; color:black; text-align: left; vertical-align: top; border: thin solid black; }\n",
       "  #myutil1629151107_1347575table > thead > tr > th, #myutil1629151107_1347575table > thead > tr > td { background-color: gray; color: white }\n",
       "  #myutil1629151107_1347575table > tfoot > tr > td { background-color: #f0f0f0; color: navy; }\n",
       "</style><table id=\"myutil1629151107_1347575table\"><thead><tr><td colspan=\"6\">Cache&lt;myutil.demo.cache.stepK(E, fr=None, to=None, r=None)&gt;</td></tr><tr><td></td><th>ckey</th><th>tstamp</th><th>hits</th><th>size</th><th>duration</th></tr></thead><tbody><tr><th>21</th><td><div style=\"padding:0\"><span style=\"padding: 5px\"><span onmouseenter=\"document.getElementById('myutil1629151107_1339202htmlplugin').rows[1].style.outline='thin solid red'\" onmouseleave=\"document.getElementById('myutil1629151107_1339202htmlplugin').rows[1].style.outline=''\" onclick=\"document.getElementById('myutil1629151107_1339202htmlplugin').rows[1].scrollIntoView()\" class=\"pointer\">?1</span></span><span style=\"padding: 5px\"><span>('ab', 'bc')</span></span><span style=\"padding: 5px\"><span>'abc'</span></span><span style=\"padding: 5px\"><span>'abc'</span></span></div></td><td>2021-08-16 21:58:19</td><td>0</td><td>311B</td><td> 52msec</td></tr><tr><th>22</th><td><div style=\"padding:0\"><span style=\"padding: 5px\"><span onmouseenter=\"document.getElementById('myutil1629151107_1339202htmlplugin').rows[3].style.outline='thin solid red'\" onmouseleave=\"document.getElementById('myutil1629151107_1339202htmlplugin').rows[3].style.outline=''\" onclick=\"document.getElementById('myutil1629151107_1339202htmlplugin').rows[3].scrollIntoView()\" class=\"pointer\">?3</span></span><span style=\"padding: 5px\"><span>('a', 'b')</span></span><span style=\"padding: 5px\"><span>'ab'</span></span><span style=\"padding: 5px\"><span>'ab'</span></span></div></td><td>2021-08-16 21:58:19</td><td>0</td><td>174B</td><td>16.9msec</td></tr><tr><th>24</th><td><div style=\"padding:0\"><span style=\"padding: 5px\"><span onmouseenter=\"document.getElementById('myutil1629151107_1339202htmlplugin').rows[3].style.outline='thin solid red'\" onmouseleave=\"document.getElementById('myutil1629151107_1339202htmlplugin').rows[3].style.outline=''\" onclick=\"document.getElementById('myutil1629151107_1339202htmlplugin').rows[3].scrollIntoView()\" class=\"pointer\">?3</span></span><span style=\"padding: 5px\"><span>('b', 'c')</span></span><span style=\"padding: 5px\"><span>'bc'</span></span><span style=\"padding: 5px\"><span>'bc'</span></span></div></td><td>2021-08-16 21:58:19</td><td>0</td><td>174B</td><td>0.0126msec</td></tr></tbody><tfoot></tfoot></table></div></div></td></tr></thead><tbody><tr><td><span class=\"pointer\">?1</span></td><td><div><div style=\"padding:0\"><em style=\"padding:5px;\">&lt;class 'collections.ChainMap'&gt;</em><b>[</b><span style=\"padding: 5px\"><span onmouseenter=\"document.getElementById('myutil1629151107_1339202htmlplugin').rows[2].style.outline='thin solid red'\" onmouseleave=\"document.getElementById('myutil1629151107_1339202htmlplugin').rows[2].style.outline=''\" onclick=\"document.getElementById('myutil1629151107_1339202htmlplugin').rows[2].scrollIntoView()\" class=\"pointer\">?2</span></span><span style=\"padding: 5px\"><span onmouseenter=\"document.getElementById('myutil1629151107_1339202htmlplugin').rows[4].style.outline='thin solid red'\" onmouseleave=\"document.getElementById('myutil1629151107_1339202htmlplugin').rows[4].style.outline=''\" onclick=\"document.getElementById('myutil1629151107_1339202htmlplugin').rows[4].scrollIntoView()\" class=\"pointer\">?4</span></span><b>]</b></div></div></td></tr><tr><td><span class=\"pointer\">?2</span></td><td><div><div style=\"padding:0\"><em style=\"padding:5px;\">myutil.demo.cache.stepK</em><b>[</b><span style=\"padding: 5px\"><span onmouseenter=\"document.getElementById('myutil1629151107_1339202htmlplugin').rows[3].style.outline='thin solid red'\" onmouseleave=\"document.getElementById('myutil1629151107_1339202htmlplugin').rows[3].style.outline=''\" onclick=\"document.getElementById('myutil1629151107_1339202htmlplugin').rows[3].scrollIntoView()\" class=\"pointer\">?3</span></span><span style=\"padding: 5px\"><b>fr</b>=<span>('a', 'b')</span></span><span style=\"padding: 5px\"><b>r</b>=<span>'ab'</span></span><span style=\"padding: 5px\"><b>to</b>=<span>'ab'</span></span><b>]</b></div></div></td></tr><tr><td><span class=\"pointer\">?3</span></td><td><div><div style=\"padding:0\"><em style=\"padding:5px;\">myutil.demo.cache.stepI</em><b>[</b><span style=\"padding: 5px\"><span>'*'</span></span><span style=\"padding: 5px\"><b>a</b>=<span>'a'</span></span><span style=\"padding: 5px\"><b>b</b>=<span>'b'</span></span><span style=\"padding: 5px\"><b>c</b>=<span>'c'</span></span><b>]</b></div></div></td></tr><tr><td><span class=\"pointer\">?4</span></td><td><div><div style=\"padding:0\"><em style=\"padding:5px;\">myutil.demo.cache.stepK</em><b>[</b><span style=\"padding: 5px\"><span onmouseenter=\"document.getElementById('myutil1629151107_1339202htmlplugin').rows[3].style.outline='thin solid red'\" onmouseleave=\"document.getElementById('myutil1629151107_1339202htmlplugin').rows[3].style.outline=''\" onclick=\"document.getElementById('myutil1629151107_1339202htmlplugin').rows[3].scrollIntoView()\" class=\"pointer\">?3</span></span><span style=\"padding: 5px\"><b>fr</b>=<span>('b', 'c')</span></span><span style=\"padding: 5px\"><b>r</b>=<span>'bc'</span></span><span style=\"padding: 5px\"><b>to</b>=<span>'bc'</span></span><b>]</b></div></div></td></tr></tbody></table></div>\n"
      ],
      "text/plain": [
       "Cache<myutil.demo.cache.stepK(E, fr=None, to=None, r=None)>"
      ]
     },
     "execution_count": 3,
     "metadata": {},
     "output_type": "execute_result"
    }
   ],
   "source": [
    "stepK.cache"
   ]
  },
  {
   "cell_type": "markdown",
   "metadata": {},
   "source": [
    "## Direct cache content display"
   ]
  },
  {
   "cell_type": "code",
   "execution_count": 4,
   "metadata": {
    "collapsed": false,
    "jupyter": {
     "outputs_hidden": false
    },
    "scrolled": true
   },
   "outputs": [
    {
     "name": "stderr",
     "output_type": "stream",
     "text": [
      "INFO:myutil.cache:Cache</home/andreoli/src/PYTOOLS/demo/cache.dir> DELETED(1)\n"
     ]
    },
    {
     "name": "stdout",
     "output_type": "stream",
     "text": [
      "Obsolete (deleted): 1\n"
     ]
    },
    {
     "data": {
      "text/html": [
       "<div><style scoped=\"scoped\">\n",
       "#myutil1629151127_324215htmlplugin { border-collapse: collapse; }\n",
       "#myutil1629151127_324215htmlplugin > thead > tr > td, #myutil1629151127_324215htmlplugin > tbody > tr > td { border: thin solid; text-align:left; }\n",
       "#myutil1629151127_324215htmlplugin > thead > tr { border-bottom: thick solid; }\n",
       "#myutil1629151127_324215htmlplugin > thead > tr > td > div, #myutil1629151127_324215htmlplugin > tbody > tr > td > div { padding:0; max-height: 5cm; overflow-y: auto; }\n",
       "#myutil1629151127_324215htmlplugin span.pointer { padding: 0; color: blue; background-color: #e0e0e0; font-weight:bold; }\n",
       "</style><table id=\"myutil1629151127_324215htmlplugin\"><thead><tr><td colspan=\"2\"><div><div><style scoped=\"scoped\">\n",
       "  #myutil1629151127_3251636table { border-collapse: collapse; }\n",
       "  #myutil1629151127_3251636table > thead > tr > th, #myutil1629151127_3251636table > thead > tr > td, #myutil1629151127_3251636table > tbody > tr > th, #myutil1629151127_3251636table > tbody > tr > td, #myutil1629151127_3251636table > tfoot > tr > td  { background-color: white; color:black; text-align: left; vertical-align: top; border: thin solid black; }\n",
       "  #myutil1629151127_3251636table > thead > tr > th, #myutil1629151127_3251636table > thead > tr > td { background-color: gray; color: white }\n",
       "  #myutil1629151127_3251636table > tfoot > tr > td { background-color: #f0f0f0; color: navy; }\n",
       "</style><table id=\"myutil1629151127_3251636table\"><thead><tr><td colspan=\"2\">Cache&lt;/home/andreoli/src/PYTOOLS/demo/cache.dir&gt;</td></tr></thead><tbody><tr><th>1</th><td><div><style scoped=\"scoped\">\n",
       "  #myutil1629151127_325744table { border-collapse: collapse; }\n",
       "  #myutil1629151127_325744table > thead > tr > th, #myutil1629151127_325744table > thead > tr > td, #myutil1629151127_325744table > tbody > tr > th, #myutil1629151127_325744table > tbody > tr > td, #myutil1629151127_325744table > tfoot > tr > td  { background-color: white; color:black; text-align: left; vertical-align: top; border: thin solid black; }\n",
       "  #myutil1629151127_325744table > thead > tr > th, #myutil1629151127_325744table > thead > tr > td { background-color: gray; color: white }\n",
       "  #myutil1629151127_325744table > tfoot > tr > td { background-color: #f0f0f0; color: navy; }\n",
       "</style><table id=\"myutil1629151127_325744table\"><thead><tr><td colspan=\"6\">Cache&lt;myutil.demo.cache.simplefunc(x, y=3)&gt;</td></tr><tr><td></td><th>ckey</th><th>tstamp</th><th>hits</th><th>size</th><th>duration</th></tr></thead><tbody><tr><th>13</th><td><div style=\"padding:0\"><span style=\"padding: 5px\"><span>1</span></span><span style=\"padding: 5px\"><span>12</span></span></div></td><td>2021-08-16 21:55:21</td><td>1</td><td>18B</td><td>0.0031msec</td></tr><tr><th>14</th><td><div style=\"padding:0\"><span style=\"padding: 5px\"><span>1</span></span><span style=\"padding: 5px\"><span>13</span></span></div></td><td>2021-08-16 21:55:21</td><td>1</td><td>18B</td><td>0.00334msec</td></tr><tr><th>15</th><td><div style=\"padding:0\"><span style=\"padding: 5px\"><span>1</span></span><span style=\"padding: 5px\"><span>14</span></span></div></td><td>2021-08-16 21:55:21</td><td>1</td><td>18B</td><td>0.00286msec</td></tr><tr><th>16</th><td><div style=\"padding:0\"><span style=\"padding: 5px\"><span>1</span></span><span style=\"padding: 5px\"><span>15</span></span></div></td><td>2021-08-16 21:55:21</td><td>0</td><td>18B</td><td>0.00334msec</td></tr></tbody><tfoot></tfoot></table></div></td></tr><tr><th>2</th><td><div><style scoped=\"scoped\">\n",
       "  #myutil1629151127_3267798table { border-collapse: collapse; }\n",
       "  #myutil1629151127_3267798table > thead > tr > th, #myutil1629151127_3267798table > thead > tr > td, #myutil1629151127_3267798table > tbody > tr > th, #myutil1629151127_3267798table > tbody > tr > td, #myutil1629151127_3267798table > tfoot > tr > td  { background-color: white; color:black; text-align: left; vertical-align: top; border: thin solid black; }\n",
       "  #myutil1629151127_3267798table > thead > tr > th, #myutil1629151127_3267798table > thead > tr > td { background-color: gray; color: white }\n",
       "  #myutil1629151127_3267798table > tfoot > tr > td { background-color: #f0f0f0; color: navy; }\n",
       "</style><table id=\"myutil1629151127_3267798table\"><thead><tr><td colspan=\"6\">Cache&lt;myutil.demo.cache.longfunc(x, delay=10)&gt;</td></tr><tr><td></td><th>ckey</th><th>tstamp</th><th>hits</th><th>size</th><th>duration</th></tr></thead><tbody><tr><th>18</th><td><div style=\"padding:0\"><span style=\"padding: 5px\"><span>36</span></span><span style=\"padding: 5px\"><span>2</span></span></div></td><td>2021-08-16 21:56:36</td><td>1</td><td>5B</td><td>2.00sec</td></tr><tr><th>20</th><td><div style=\"padding:0\"><span style=\"padding: 5px\"><span>42</span></span><span style=\"padding: 5px\"><span>5</span></span></div></td><td>2021-08-16 21:56:41</td><td>0</td><td>5B</td><td>5.01sec</td></tr></tbody><tfoot></tfoot></table></div></td></tr><tr><th>4</th><td><div><style scoped=\"scoped\">\n",
       "  #myutil1629151127_3276334table { border-collapse: collapse; }\n",
       "  #myutil1629151127_3276334table > thead > tr > th, #myutil1629151127_3276334table > thead > tr > td, #myutil1629151127_3276334table > tbody > tr > th, #myutil1629151127_3276334table > tbody > tr > td, #myutil1629151127_3276334table > tfoot > tr > td  { background-color: white; color:black; text-align: left; vertical-align: top; border: thin solid black; }\n",
       "  #myutil1629151127_3276334table > thead > tr > th, #myutil1629151127_3276334table > thead > tr > td { background-color: gray; color: white }\n",
       "  #myutil1629151127_3276334table > tfoot > tr > td { background-color: #f0f0f0; color: navy; }\n",
       "</style><table id=\"myutil1629151127_3276334table\"><thead><tr><td colspan=\"6\">Cache&lt;myutil.demo.cache.stepI(d, **ini)&gt;</td></tr><tr><td></td><th>ckey</th><th>tstamp</th><th>hits</th><th>size</th><th>duration</th></tr></thead><tbody><tr><th>23</th><td><div style=\"padding:0\"><span style=\"padding: 5px\"><span>'*'</span></span><span style=\"padding: 5px\"><b>a</b>=<span>'a'</span></span><span style=\"padding: 5px\"><b>b</b>=<span>'b'</span></span><span style=\"padding: 5px\"><b>c</b>=<span>'c'</span></span></div></td><td>2021-08-16 21:58:19</td><td>0</td><td>52B</td><td>0.0112msec</td></tr></tbody><tfoot></tfoot></table></div></td></tr><tr><th>5</th><td><div><style scoped=\"scoped\">\n",
       "  #myutil1629151127_328416table { border-collapse: collapse; }\n",
       "  #myutil1629151127_328416table > thead > tr > th, #myutil1629151127_328416table > thead > tr > td, #myutil1629151127_328416table > tbody > tr > th, #myutil1629151127_328416table > tbody > tr > td, #myutil1629151127_328416table > tfoot > tr > td  { background-color: white; color:black; text-align: left; vertical-align: top; border: thin solid black; }\n",
       "  #myutil1629151127_328416table > thead > tr > th, #myutil1629151127_328416table > thead > tr > td { background-color: gray; color: white }\n",
       "  #myutil1629151127_328416table > tfoot > tr > td { background-color: #f0f0f0; color: navy; }\n",
       "</style><table id=\"myutil1629151127_328416table\"><thead><tr><td colspan=\"6\">Cache&lt;myutil.demo.cache.stepK(E, fr=None, to=None, r=None)&gt;</td></tr><tr><td></td><th>ckey</th><th>tstamp</th><th>hits</th><th>size</th><th>duration</th></tr></thead><tbody><tr><th>21</th><td><div style=\"padding:0\"><span style=\"padding: 5px\"><span onmouseenter=\"document.getElementById('myutil1629151127_324215htmlplugin').rows[1].style.outline='thin solid red'\" onmouseleave=\"document.getElementById('myutil1629151127_324215htmlplugin').rows[1].style.outline=''\" onclick=\"document.getElementById('myutil1629151127_324215htmlplugin').rows[1].scrollIntoView()\" class=\"pointer\">?1</span></span><span style=\"padding: 5px\"><span>('ab', 'bc')</span></span><span style=\"padding: 5px\"><span>'abc'</span></span><span style=\"padding: 5px\"><span>'abc'</span></span></div></td><td>2021-08-16 21:58:19</td><td>0</td><td>311B</td><td> 52msec</td></tr><tr><th>22</th><td><div style=\"padding:0\"><span style=\"padding: 5px\"><span onmouseenter=\"document.getElementById('myutil1629151127_324215htmlplugin').rows[3].style.outline='thin solid red'\" onmouseleave=\"document.getElementById('myutil1629151127_324215htmlplugin').rows[3].style.outline=''\" onclick=\"document.getElementById('myutil1629151127_324215htmlplugin').rows[3].scrollIntoView()\" class=\"pointer\">?3</span></span><span style=\"padding: 5px\"><span>('a', 'b')</span></span><span style=\"padding: 5px\"><span>'ab'</span></span><span style=\"padding: 5px\"><span>'ab'</span></span></div></td><td>2021-08-16 21:58:19</td><td>0</td><td>174B</td><td>16.9msec</td></tr><tr><th>24</th><td><div style=\"padding:0\"><span style=\"padding: 5px\"><span onmouseenter=\"document.getElementById('myutil1629151127_324215htmlplugin').rows[3].style.outline='thin solid red'\" onmouseleave=\"document.getElementById('myutil1629151127_324215htmlplugin').rows[3].style.outline=''\" onclick=\"document.getElementById('myutil1629151127_324215htmlplugin').rows[3].scrollIntoView()\" class=\"pointer\">?3</span></span><span style=\"padding: 5px\"><span>('b', 'c')</span></span><span style=\"padding: 5px\"><span>'bc'</span></span><span style=\"padding: 5px\"><span>'bc'</span></span></div></td><td>2021-08-16 21:58:19</td><td>0</td><td>174B</td><td>0.0126msec</td></tr></tbody><tfoot></tfoot></table></div></td></tr><tr><th>6</th><td><div><style scoped=\"scoped\">\n",
       "  #myutil1629151127_3298168table { border-collapse: collapse; }\n",
       "  #myutil1629151127_3298168table > thead > tr > th, #myutil1629151127_3298168table > thead > tr > td, #myutil1629151127_3298168table > tbody > tr > th, #myutil1629151127_3298168table > tbody > tr > td, #myutil1629151127_3298168table > tfoot > tr > td  { background-color: white; color:black; text-align: left; vertical-align: top; border: thin solid black; }\n",
       "  #myutil1629151127_3298168table > thead > tr > th, #myutil1629151127_3298168table > thead > tr > td { background-color: gray; color: white }\n",
       "  #myutil1629151127_3298168table > tfoot > tr > td { background-color: #f0f0f0; color: navy; }\n",
       "</style><table id=\"myutil1629151127_3298168table\"><thead><tr><td colspan=\"6\">Cache&lt;myutil.demo.cache.vfunc{62270}(x)&gt;</td></tr><tr><td></td><th>ckey</th><th>tstamp</th><th>hits</th><th>size</th><th>duration</th></tr></thead><tbody></tbody><tfoot></tfoot></table></div></td></tr></tbody><tfoot></tfoot></table></div></div></td></tr></thead><tbody><tr><td><span class=\"pointer\">?1</span></td><td><div><div style=\"padding:0\"><em style=\"padding:5px;\">&lt;class 'collections.ChainMap'&gt;</em><b>[</b><span style=\"padding: 5px\"><span onmouseenter=\"document.getElementById('myutil1629151127_324215htmlplugin').rows[2].style.outline='thin solid red'\" onmouseleave=\"document.getElementById('myutil1629151127_324215htmlplugin').rows[2].style.outline=''\" onclick=\"document.getElementById('myutil1629151127_324215htmlplugin').rows[2].scrollIntoView()\" class=\"pointer\">?2</span></span><span style=\"padding: 5px\"><span onmouseenter=\"document.getElementById('myutil1629151127_324215htmlplugin').rows[4].style.outline='thin solid red'\" onmouseleave=\"document.getElementById('myutil1629151127_324215htmlplugin').rows[4].style.outline=''\" onclick=\"document.getElementById('myutil1629151127_324215htmlplugin').rows[4].scrollIntoView()\" class=\"pointer\">?4</span></span><b>]</b></div></div></td></tr><tr><td><span class=\"pointer\">?2</span></td><td><div><div style=\"padding:0\"><em style=\"padding:5px;\">myutil.demo.cache.stepK</em><b>[</b><span style=\"padding: 5px\"><span onmouseenter=\"document.getElementById('myutil1629151127_324215htmlplugin').rows[3].style.outline='thin solid red'\" onmouseleave=\"document.getElementById('myutil1629151127_324215htmlplugin').rows[3].style.outline=''\" onclick=\"document.getElementById('myutil1629151127_324215htmlplugin').rows[3].scrollIntoView()\" class=\"pointer\">?3</span></span><span style=\"padding: 5px\"><b>fr</b>=<span>('a', 'b')</span></span><span style=\"padding: 5px\"><b>r</b>=<span>'ab'</span></span><span style=\"padding: 5px\"><b>to</b>=<span>'ab'</span></span><b>]</b></div></div></td></tr><tr><td><span class=\"pointer\">?3</span></td><td><div><div style=\"padding:0\"><em style=\"padding:5px;\">myutil.demo.cache.stepI</em><b>[</b><span style=\"padding: 5px\"><span>'*'</span></span><span style=\"padding: 5px\"><b>a</b>=<span>'a'</span></span><span style=\"padding: 5px\"><b>b</b>=<span>'b'</span></span><span style=\"padding: 5px\"><b>c</b>=<span>'c'</span></span><b>]</b></div></div></td></tr><tr><td><span class=\"pointer\">?4</span></td><td><div><div style=\"padding:0\"><em style=\"padding:5px;\">myutil.demo.cache.stepK</em><b>[</b><span style=\"padding: 5px\"><span onmouseenter=\"document.getElementById('myutil1629151127_324215htmlplugin').rows[3].style.outline='thin solid red'\" onmouseleave=\"document.getElementById('myutil1629151127_324215htmlplugin').rows[3].style.outline=''\" onclick=\"document.getElementById('myutil1629151127_324215htmlplugin').rows[3].scrollIntoView()\" class=\"pointer\">?3</span></span><span style=\"padding: 5px\"><b>fr</b>=<span>('b', 'c')</span></span><span style=\"padding: 5px\"><b>r</b>=<span>'bc'</span></span><span style=\"padding: 5px\"><b>to</b>=<span>'bc'</span></span><b>]</b></div></div></td></tr></tbody></table></div>\n"
      ],
      "text/plain": [
       "Cache</home/andreoli/src/PYTOOLS/demo/cache.dir>"
      ]
     },
     "execution_count": 4,
     "metadata": {},
     "output_type": "execute_result"
    }
   ],
   "source": [
    "from myutil.cache import CacheDB\n",
    "db = CacheDB('cache.dir')\n",
    "print('Obsolete (deleted):',db.clear_obsolete(False,dry_run=False))\n",
    "db"
   ]
  },
  {
   "cell_type": "code",
   "execution_count": 5,
   "metadata": {
    "collapsed": false,
    "jupyter": {
     "outputs_hidden": false
    }
   },
   "outputs": [
    {
     "data": {
      "text/plain": [
       "BlockInfo(hits=1, ncell=2, ncell_error=0, ncell_pending=0)"
      ]
     },
     "execution_count": 5,
     "metadata": {},
     "output_type": "execute_result"
    }
   ],
   "source": [
    "db[2].info()"
   ]
  },
  {
   "cell_type": "markdown",
   "metadata": {},
   "source": [
    "When a cache block has its cacheonly attribute set, attempts to create new cells fail."
   ]
  },
  {
   "cell_type": "code",
   "execution_count": 6,
   "metadata": {
    "collapsed": false,
    "jupyter": {
     "outputs_hidden": false
    }
   },
   "outputs": [
    {
     "name": "stderr",
     "output_type": "stream",
     "text": [
      "INFO:myutil.cache:Cache<myutil.demo.cache.simplefunc(x, y=3)> HIT(13)\n"
     ]
    },
    {
     "name": "stdout",
     "output_type": "stream",
     "text": [
      "f(1,2)=(1, 12)\n",
      "f(2)="
     ]
    },
    {
     "ename": "Exception",
     "evalue": "Cache cell creation disallowed",
     "output_type": "error",
     "traceback": [
      "\u001b[0;31m---------------------------------------------------------------------------\u001b[0m",
      "\u001b[0;31mException\u001b[0m                                 Traceback (most recent call last)",
      "\u001b[0;32m/tmp/ipykernel_62270/719744241.py\u001b[0m in \u001b[0;36m<module>\u001b[0;34m\u001b[0m\n\u001b[1;32m      2\u001b[0m \u001b[0mf\u001b[0m\u001b[0;34m.\u001b[0m\u001b[0mcache\u001b[0m\u001b[0;34m.\u001b[0m\u001b[0mcacheonly\u001b[0m \u001b[0;34m=\u001b[0m \u001b[0;32mTrue\u001b[0m\u001b[0;34m\u001b[0m\u001b[0;34m\u001b[0m\u001b[0m\n\u001b[1;32m      3\u001b[0m \u001b[0mprint\u001b[0m\u001b[0;34m(\u001b[0m\u001b[0;34m'f(1,2)='\u001b[0m\u001b[0;34m,\u001b[0m\u001b[0mend\u001b[0m\u001b[0;34m=\u001b[0m\u001b[0;34m''\u001b[0m\u001b[0;34m)\u001b[0m\u001b[0;34m;\u001b[0m\u001b[0mprint\u001b[0m\u001b[0;34m(\u001b[0m\u001b[0mf\u001b[0m\u001b[0;34m(\u001b[0m\u001b[0;36m1\u001b[0m\u001b[0;34m,\u001b[0m\u001b[0;36m12\u001b[0m\u001b[0;34m)\u001b[0m\u001b[0;34m)\u001b[0m\u001b[0;34m\u001b[0m\u001b[0;34m\u001b[0m\u001b[0m\n\u001b[0;32m----> 4\u001b[0;31m \u001b[0mprint\u001b[0m\u001b[0;34m(\u001b[0m\u001b[0;34m'f(2)='\u001b[0m\u001b[0;34m,\u001b[0m\u001b[0mend\u001b[0m\u001b[0;34m=\u001b[0m\u001b[0;34m''\u001b[0m\u001b[0;34m)\u001b[0m\u001b[0;34m;\u001b[0m\u001b[0mprint\u001b[0m\u001b[0;34m(\u001b[0m\u001b[0mf\u001b[0m\u001b[0;34m(\u001b[0m\u001b[0;36m2\u001b[0m\u001b[0;34m)\u001b[0m\u001b[0;34m)\u001b[0m\u001b[0;34m\u001b[0m\u001b[0;34m\u001b[0m\u001b[0m\n\u001b[0m",
      "\u001b[0;32m/local/tools/anaconda/mypkgs/myutil/cache.py\u001b[0m in \u001b[0;36m<lambda>\u001b[0;34m(*a, **ka)\u001b[0m\n\u001b[1;32m    788\u001b[0m   \u001b[0;32mif\u001b[0m \u001b[0;32mnot\u001b[0m \u001b[0mhasattr\u001b[0m\u001b[0;34m(\u001b[0m\u001b[0mf\u001b[0m\u001b[0;34m,\u001b[0m\u001b[0;34m'version'\u001b[0m\u001b[0;34m)\u001b[0m\u001b[0;34m:\u001b[0m \u001b[0mf\u001b[0m\u001b[0;34m.\u001b[0m\u001b[0mversion\u001b[0m \u001b[0;34m=\u001b[0m \u001b[0;32mNone\u001b[0m\u001b[0;34m\u001b[0m\u001b[0;34m\u001b[0m\u001b[0m\n\u001b[1;32m    789\u001b[0m   \u001b[0mc\u001b[0m \u001b[0;34m=\u001b[0m \u001b[0mfactory\u001b[0m\u001b[0;34m(\u001b[0m\u001b[0mfunctor\u001b[0m\u001b[0;34m=\u001b[0m\u001b[0mFunctor\u001b[0m\u001b[0;34m(\u001b[0m\u001b[0mf\u001b[0m\u001b[0;34m)\u001b[0m\u001b[0;34m,\u001b[0m\u001b[0;34m**\u001b[0m\u001b[0mkwd\u001b[0m\u001b[0;34m)\u001b[0m\u001b[0;34m\u001b[0m\u001b[0;34m\u001b[0m\u001b[0m\n\u001b[0;32m--> 790\u001b[0;31m   \u001b[0mF\u001b[0m \u001b[0;34m=\u001b[0m \u001b[0;32mlambda\u001b[0m \u001b[0;34m*\u001b[0m\u001b[0ma\u001b[0m\u001b[0;34m,\u001b[0m\u001b[0;34m**\u001b[0m\u001b[0mka\u001b[0m\u001b[0;34m:\u001b[0m \u001b[0mc\u001b[0m\u001b[0;34m(\u001b[0m\u001b[0;34m(\u001b[0m\u001b[0ma\u001b[0m\u001b[0;34m,\u001b[0m\u001b[0mka\u001b[0m\u001b[0;34m)\u001b[0m\u001b[0;34m)\u001b[0m\u001b[0;34m\u001b[0m\u001b[0;34m\u001b[0m\u001b[0m\n\u001b[0m\u001b[1;32m    791\u001b[0m   \u001b[0mF\u001b[0m\u001b[0;34m.\u001b[0m\u001b[0mcache\u001b[0m \u001b[0;34m=\u001b[0m \u001b[0mc\u001b[0m\u001b[0;34m\u001b[0m\u001b[0;34m\u001b[0m\u001b[0m\n\u001b[1;32m    792\u001b[0m   \u001b[0;32mreturn\u001b[0m \u001b[0mupdate_wrapper\u001b[0m\u001b[0;34m(\u001b[0m\u001b[0mF\u001b[0m\u001b[0;34m,\u001b[0m\u001b[0mf\u001b[0m\u001b[0;34m)\u001b[0m\u001b[0;34m\u001b[0m\u001b[0;34m\u001b[0m\u001b[0m\n",
      "\u001b[0;32m/local/tools/anaconda/mypkgs/myutil/cache.py\u001b[0m in \u001b[0;36m__call__\u001b[0;34m(self, arg)\u001b[0m\n\u001b[1;32m    409\u001b[0m       \u001b[0mrow\u001b[0m \u001b[0;34m=\u001b[0m \u001b[0mconn\u001b[0m\u001b[0;34m.\u001b[0m\u001b[0mexecute\u001b[0m\u001b[0;34m(\u001b[0m\u001b[0;34m'SELECT oid,size FROM Cell WHERE block=? AND ckey=?'\u001b[0m\u001b[0;34m,\u001b[0m\u001b[0;34m(\u001b[0m\u001b[0mself\u001b[0m\u001b[0;34m.\u001b[0m\u001b[0mblock\u001b[0m\u001b[0;34m,\u001b[0m\u001b[0mckey\u001b[0m\u001b[0;34m)\u001b[0m\u001b[0;34m)\u001b[0m\u001b[0;34m.\u001b[0m\u001b[0mfetchone\u001b[0m\u001b[0;34m(\u001b[0m\u001b[0;34m)\u001b[0m\u001b[0;34m\u001b[0m\u001b[0;34m\u001b[0m\u001b[0m\n\u001b[1;32m    410\u001b[0m       \u001b[0;32mif\u001b[0m \u001b[0mrow\u001b[0m \u001b[0;32mis\u001b[0m \u001b[0;32mNone\u001b[0m\u001b[0;34m:\u001b[0m\u001b[0;34m\u001b[0m\u001b[0;34m\u001b[0m\u001b[0m\n\u001b[0;32m--> 411\u001b[0;31m         \u001b[0;32mif\u001b[0m \u001b[0mself\u001b[0m\u001b[0;34m.\u001b[0m\u001b[0mcacheonly\u001b[0m\u001b[0;34m:\u001b[0m \u001b[0;32mraise\u001b[0m \u001b[0mException\u001b[0m\u001b[0;34m(\u001b[0m\u001b[0;34m'Cache cell creation disallowed'\u001b[0m\u001b[0;34m)\u001b[0m\u001b[0;34m\u001b[0m\u001b[0;34m\u001b[0m\u001b[0m\n\u001b[0m\u001b[1;32m    412\u001b[0m         \u001b[0mcell\u001b[0m \u001b[0;34m=\u001b[0m \u001b[0mconn\u001b[0m\u001b[0;34m.\u001b[0m\u001b[0mexecute\u001b[0m\u001b[0;34m(\u001b[0m\u001b[0;34m'INSERT INTO Cell (block,ckey) VALUES (?,?)'\u001b[0m\u001b[0;34m,\u001b[0m\u001b[0;34m(\u001b[0m\u001b[0mself\u001b[0m\u001b[0;34m.\u001b[0m\u001b[0mblock\u001b[0m\u001b[0;34m,\u001b[0m\u001b[0mckey\u001b[0m\u001b[0;34m)\u001b[0m\u001b[0;34m)\u001b[0m\u001b[0;34m.\u001b[0m\u001b[0mlastrowid\u001b[0m\u001b[0;34m\u001b[0m\u001b[0;34m\u001b[0m\u001b[0m\n\u001b[1;32m    413\u001b[0m         \u001b[0msetval\u001b[0m \u001b[0;34m=\u001b[0m \u001b[0mself\u001b[0m\u001b[0;34m.\u001b[0m\u001b[0mdb\u001b[0m\u001b[0;34m.\u001b[0m\u001b[0mstorage\u001b[0m\u001b[0;34m.\u001b[0m\u001b[0minsert\u001b[0m\u001b[0;34m(\u001b[0m\u001b[0mcell\u001b[0m\u001b[0;34m)\u001b[0m\u001b[0;34m\u001b[0m\u001b[0;34m\u001b[0m\u001b[0m\n",
      "\u001b[0;31mException\u001b[0m: Cache cell creation disallowed"
     ]
    }
   ],
   "source": [
    "from myutil.demo.cache import simplefunc as f\n",
    "f.cache.cacheonly = True\n",
    "print('f(1,2)=',end='');print(f(1,12))\n",
    "print('f(2)=',end='');print(f(2))"
   ]
  }
 ],
 "metadata": {
  "anaconda-cloud": {},
  "kernelspec": {
   "display_name": "Python 3 (ipykernel)",
   "language": "python",
   "name": "python3"
  },
  "language_info": {
   "codemirror_mode": {
    "name": "ipython",
    "version": 3
   },
   "file_extension": ".py",
   "mimetype": "text/x-python",
   "name": "python",
   "nbconvert_exporter": "python",
   "pygments_lexer": "ipython3",
   "version": "3.9.4"
  }
 },
 "nbformat": 4,
 "nbformat_minor": 4
}
