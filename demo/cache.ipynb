{
 "cells": [
  {
   "cell_type": "markdown",
   "metadata": {},
   "source": [
    "# Test of module myutil.cache\n",
    "Documentation: [here](../doc/_build/html/cache.html)"
   ]
  },
  {
   "cell_type": "code",
   "execution_count": 1,
   "metadata": {
    "collapsed": false
   },
   "outputs": [],
   "source": [
    "%autoreload 2\n",
    "#!rm -f cache.dir/*"
   ]
  },
  {
   "cell_type": "markdown",
   "metadata": {},
   "source": [
    "## Base caching"
   ]
  },
  {
   "cell_type": "code",
   "execution_count": 2,
   "metadata": {
    "collapsed": false
   },
   "outputs": [
    {
     "data": {
      "text/plain": [
       "CellInfo(signature='myutil.demo.cache.simplefunc', hits=0, misses=0, maxsize=10, currsize=0)"
      ]
     },
     "execution_count": 2,
     "metadata": {},
     "output_type": "execute_result"
    }
   ],
   "source": [
    "from myutil import loggingBasicConfig\n",
    "loggingBasicConfig(level='INFO')\n",
    "from myutil.demo.cache import simplefunc as f\n",
    "f.cache.clear(); f.cache.resize(10)\n",
    "f.cache.info()"
   ]
  },
  {
   "cell_type": "markdown",
   "metadata": {},
   "source": [
    "All cache lookups miss (if cache was cleared):"
   ]
  },
  {
   "cell_type": "code",
   "execution_count": 3,
   "metadata": {
    "collapsed": false
   },
   "outputs": [
    {
     "name": "stderr",
     "output_type": "stream",
     "text": [
      "INFO:myutil.cache:Cache</home/andreoli/src/PYTOOLS/demo/cache.dir:myutil.demo.cache.simplefunc(x,y,-z)> MISS(1)\n",
      "INFO:myutil.cache:Cache</home/andreoli/src/PYTOOLS/demo/cache.dir:myutil.demo.cache.simplefunc(x,y,-z)> MISS(2)\n",
      "INFO:myutil.cache:Cache</home/andreoli/src/PYTOOLS/demo/cache.dir:myutil.demo.cache.simplefunc(x,y,-z)> MISS(3)\n",
      "INFO:myutil.cache:Cache</home/andreoli/src/PYTOOLS/demo/cache.dir:myutil.demo.cache.simplefunc(x,y,-z)> MISS(4)\n",
      "INFO:myutil.cache:Cache</home/andreoli/src/PYTOOLS/demo/cache.dir:myutil.demo.cache.simplefunc(x,y,-z)> MISS(5)\n",
      "INFO:myutil.cache:Cache</home/andreoli/src/PYTOOLS/demo/cache.dir:myutil.demo.cache.simplefunc(x,y,-z)> MISS(6)\n",
      "INFO:myutil.cache:Cache</home/andreoli/src/PYTOOLS/demo/cache.dir:myutil.demo.cache.simplefunc(x,y,-z)> MISS(7)\n",
      "INFO:myutil.cache:Cache</home/andreoli/src/PYTOOLS/demo/cache.dir:myutil.demo.cache.simplefunc(x,y,-z)> MISS(8)\n",
      "INFO:myutil.cache:Cache</home/andreoli/src/PYTOOLS/demo/cache.dir:myutil.demo.cache.simplefunc(x,y,-z)> MISS(9)\n",
      "INFO:myutil.cache:Cache</home/andreoli/src/PYTOOLS/demo/cache.dir:myutil.demo.cache.simplefunc(x,y,-z)> MISS(10)\n",
      "INFO:myutil.cache:Cache</home/andreoli/src/PYTOOLS/demo/cache.dir:myutil.demo.cache.simplefunc(x,y,-z)> MISS(11)\n",
      "INFO:myutil.cache:Cache</home/andreoli/src/PYTOOLS/demo/cache.dir:myutil.demo.cache.simplefunc(x,y,-z)> OVERFLOW(1)\n",
      "INFO:myutil.cache:Cache</home/andreoli/src/PYTOOLS/demo/cache.dir:myutil.demo.cache.simplefunc(x,y,-z)> MISS(12)\n",
      "INFO:myutil.cache:Cache</home/andreoli/src/PYTOOLS/demo/cache.dir:myutil.demo.cache.simplefunc(x,y,-z)> OVERFLOW(1)\n",
      "INFO:myutil.cache:Cache</home/andreoli/src/PYTOOLS/demo/cache.dir:myutil.demo.cache.simplefunc(x,y,-z)> MISS(13)\n",
      "INFO:myutil.cache:Cache</home/andreoli/src/PYTOOLS/demo/cache.dir:myutil.demo.cache.simplefunc(x,y,-z)> OVERFLOW(1)\n",
      "INFO:myutil.cache:Cache</home/andreoli/src/PYTOOLS/demo/cache.dir:myutil.demo.cache.simplefunc(x,y,-z)> MISS(14)\n",
      "INFO:myutil.cache:Cache</home/andreoli/src/PYTOOLS/demo/cache.dir:myutil.demo.cache.simplefunc(x,y,-z)> OVERFLOW(1)\n",
      "INFO:myutil.cache:Cache</home/andreoli/src/PYTOOLS/demo/cache.dir:myutil.demo.cache.simplefunc(x,y,-z)> MISS(15)\n",
      "INFO:myutil.cache:Cache</home/andreoli/src/PYTOOLS/demo/cache.dir:myutil.demo.cache.simplefunc(x,y,-z)> OVERFLOW(1)\n"
     ]
    }
   ],
   "source": [
    "for i in range(15): f(x=1,y=i)"
   ]
  },
  {
   "cell_type": "code",
   "execution_count": 4,
   "metadata": {
    "collapsed": false
   },
   "outputs": [
    {
     "data": {
      "text/plain": [
       "CellInfo(signature='myutil.demo.cache.simplefunc', hits=0, misses=15, maxsize=10, currsize=10)"
      ]
     },
     "execution_count": 4,
     "metadata": {},
     "output_type": "execute_result"
    }
   ],
   "source": [
    "f.cache.info()"
   ]
  },
  {
   "cell_type": "code",
   "execution_count": 5,
   "metadata": {
    "collapsed": false,
    "scrolled": true
   },
   "outputs": [
    {
     "data": {
      "text/html": [
       "<DIV id=\"py_140229611354936\"><TABLE><THEAD><TR style=\"background-color: gray; color: white\"><TD colspan=\"6\">1: myutil.demo.cache.simplefunc(x,y,-z)</TD></TR><TR><TD/><TH>hitdate</TH><TH>ckey</TH><TH>size</TH><TH>tprc</TH><TH>ttot</TH></TR></THEAD><TBODY><TR><TH>6</TH><TD>2016-08-22 09:41:56</TD><TD><DIV style=\"padding:0\"><SPAN style=\"padding: 5px\"><B>x</B>=<SPAN>1</SPAN></SPAN><SPAN style=\"padding: 5px\"><B>y</B>=<SPAN>5</SPAN></SPAN></DIV></TD><TD>10B</TD><TD>5.23e-06sec</TD><TD>3.89e-06sec</TD></TR><TR><TH>7</TH><TD>2016-08-22 09:41:56</TD><TD><DIV style=\"padding:0\"><SPAN style=\"padding: 5px\"><B>x</B>=<SPAN>1</SPAN></SPAN><SPAN style=\"padding: 5px\"><B>y</B>=<SPAN>6</SPAN></SPAN></DIV></TD><TD>10B</TD><TD>5.33e-06sec</TD><TD>4.25e-06sec</TD></TR><TR><TH>8</TH><TD>2016-08-22 09:41:56</TD><TD><DIV style=\"padding:0\"><SPAN style=\"padding: 5px\"><B>x</B>=<SPAN>1</SPAN></SPAN><SPAN style=\"padding: 5px\"><B>y</B>=<SPAN>7</SPAN></SPAN></DIV></TD><TD>10B</TD><TD>5.13e-06sec</TD><TD>3.71e-06sec</TD></TR><TR><TH>9</TH><TD>2016-08-22 09:41:56</TD><TD><DIV style=\"padding:0\"><SPAN style=\"padding: 5px\"><B>x</B>=<SPAN>1</SPAN></SPAN><SPAN style=\"padding: 5px\"><B>y</B>=<SPAN>8</SPAN></SPAN></DIV></TD><TD>10B</TD><TD>5.36e-06sec</TD><TD>3.94e-06sec</TD></TR><TR><TH>10</TH><TD>2016-08-22 09:41:56</TD><TD><DIV style=\"padding:0\"><SPAN style=\"padding: 5px\"><B>x</B>=<SPAN>1</SPAN></SPAN><SPAN style=\"padding: 5px\"><B>y</B>=<SPAN>9</SPAN></SPAN></DIV></TD><TD>10B</TD><TD>9.81e-06sec</TD><TD>3.7e-06sec</TD></TR><TR><TH>11</TH><TD>2016-08-22 09:41:56</TD><TD><DIV style=\"padding:0\"><SPAN style=\"padding: 5px\"><B>x</B>=<SPAN>1</SPAN></SPAN><SPAN style=\"padding: 5px\"><B>y</B>=<SPAN>10</SPAN></SPAN></DIV></TD><TD>10B</TD><TD>1.1e-05sec</TD><TD>4.41e-06sec</TD></TR><TR><TH>12</TH><TD>2016-08-22 09:41:56</TD><TD><DIV style=\"padding:0\"><SPAN style=\"padding: 5px\"><B>x</B>=<SPAN>1</SPAN></SPAN><SPAN style=\"padding: 5px\"><B>y</B>=<SPAN>11</SPAN></SPAN></DIV></TD><TD>10B</TD><TD>6.37e-06sec</TD><TD>4.9e-06sec</TD></TR><TR><TH>13</TH><TD>2016-08-22 09:41:56</TD><TD><DIV style=\"padding:0\"><SPAN style=\"padding: 5px\"><B>x</B>=<SPAN>1</SPAN></SPAN><SPAN style=\"padding: 5px\"><B>y</B>=<SPAN>12</SPAN></SPAN></DIV></TD><TD>10B</TD><TD>1e-05sec</TD><TD>3.84e-06sec</TD></TR><TR><TH>14</TH><TD>2016-08-22 09:41:57</TD><TD><DIV style=\"padding:0\"><SPAN style=\"padding: 5px\"><B>x</B>=<SPAN>1</SPAN></SPAN><SPAN style=\"padding: 5px\"><B>y</B>=<SPAN>13</SPAN></SPAN></DIV></TD><TD>10B</TD><TD>2.09e-05sec</TD><TD>4.64e-06sec</TD></TR><TR><TH>15</TH><TD>2016-08-22 09:41:57</TD><TD><DIV style=\"padding:0\"><SPAN style=\"padding: 5px\"><B>x</B>=<SPAN>1</SPAN></SPAN><SPAN style=\"padding: 5px\"><B>y</B>=<SPAN>14</SPAN></SPAN></DIV></TD><TD>10B</TD><TD>5.1e-06sec</TD><TD>3.74e-06sec</TD></TR></TBODY></TABLE></DIV>"
      ],
      "text/plain": [
       "<myutil.cache.CacheBlock at 0x7f89c02bfb38>"
      ]
     },
     "execution_count": 5,
     "metadata": {},
     "output_type": "execute_result"
    }
   ],
   "source": [
    "f.cache"
   ]
  },
  {
   "cell_type": "markdown",
   "metadata": {},
   "source": [
    "All cache lookups hit, except last one (for i=15):"
   ]
  },
  {
   "cell_type": "code",
   "execution_count": 6,
   "metadata": {
    "collapsed": false
   },
   "outputs": [
    {
     "name": "stderr",
     "output_type": "stream",
     "text": [
      "INFO:myutil.cache:Cache</home/andreoli/src/PYTOOLS/demo/cache.dir:myutil.demo.cache.simplefunc(x,y,-z)> HIT(6)\n",
      "INFO:myutil.cache:Cache</home/andreoli/src/PYTOOLS/demo/cache.dir:myutil.demo.cache.simplefunc(x,y,-z)> HIT(7)\n",
      "INFO:myutil.cache:Cache</home/andreoli/src/PYTOOLS/demo/cache.dir:myutil.demo.cache.simplefunc(x,y,-z)> HIT(8)\n",
      "INFO:myutil.cache:Cache</home/andreoli/src/PYTOOLS/demo/cache.dir:myutil.demo.cache.simplefunc(x,y,-z)> HIT(9)\n",
      "INFO:myutil.cache:Cache</home/andreoli/src/PYTOOLS/demo/cache.dir:myutil.demo.cache.simplefunc(x,y,-z)> HIT(10)\n",
      "INFO:myutil.cache:Cache</home/andreoli/src/PYTOOLS/demo/cache.dir:myutil.demo.cache.simplefunc(x,y,-z)> HIT(13)\n",
      "INFO:myutil.cache:Cache</home/andreoli/src/PYTOOLS/demo/cache.dir:myutil.demo.cache.simplefunc(x,y,-z)> HIT(14)\n",
      "INFO:myutil.cache:Cache</home/andreoli/src/PYTOOLS/demo/cache.dir:myutil.demo.cache.simplefunc(x,y,-z)> HIT(15)\n",
      "INFO:myutil.cache:Cache</home/andreoli/src/PYTOOLS/demo/cache.dir:myutil.demo.cache.simplefunc(x,y,-z)> MISS(16)\n",
      "INFO:myutil.cache:Cache</home/andreoli/src/PYTOOLS/demo/cache.dir:myutil.demo.cache.simplefunc(x,y,-z)> OVERFLOW(1)\n"
     ]
    }
   ],
   "source": [
    "for i in range(5,10): f(y=i,x=1)\n",
    "for i in range(12,16): f(x=1,y=i)"
   ]
  },
  {
   "cell_type": "code",
   "execution_count": 7,
   "metadata": {
    "collapsed": false,
    "scrolled": true
   },
   "outputs": [
    {
     "data": {
      "text/html": [
       "<DIV id=\"py_140229611354936\"><TABLE><THEAD><TR style=\"background-color: gray; color: white\"><TD colspan=\"6\">1: myutil.demo.cache.simplefunc(x,y,-z)</TD></TR><TR><TD/><TH>hitdate</TH><TH>ckey</TH><TH>size</TH><TH>tprc</TH><TH>ttot</TH></TR></THEAD><TBODY><TR><TH>6</TH><TD>2016-08-22 09:42:15</TD><TD><DIV style=\"padding:0\"><SPAN style=\"padding: 5px\"><B>x</B>=<SPAN>1</SPAN></SPAN><SPAN style=\"padding: 5px\"><B>y</B>=<SPAN>5</SPAN></SPAN></DIV></TD><TD>10B</TD><TD>5.23e-06sec</TD><TD>3.89e-06sec</TD></TR><TR><TH>7</TH><TD>2016-08-22 09:42:15</TD><TD><DIV style=\"padding:0\"><SPAN style=\"padding: 5px\"><B>x</B>=<SPAN>1</SPAN></SPAN><SPAN style=\"padding: 5px\"><B>y</B>=<SPAN>6</SPAN></SPAN></DIV></TD><TD>10B</TD><TD>5.33e-06sec</TD><TD>4.25e-06sec</TD></TR><TR><TH>8</TH><TD>2016-08-22 09:42:16</TD><TD><DIV style=\"padding:0\"><SPAN style=\"padding: 5px\"><B>x</B>=<SPAN>1</SPAN></SPAN><SPAN style=\"padding: 5px\"><B>y</B>=<SPAN>7</SPAN></SPAN></DIV></TD><TD>10B</TD><TD>5.13e-06sec</TD><TD>3.71e-06sec</TD></TR><TR><TH>9</TH><TD>2016-08-22 09:42:16</TD><TD><DIV style=\"padding:0\"><SPAN style=\"padding: 5px\"><B>x</B>=<SPAN>1</SPAN></SPAN><SPAN style=\"padding: 5px\"><B>y</B>=<SPAN>8</SPAN></SPAN></DIV></TD><TD>10B</TD><TD>5.36e-06sec</TD><TD>3.94e-06sec</TD></TR><TR><TH>10</TH><TD>2016-08-22 09:42:16</TD><TD><DIV style=\"padding:0\"><SPAN style=\"padding: 5px\"><B>x</B>=<SPAN>1</SPAN></SPAN><SPAN style=\"padding: 5px\"><B>y</B>=<SPAN>9</SPAN></SPAN></DIV></TD><TD>10B</TD><TD>9.81e-06sec</TD><TD>3.7e-06sec</TD></TR><TR><TH>12</TH><TD>2016-08-22 09:41:56</TD><TD><DIV style=\"padding:0\"><SPAN style=\"padding: 5px\"><B>x</B>=<SPAN>1</SPAN></SPAN><SPAN style=\"padding: 5px\"><B>y</B>=<SPAN>11</SPAN></SPAN></DIV></TD><TD>10B</TD><TD>6.37e-06sec</TD><TD>4.9e-06sec</TD></TR><TR><TH>13</TH><TD>2016-08-22 09:42:16</TD><TD><DIV style=\"padding:0\"><SPAN style=\"padding: 5px\"><B>x</B>=<SPAN>1</SPAN></SPAN><SPAN style=\"padding: 5px\"><B>y</B>=<SPAN>12</SPAN></SPAN></DIV></TD><TD>10B</TD><TD>1e-05sec</TD><TD>3.84e-06sec</TD></TR><TR><TH>14</TH><TD>2016-08-22 09:42:16</TD><TD><DIV style=\"padding:0\"><SPAN style=\"padding: 5px\"><B>x</B>=<SPAN>1</SPAN></SPAN><SPAN style=\"padding: 5px\"><B>y</B>=<SPAN>13</SPAN></SPAN></DIV></TD><TD>10B</TD><TD>2.09e-05sec</TD><TD>4.64e-06sec</TD></TR><TR><TH>15</TH><TD>2016-08-22 09:42:16</TD><TD><DIV style=\"padding:0\"><SPAN style=\"padding: 5px\"><B>x</B>=<SPAN>1</SPAN></SPAN><SPAN style=\"padding: 5px\"><B>y</B>=<SPAN>14</SPAN></SPAN></DIV></TD><TD>10B</TD><TD>5.1e-06sec</TD><TD>3.74e-06sec</TD></TR><TR><TH>16</TH><TD>2016-08-22 09:42:16</TD><TD><DIV style=\"padding:0\"><SPAN style=\"padding: 5px\"><B>x</B>=<SPAN>1</SPAN></SPAN><SPAN style=\"padding: 5px\"><B>y</B>=<SPAN>15</SPAN></SPAN></DIV></TD><TD>10B</TD><TD>1.19e-05sec</TD><TD>5.01e-06sec</TD></TR></TBODY></TABLE></DIV>"
      ],
      "text/plain": [
       "<myutil.cache.CacheBlock at 0x7f89c02bfb38>"
      ]
     },
     "execution_count": 7,
     "metadata": {},
     "output_type": "execute_result"
    }
   ],
   "source": [
    "f.cache"
   ]
  },
  {
   "cell_type": "code",
   "execution_count": 8,
   "metadata": {
    "collapsed": false
   },
   "outputs": [
    {
     "name": "stderr",
     "output_type": "stream",
     "text": [
      "INFO:myutil.cache:Cache</home/andreoli/src/PYTOOLS/demo/cache.dir:myutil.demo.cache.simplefunc(x,y,-z)> OVERFLOW(6)\n"
     ]
    },
    {
     "data": {
      "text/html": [
       "<DIV id=\"py_140229611354936\"><TABLE><THEAD><TR style=\"background-color: gray; color: white\"><TD colspan=\"6\">1: myutil.demo.cache.simplefunc(x,y,-z)</TD></TR><TR><TD/><TH>hitdate</TH><TH>ckey</TH><TH>size</TH><TH>tprc</TH><TH>ttot</TH></TR></THEAD><TBODY><TR><TH>13</TH><TD>2016-08-22 09:42:16</TD><TD><DIV style=\"padding:0\"><SPAN style=\"padding: 5px\"><B>x</B>=<SPAN>1</SPAN></SPAN><SPAN style=\"padding: 5px\"><B>y</B>=<SPAN>12</SPAN></SPAN></DIV></TD><TD>10B</TD><TD>1e-05sec</TD><TD>3.84e-06sec</TD></TR><TR><TH>14</TH><TD>2016-08-22 09:42:16</TD><TD><DIV style=\"padding:0\"><SPAN style=\"padding: 5px\"><B>x</B>=<SPAN>1</SPAN></SPAN><SPAN style=\"padding: 5px\"><B>y</B>=<SPAN>13</SPAN></SPAN></DIV></TD><TD>10B</TD><TD>2.09e-05sec</TD><TD>4.64e-06sec</TD></TR><TR><TH>15</TH><TD>2016-08-22 09:42:16</TD><TD><DIV style=\"padding:0\"><SPAN style=\"padding: 5px\"><B>x</B>=<SPAN>1</SPAN></SPAN><SPAN style=\"padding: 5px\"><B>y</B>=<SPAN>14</SPAN></SPAN></DIV></TD><TD>10B</TD><TD>5.1e-06sec</TD><TD>3.74e-06sec</TD></TR><TR><TH>16</TH><TD>2016-08-22 09:42:16</TD><TD><DIV style=\"padding:0\"><SPAN style=\"padding: 5px\"><B>x</B>=<SPAN>1</SPAN></SPAN><SPAN style=\"padding: 5px\"><B>y</B>=<SPAN>15</SPAN></SPAN></DIV></TD><TD>10B</TD><TD>1.19e-05sec</TD><TD>5.01e-06sec</TD></TR></TBODY></TABLE></DIV>"
      ],
      "text/plain": [
       "<myutil.cache.CacheBlock at 0x7f89c02bfb38>"
      ]
     },
     "execution_count": 8,
     "metadata": {},
     "output_type": "execute_result"
    }
   ],
   "source": [
    "f.cache.resize(4)\n",
    "f.cache"
   ]
  },
  {
   "cell_type": "markdown",
   "metadata": {},
   "source": [
    "## Error management"
   ]
  },
  {
   "cell_type": "code",
   "execution_count": 1,
   "metadata": {
    "collapsed": false
   },
   "outputs": [
    {
     "name": "stdout",
     "output_type": "stream",
     "text": [
      "CellInfo(signature='myutil.demo.cache.longfunc', hits=0, misses=0, maxsize=10, currsize=0)\n"
     ]
    }
   ],
   "source": [
    "from myutil.demo.cache import longfunc\n",
    "longfunc.cache.clear()\n",
    "print(longfunc.cache.info())\n",
    "class timing:\n",
    "    def __enter__(self): from time import perf_counter; self.time = perf_counter(); return self\n",
    "    def __exit__(self,*a): from time import perf_counter; self.time = perf_counter()-self.time"
   ]
  },
  {
   "cell_type": "markdown",
   "metadata": {},
   "source": [
    "Cache lookup misses (if cache was cleared).\n",
    "Execution lasts 3 seconds and raises exception, which is cached.\n",
    "On second iteration, cache hits and exception is directly raised."
   ]
  },
  {
   "cell_type": "code",
   "execution_count": 2,
   "metadata": {
    "collapsed": false
   },
   "outputs": [
    {
     "name": "stdout",
     "output_type": "stream",
     "text": [
      "Iteration 1...result: Exception[longfunc error] (3.1sec)\n",
      "Iteration 2...result: Exception[longfunc error] (0.0sec)\n"
     ]
    }
   ],
   "source": [
    "for i in range(1,3):\n",
    "    print('Iteration',i,end='...',flush=True)\n",
    "    with timing() as T:\n",
    "        try: v = longfunc(None,3)\n",
    "        except Exception as e: v = 'Exception[{}]'.format(e)\n",
    "    print('result:',v,'({:.01f}sec)'.format(T.time),flush=True)"
   ]
  },
  {
   "cell_type": "markdown",
   "metadata": {},
   "source": [
    "Note that cache values which are exceptions are marked with a star in the size column."
   ]
  },
  {
   "cell_type": "code",
   "execution_count": 3,
   "metadata": {
    "collapsed": false
   },
   "outputs": [
    {
     "data": {
      "text/html": [
       "<DIV id=\"py_140210020114272\"><TABLE><THEAD><TR style=\"background-color: gray; color: white\"><TD colspan=\"6\">2: myutil.demo.cache.longfunc(x,-delay)</TD></TR><TR><TD/><TH>hitdate</TH><TH>ckey</TH><TH>size</TH><TH>tprc</TH><TH>ttot</TH></TR></THEAD><TBODY><TR><TH>17</TH><TD>2016-08-22 09:42:48</TD><TD><DIV style=\"padding:0\"><SPAN style=\"padding: 5px\"><B>x</B>=<SPAN>None</SPAN></SPAN></DIV></TD><TD>*52B</TD><TD>0.000426sec</TD><TD>3sec</TD></TR></TBODY></TABLE></DIV>"
      ],
      "text/plain": [
       "<myutil.cache.CacheBlock at 0x7f8530715f60>"
      ]
     },
     "execution_count": 3,
     "metadata": {},
     "output_type": "execute_result"
    }
   ],
   "source": [
    "longfunc.cache"
   ]
  },
  {
   "cell_type": "markdown",
   "metadata": {},
   "source": [
    "Now, interrupt execution for 42,5 in iteration 1. The ``KeyboardInterrupt`` exception is cached. The ``clear_error`` call will clear that cached value so iteration 2 will complete successufully."
   ]
  },
  {
   "cell_type": "code",
   "execution_count": 4,
   "metadata": {
    "collapsed": false
   },
   "outputs": [
    {
     "name": "stdout",
     "output_type": "stream",
     "text": [
      "Iteration 1 (36, 2)...result: 36 (2.1sec)\n",
      "Iteration 1 (42, 5)...result: Exception[] (1.0sec)\n",
      "Iteration 2 (36, 2)...result: 36 (0.0sec)\n",
      "Iteration 2 (42, 5)...result: 42 (5.1sec)\n"
     ]
    }
   ],
   "source": [
    "for i in range(1,3):\n",
    "    for x,t in (36,2),(42,5):\n",
    "        print('Iteration',i,(x,t),end='...',flush=True)\n",
    "        with timing() as T:\n",
    "            try: v = longfunc(x,t)\n",
    "            except BaseException as e: v = 'Exception[{}]'.format(e)\n",
    "        print('result:',v,'({:.01f}sec)'.format(T.time),flush=True)\n",
    "    longfunc.cache.clear_error()"
   ]
  },
  {
   "cell_type": "code",
   "execution_count": 5,
   "metadata": {
    "collapsed": false
   },
   "outputs": [
    {
     "data": {
      "text/html": [
       "<DIV id=\"py_140210020114272\"><TABLE><THEAD><TR style=\"background-color: gray; color: white\"><TD colspan=\"6\">2: myutil.demo.cache.longfunc(x,-delay)</TD></TR><TR><TD/><TH>hitdate</TH><TH>ckey</TH><TH>size</TH><TH>tprc</TH><TH>ttot</TH></TR></THEAD><TBODY><TR><TH>18</TH><TD>2016-08-22 09:44:12</TD><TD><DIV style=\"padding:0\"><SPAN style=\"padding: 5px\"><B>x</B>=<SPAN>36</SPAN></SPAN></DIV></TD><TD>5B</TD><TD>0.000244sec</TD><TD>2sec</TD></TR><TR><TH>20</TH><TD>2016-08-22 09:44:17</TD><TD><DIV style=\"padding:0\"><SPAN style=\"padding: 5px\"><B>x</B>=<SPAN>42</SPAN></SPAN></DIV></TD><TD>5B</TD><TD>0.00162sec</TD><TD>5.01sec</TD></TR></TBODY></TABLE></DIV>"
      ],
      "text/plain": [
       "<myutil.cache.CacheBlock at 0x7f8530715f60>"
      ]
     },
     "execution_count": 5,
     "metadata": {},
     "output_type": "execute_result"
    }
   ],
   "source": [
    "longfunc.cache"
   ]
  },
  {
   "cell_type": "markdown",
   "metadata": {},
   "source": [
    "## Processes\n",
    "\n",
    "Restart the kernel before each run."
   ]
  },
  {
   "cell_type": "code",
   "execution_count": 1,
   "metadata": {
    "collapsed": false
   },
   "outputs": [],
   "source": [
    "from myutil import loggingBasicConfig\n",
    "loggingBasicConfig(level='INFO')\n",
    "from myutil.demo.cache import proc, stepA, stepB\n",
    "#for s in (stepA,stepB): s.cache.clear() # un/comment to clear/keep cache from previous run\n",
    "e = proc()"
   ]
  },
  {
   "cell_type": "code",
   "execution_count": 2,
   "metadata": {
    "collapsed": false
   },
   "outputs": [
    {
     "name": "stderr",
     "output_type": "stream",
     "text": [
      "INFO:myutil.cache:Cache</home/andreoli/src/PYTOOLS/demo/cache.dir:myutil.demo.cache.stepB(E,fr,to,r)> HIT(21)\n"
     ]
    },
    {
     "data": {
      "text/plain": [
       "14"
      ]
     },
     "execution_count": 2,
     "metadata": {},
     "output_type": "execute_result"
    }
   ],
   "source": [
    "e['abc']"
   ]
  },
  {
   "cell_type": "code",
   "execution_count": 3,
   "metadata": {
    "collapsed": false,
    "scrolled": false
   },
   "outputs": [
    {
     "data": {
      "text/html": [
       "<TABLE><THEAD><TR><TD colspan=\"2\" style=\"padding:0; border-bottom: thick solid black;\"><DIV id=\"py_139719518092368\"><TABLE><THEAD><TR style=\"background-color: gray; color: white\"><TD colspan=\"6\">4: myutil.demo.cache.stepB(E,fr,to,r)</TD></TR><TR><TD/><TH>hitdate</TH><TH>ckey</TH><TH>size</TH><TH>tprc</TH><TH>ttot</TH></TR></THEAD><TBODY><TR><TH>21</TH><TD>2016-08-22 09:44:36</TD><TD><DIV style=\"padding:0\"><SPAN style=\"padding: 5px\"><B>E</B>=<SPAN onmouseleave=\"document.getElementById('py_139719279426472').style.outline='inherit'\" title=\"[| collections.ChainMap :: ?2 | ?4 |]\" onmouseenter=\"document.getElementById('py_139719279426472').style.outline='thick solid red'\" style=\"color: blue; background-color: #e0e0e0;\">?1</SPAN></SPAN><SPAN style=\"padding: 5px\"><B>fr</B>=<SPAN>('ab', 'bc')</SPAN></SPAN><SPAN style=\"padding: 5px\"><B>to</B>=<SPAN>abc</SPAN></SPAN><SPAN style=\"padding: 5px\"><B>r</B>=<SPAN>3</SPAN></SPAN></DIV></TD><TD>412B</TD><TD>0.0198sec</TD><TD>0.222sec</TD></TR><TR><TH>22</TH><TD>2016-08-22 09:44:35</TD><TD><DIV style=\"padding:0\"><SPAN style=\"padding: 5px\"><B>E</B>=<SPAN onmouseleave=\"document.getElementById('py_139719279426696').style.outline='inherit'\" title=\"[| myutil.demo.cache.stepA :: a = 1 | b = 2 | c = 3 |]\" onmouseenter=\"document.getElementById('py_139719279426696').style.outline='thick solid red'\" style=\"color: blue; background-color: #e0e0e0;\">?3</SPAN></SPAN><SPAN style=\"padding: 5px\"><B>fr</B>=<SPAN>('a', 'b')</SPAN></SPAN><SPAN style=\"padding: 5px\"><B>to</B>=<SPAN>ab</SPAN></SPAN><SPAN style=\"padding: 5px\"><B>r</B>=<SPAN>1</SPAN></SPAN></DIV></TD><TD>196B</TD><TD>0.00658sec</TD><TD>0.0755sec</TD></TR><TR><TH>24</TH><TD>2016-08-22 09:44:36</TD><TD><DIV style=\"padding:0\"><SPAN style=\"padding: 5px\"><B>E</B>=<SPAN onmouseleave=\"document.getElementById('py_139719279426696').style.outline='inherit'\" title=\"[| myutil.demo.cache.stepA :: a = 1 | b = 2 | c = 3 |]\" onmouseenter=\"document.getElementById('py_139719279426696').style.outline='thick solid red'\" style=\"color: blue; background-color: #e0e0e0;\">?3</SPAN></SPAN><SPAN style=\"padding: 5px\"><B>fr</B>=<SPAN>('b', 'c')</SPAN></SPAN><SPAN style=\"padding: 5px\"><B>to</B>=<SPAN>bc</SPAN></SPAN><SPAN style=\"padding: 5px\"><B>r</B>=<SPAN>2</SPAN></SPAN></DIV></TD><TD>196B</TD><TD>2.06e-05sec</TD><TD>1.06e-05sec</TD></TR></TBODY></TABLE></DIV></TD></TR></THEAD><TBODY><TR><TH style=\"color: blue; background-color: #e0e0e0;\">?1</TH><TD><DIV id=\"py_139719279426472\"><DIV style=\"padding:0\">[|<EM style=\"padding:5px;\">collections.ChainMap</EM><B>::</B><SPAN style=\"padding: 5px\"><SPAN onmouseleave=\"document.getElementById('py_139719279426584').style.outline='inherit'\" title=\"[| myutil.demo.cache.stepB :: ?3 | fr = ('a', 'b') | r = 1 | to = ab |]\" onmouseenter=\"document.getElementById('py_139719279426584').style.outline='thick solid red'\" style=\"color: blue; background-color: #e0e0e0;\">?2</SPAN></SPAN>|<SPAN style=\"padding: 5px\"><SPAN onmouseleave=\"document.getElementById('py_139719279427144').style.outline='inherit'\" title=\"[| myutil.demo.cache.stepB :: ?3 | fr = ('b', 'c') | r = 2 | to = bc |]\" onmouseenter=\"document.getElementById('py_139719279427144').style.outline='thick solid red'\" style=\"color: blue; background-color: #e0e0e0;\">?4</SPAN></SPAN>|]</DIV></DIV></TD></TR><TR><TH style=\"color: blue; background-color: #e0e0e0;\">?2</TH><TD><DIV id=\"py_139719279426584\"><DIV style=\"padding:0\">[|<EM style=\"padding:5px;\">myutil.demo.cache.stepB</EM><B>::</B><SPAN style=\"padding: 5px\"><SPAN onmouseleave=\"document.getElementById('py_139719279426696').style.outline='inherit'\" title=\"[| myutil.demo.cache.stepA :: a = 1 | b = 2 | c = 3 |]\" onmouseenter=\"document.getElementById('py_139719279426696').style.outline='thick solid red'\" style=\"color: blue; background-color: #e0e0e0;\">?3</SPAN></SPAN>|<SPAN style=\"padding: 5px\"><B>fr</B>=<SPAN>('a', 'b')</SPAN></SPAN>|<SPAN style=\"padding: 5px\"><B>r</B>=<SPAN>1</SPAN></SPAN>|<SPAN style=\"padding: 5px\"><B>to</B>=<SPAN>ab</SPAN></SPAN>|]</DIV></DIV></TD></TR><TR><TH style=\"color: blue; background-color: #e0e0e0;\">?3</TH><TD><DIV id=\"py_139719279426696\"><DIV style=\"padding:0\">[|<EM style=\"padding:5px;\">myutil.demo.cache.stepA</EM><B>::</B><SPAN style=\"padding: 5px\"><B>a</B>=<SPAN>1</SPAN></SPAN>|<SPAN style=\"padding: 5px\"><B>b</B>=<SPAN>2</SPAN></SPAN>|<SPAN style=\"padding: 5px\"><B>c</B>=<SPAN>3</SPAN></SPAN>|]</DIV></DIV></TD></TR><TR><TH style=\"color: blue; background-color: #e0e0e0;\">?4</TH><TD><DIV id=\"py_139719279427144\"><DIV style=\"padding:0\">[|<EM style=\"padding:5px;\">myutil.demo.cache.stepB</EM><B>::</B><SPAN style=\"padding: 5px\"><SPAN onmouseleave=\"document.getElementById('py_139719279426696').style.outline='inherit'\" title=\"[| myutil.demo.cache.stepA :: a = 1 | b = 2 | c = 3 |]\" onmouseenter=\"document.getElementById('py_139719279426696').style.outline='thick solid red'\" style=\"color: blue; background-color: #e0e0e0;\">?3</SPAN></SPAN>|<SPAN style=\"padding: 5px\"><B>fr</B>=<SPAN>('b', 'c')</SPAN></SPAN>|<SPAN style=\"padding: 5px\"><B>r</B>=<SPAN>2</SPAN></SPAN>|<SPAN style=\"padding: 5px\"><B>to</B>=<SPAN>bc</SPAN></SPAN>|]</DIV></DIV></TD></TR></TBODY></TABLE>"
      ],
      "text/plain": [
       "<myutil.cache.CacheBlock at 0x7f12fc3e7c50>"
      ]
     },
     "execution_count": 3,
     "metadata": {},
     "output_type": "execute_result"
    }
   ],
   "source": [
    "stepB.cache"
   ]
  },
  {
   "cell_type": "markdown",
   "metadata": {},
   "source": [
    "## Direct cache content display"
   ]
  },
  {
   "cell_type": "code",
   "execution_count": 1,
   "metadata": {
    "collapsed": false,
    "scrolled": true
   },
   "outputs": [
    {
     "data": {
      "text/html": [
       "<TABLE><THEAD><TR><TD colspan=\"2\" style=\"padding:0; border-bottom: thick solid black;\"><DIV id=\"py_139646836960728\"><DIV><DIV><TABLE><THEAD><TR style=\"background-color: gray; color: white\"><TD colspan=\"6\">1: myutil.demo.cache.simplefunc(x,y,-z)</TD></TR><TR><TD/><TH>hitdate</TH><TH>ckey</TH><TH>size</TH><TH>tprc</TH><TH>ttot</TH></TR></THEAD><TBODY><TR><TH>13</TH><TD>2016-08-22 09:42:16</TD><TD><DIV style=\"padding:0\"><SPAN style=\"padding: 5px\"><B>x</B>=<SPAN>1</SPAN></SPAN><SPAN style=\"padding: 5px\"><B>y</B>=<SPAN>12</SPAN></SPAN></DIV></TD><TD>10B</TD><TD>1e-05sec</TD><TD>3.84e-06sec</TD></TR><TR><TH>14</TH><TD>2016-08-22 09:42:16</TD><TD><DIV style=\"padding:0\"><SPAN style=\"padding: 5px\"><B>x</B>=<SPAN>1</SPAN></SPAN><SPAN style=\"padding: 5px\"><B>y</B>=<SPAN>13</SPAN></SPAN></DIV></TD><TD>10B</TD><TD>2.09e-05sec</TD><TD>4.64e-06sec</TD></TR><TR><TH>15</TH><TD>2016-08-22 09:42:16</TD><TD><DIV style=\"padding:0\"><SPAN style=\"padding: 5px\"><B>x</B>=<SPAN>1</SPAN></SPAN><SPAN style=\"padding: 5px\"><B>y</B>=<SPAN>14</SPAN></SPAN></DIV></TD><TD>10B</TD><TD>5.1e-06sec</TD><TD>3.74e-06sec</TD></TR><TR><TH>16</TH><TD>2016-08-22 09:42:16</TD><TD><DIV style=\"padding:0\"><SPAN style=\"padding: 5px\"><B>x</B>=<SPAN>1</SPAN></SPAN><SPAN style=\"padding: 5px\"><B>y</B>=<SPAN>15</SPAN></SPAN></DIV></TD><TD>10B</TD><TD>1.19e-05sec</TD><TD>5.01e-06sec</TD></TR></TBODY></TABLE></DIV><DIV><TABLE><THEAD><TR style=\"background-color: gray; color: white\"><TD colspan=\"6\">2: myutil.demo.cache.longfunc(x,-delay)</TD></TR><TR><TD/><TH>hitdate</TH><TH>ckey</TH><TH>size</TH><TH>tprc</TH><TH>ttot</TH></TR></THEAD><TBODY><TR><TH>18</TH><TD>2016-08-22 09:44:12</TD><TD><DIV style=\"padding:0\"><SPAN style=\"padding: 5px\"><B>x</B>=<SPAN>36</SPAN></SPAN></DIV></TD><TD>5B</TD><TD>0.000244sec</TD><TD>2sec</TD></TR><TR><TH>20</TH><TD>2016-08-22 09:44:17</TD><TD><DIV style=\"padding:0\"><SPAN style=\"padding: 5px\"><B>x</B>=<SPAN>42</SPAN></SPAN></DIV></TD><TD>5B</TD><TD>0.00162sec</TD><TD>5.01sec</TD></TR></TBODY></TABLE></DIV><DIV><TABLE><THEAD><TR style=\"background-color: gray; color: white\"><TD colspan=\"6\">3: myutil.demo.cache.stepA(**ini)</TD></TR><TR><TD/><TH>hitdate</TH><TH>ckey</TH><TH>size</TH><TH>tprc</TH><TH>ttot</TH></TR></THEAD><TBODY><TR><TH>23</TH><TD>2016-08-22 09:44:35</TD><TD><DIV style=\"padding:0\"><SPAN style=\"padding: 5px\"><B>a</B>=<SPAN>1</SPAN></SPAN><SPAN style=\"padding: 5px\"><B>b</B>=<SPAN>2</SPAN></SPAN><SPAN style=\"padding: 5px\"><B>c</B>=<SPAN>3</SPAN></SPAN></DIV></TD><TD>38B</TD><TD>6.64e-06sec</TD><TD>5.4e-06sec</TD></TR></TBODY></TABLE></DIV><DIV><TABLE><THEAD><TR style=\"background-color: gray; color: white\"><TD colspan=\"6\">4: myutil.demo.cache.stepB(E,fr,to,r)</TD></TR><TR><TD/><TH>hitdate</TH><TH>ckey</TH><TH>size</TH><TH>tprc</TH><TH>ttot</TH></TR></THEAD><TBODY><TR><TH>21</TH><TD>2016-08-22 09:44:48</TD><TD><DIV style=\"padding:0\"><SPAN style=\"padding: 5px\"><B>E</B>=<SPAN onmouseleave=\"document.getElementById('py_139646836118024').style.outline='inherit'\" onmouseenter=\"document.getElementById('py_139646836118024').style.outline='thick solid red'\" title=\"[| collections.ChainMap :: ?2 | ?4 |]\" style=\"color: blue; background-color: #e0e0e0;\">?1</SPAN></SPAN><SPAN style=\"padding: 5px\"><B>fr</B>=<SPAN>('ab', 'bc')</SPAN></SPAN><SPAN style=\"padding: 5px\"><B>to</B>=<SPAN>abc</SPAN></SPAN><SPAN style=\"padding: 5px\"><B>r</B>=<SPAN>3</SPAN></SPAN></DIV></TD><TD>412B</TD><TD>0.0198sec</TD><TD>0.222sec</TD></TR><TR><TH>22</TH><TD>2016-08-22 09:44:35</TD><TD><DIV style=\"padding:0\"><SPAN style=\"padding: 5px\"><B>E</B>=<SPAN onmouseleave=\"document.getElementById('py_139646836118640').style.outline='inherit'\" onmouseenter=\"document.getElementById('py_139646836118640').style.outline='thick solid red'\" title=\"[| myutil.demo.cache.stepA :: a = 1 | b = 2 | c = 3 |]\" style=\"color: blue; background-color: #e0e0e0;\">?3</SPAN></SPAN><SPAN style=\"padding: 5px\"><B>fr</B>=<SPAN>('a', 'b')</SPAN></SPAN><SPAN style=\"padding: 5px\"><B>to</B>=<SPAN>ab</SPAN></SPAN><SPAN style=\"padding: 5px\"><B>r</B>=<SPAN>1</SPAN></SPAN></DIV></TD><TD>196B</TD><TD>0.00658sec</TD><TD>0.0755sec</TD></TR><TR><TH>24</TH><TD>2016-08-22 09:44:36</TD><TD><DIV style=\"padding:0\"><SPAN style=\"padding: 5px\"><B>E</B>=<SPAN onmouseleave=\"document.getElementById('py_139646836118640').style.outline='inherit'\" onmouseenter=\"document.getElementById('py_139646836118640').style.outline='thick solid red'\" title=\"[| myutil.demo.cache.stepA :: a = 1 | b = 2 | c = 3 |]\" style=\"color: blue; background-color: #e0e0e0;\">?3</SPAN></SPAN><SPAN style=\"padding: 5px\"><B>fr</B>=<SPAN>('b', 'c')</SPAN></SPAN><SPAN style=\"padding: 5px\"><B>to</B>=<SPAN>bc</SPAN></SPAN><SPAN style=\"padding: 5px\"><B>r</B>=<SPAN>2</SPAN></SPAN></DIV></TD><TD>196B</TD><TD>2.06e-05sec</TD><TD>1.06e-05sec</TD></TR></TBODY></TABLE></DIV></DIV></DIV></TD></TR></THEAD><TBODY><TR><TH style=\"color: blue; background-color: #e0e0e0;\">?1</TH><TD><DIV id=\"py_139646836118024\"><DIV style=\"padding:0\">[|<EM style=\"padding:5px;\">collections.ChainMap</EM><B>::</B><SPAN style=\"padding: 5px\"><SPAN onmouseleave=\"document.getElementById('py_139646836118528').style.outline='inherit'\" onmouseenter=\"document.getElementById('py_139646836118528').style.outline='thick solid red'\" title=\"[| myutil.demo.cache.stepB :: ?3 | fr = ('a', 'b') | r = 1 | to = ab |]\" style=\"color: blue; background-color: #e0e0e0;\">?2</SPAN></SPAN>|<SPAN style=\"padding: 5px\"><SPAN onmouseleave=\"document.getElementById('py_139646836167064').style.outline='inherit'\" onmouseenter=\"document.getElementById('py_139646836167064').style.outline='thick solid red'\" title=\"[| myutil.demo.cache.stepB :: ?3 | fr = ('b', 'c') | r = 2 | to = bc |]\" style=\"color: blue; background-color: #e0e0e0;\">?4</SPAN></SPAN>|]</DIV></DIV></TD></TR><TR><TH style=\"color: blue; background-color: #e0e0e0;\">?2</TH><TD><DIV id=\"py_139646836118528\"><DIV style=\"padding:0\">[|<EM style=\"padding:5px;\">myutil.demo.cache.stepB</EM><B>::</B><SPAN style=\"padding: 5px\"><SPAN onmouseleave=\"document.getElementById('py_139646836118640').style.outline='inherit'\" onmouseenter=\"document.getElementById('py_139646836118640').style.outline='thick solid red'\" title=\"[| myutil.demo.cache.stepA :: a = 1 | b = 2 | c = 3 |]\" style=\"color: blue; background-color: #e0e0e0;\">?3</SPAN></SPAN>|<SPAN style=\"padding: 5px\"><B>fr</B>=<SPAN>('a', 'b')</SPAN></SPAN>|<SPAN style=\"padding: 5px\"><B>r</B>=<SPAN>1</SPAN></SPAN>|<SPAN style=\"padding: 5px\"><B>to</B>=<SPAN>ab</SPAN></SPAN>|]</DIV></DIV></TD></TR><TR><TH style=\"color: blue; background-color: #e0e0e0;\">?3</TH><TD><DIV id=\"py_139646836118640\"><DIV style=\"padding:0\">[|<EM style=\"padding:5px;\">myutil.demo.cache.stepA</EM><B>::</B><SPAN style=\"padding: 5px\"><B>a</B>=<SPAN>1</SPAN></SPAN>|<SPAN style=\"padding: 5px\"><B>b</B>=<SPAN>2</SPAN></SPAN>|<SPAN style=\"padding: 5px\"><B>c</B>=<SPAN>3</SPAN></SPAN>|]</DIV></DIV></TD></TR><TR><TH style=\"color: blue; background-color: #e0e0e0;\">?4</TH><TD><DIV id=\"py_139646836167064\"><DIV style=\"padding:0\">[|<EM style=\"padding:5px;\">myutil.demo.cache.stepB</EM><B>::</B><SPAN style=\"padding: 5px\"><SPAN onmouseleave=\"document.getElementById('py_139646836118640').style.outline='inherit'\" onmouseenter=\"document.getElementById('py_139646836118640').style.outline='thick solid red'\" title=\"[| myutil.demo.cache.stepA :: a = 1 | b = 2 | c = 3 |]\" style=\"color: blue; background-color: #e0e0e0;\">?3</SPAN></SPAN>|<SPAN style=\"padding: 5px\"><B>fr</B>=<SPAN>('b', 'c')</SPAN></SPAN>|<SPAN style=\"padding: 5px\"><B>r</B>=<SPAN>2</SPAN></SPAN>|<SPAN style=\"padding: 5px\"><B>to</B>=<SPAN>bc</SPAN></SPAN>|]</DIV></DIV></TD></TR></TBODY></TABLE>"
      ],
      "text/plain": [
       "<myutil.cache.CacheDB at 0x7f02101c6dd8>"
      ]
     },
     "execution_count": 1,
     "metadata": {},
     "output_type": "execute_result"
    }
   ],
   "source": [
    "from myutil.cache import CacheDB\n",
    "db = CacheDB('cache.dir')\n",
    "db"
   ]
  },
  {
   "cell_type": "code",
   "execution_count": null,
   "metadata": {
    "collapsed": true
   },
   "outputs": [],
   "source": []
  }
 ],
 "metadata": {
  "kernelspec": {
   "display_name": "Python 3",
   "language": "python",
   "name": "python3"
  },
  "language_info": {
   "codemirror_mode": {
    "name": "ipython",
    "version": 3
   },
   "file_extension": ".py",
   "mimetype": "text/x-python",
   "name": "python",
   "nbconvert_exporter": "python",
   "pygments_lexer": "ipython3",
   "version": "3.5.2"
  }
 },
 "nbformat": 4,
 "nbformat_minor": 0
}
