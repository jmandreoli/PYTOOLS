{
 "cells": [
  {
   "cell_type": "markdown",
   "metadata": {},
   "source": [
    "# Test of module myutil.cache\n",
    "Documentation: [here](../doc/_build/html/cache.html)"
   ]
  },
  {
   "cell_type": "code",
   "execution_count": 1,
   "metadata": {
    "collapsed": false
   },
   "outputs": [
    {
     "name": "stderr",
     "output_type": "stream",
     "text": [
      "ERROR: Line magic function `%autoreload` not found.\n"
     ]
    }
   ],
   "source": [
    "%autoreload 2\n",
    "#!rm -f cache.dir/*"
   ]
  },
  {
   "cell_type": "markdown",
   "metadata": {},
   "source": [
    "## Base caching"
   ]
  },
  {
   "cell_type": "code",
   "execution_count": 1,
   "metadata": {
    "collapsed": false
   },
   "outputs": [
    {
     "data": {
      "text/plain": [
       "CellInfo(signature='myutil.demo.cache.simplefunc', hits=3, misses=46, maxsize=10, currsize=0)"
      ]
     },
     "execution_count": 1,
     "metadata": {},
     "output_type": "execute_result"
    }
   ],
   "source": [
    "from myutil import loggingBasicConfig\n",
    "loggingBasicConfig(level='INFO')\n",
    "from myutil.demo.cache import simplefunc as f\n",
    "f.cache.clear(); f.cache.resize(10)\n",
    "f.cache.info()"
   ]
  },
  {
   "cell_type": "markdown",
   "metadata": {},
   "source": [
    "All cache lookups miss (if cache was cleared):"
   ]
  },
  {
   "cell_type": "code",
   "execution_count": 2,
   "metadata": {
    "collapsed": false
   },
   "outputs": [
    {
     "name": "stderr",
     "output_type": "stream",
     "text": [
      "INFO:myutil.cache:Cache</Users/jean-marc/src/PYTOOLS/demo/cache.dir:myutil.demo.cache.simplefunc(x,y,-z)> MISS(56)\n",
      "INFO:myutil.cache:Cache</Users/jean-marc/src/PYTOOLS/demo/cache.dir:myutil.demo.cache.simplefunc(x,y,-z)> MISS(57)\n",
      "INFO:myutil.cache:Cache</Users/jean-marc/src/PYTOOLS/demo/cache.dir:myutil.demo.cache.simplefunc(x,y,-z)> MISS(58)\n",
      "INFO:myutil.cache:Cache</Users/jean-marc/src/PYTOOLS/demo/cache.dir:myutil.demo.cache.simplefunc(x,y,-z)> MISS(59)\n",
      "INFO:myutil.cache:Cache</Users/jean-marc/src/PYTOOLS/demo/cache.dir:myutil.demo.cache.simplefunc(x,y,-z)> MISS(60)\n",
      "INFO:myutil.cache:Cache</Users/jean-marc/src/PYTOOLS/demo/cache.dir:myutil.demo.cache.simplefunc(x,y,-z)> MISS(61)\n",
      "INFO:myutil.cache:Cache</Users/jean-marc/src/PYTOOLS/demo/cache.dir:myutil.demo.cache.simplefunc(x,y,-z)> MISS(62)\n",
      "INFO:myutil.cache:Cache</Users/jean-marc/src/PYTOOLS/demo/cache.dir:myutil.demo.cache.simplefunc(x,y,-z)> MISS(63)\n",
      "INFO:myutil.cache:Cache</Users/jean-marc/src/PYTOOLS/demo/cache.dir:myutil.demo.cache.simplefunc(x,y,-z)> MISS(64)\n",
      "INFO:myutil.cache:Cache</Users/jean-marc/src/PYTOOLS/demo/cache.dir:myutil.demo.cache.simplefunc(x,y,-z)> MISS(65)\n",
      "INFO:myutil.cache:Cache</Users/jean-marc/src/PYTOOLS/demo/cache.dir:myutil.demo.cache.simplefunc(x,y,-z)> MISS(66)\n",
      "INFO:myutil.cache:Cache</Users/jean-marc/src/PYTOOLS/demo/cache.dir:myutil.demo.cache.simplefunc(x,y,-z)> OVERFLOW(1)\n",
      "INFO:myutil.cache:Cache</Users/jean-marc/src/PYTOOLS/demo/cache.dir:myutil.demo.cache.simplefunc(x,y,-z)> MISS(67)\n",
      "INFO:myutil.cache:Cache</Users/jean-marc/src/PYTOOLS/demo/cache.dir:myutil.demo.cache.simplefunc(x,y,-z)> OVERFLOW(1)\n",
      "INFO:myutil.cache:Cache</Users/jean-marc/src/PYTOOLS/demo/cache.dir:myutil.demo.cache.simplefunc(x,y,-z)> MISS(68)\n",
      "INFO:myutil.cache:Cache</Users/jean-marc/src/PYTOOLS/demo/cache.dir:myutil.demo.cache.simplefunc(x,y,-z)> OVERFLOW(1)\n",
      "INFO:myutil.cache:Cache</Users/jean-marc/src/PYTOOLS/demo/cache.dir:myutil.demo.cache.simplefunc(x,y,-z)> MISS(69)\n",
      "INFO:myutil.cache:Cache</Users/jean-marc/src/PYTOOLS/demo/cache.dir:myutil.demo.cache.simplefunc(x,y,-z)> OVERFLOW(1)\n",
      "INFO:myutil.cache:Cache</Users/jean-marc/src/PYTOOLS/demo/cache.dir:myutil.demo.cache.simplefunc(x,y,-z)> MISS(70)\n",
      "INFO:myutil.cache:Cache</Users/jean-marc/src/PYTOOLS/demo/cache.dir:myutil.demo.cache.simplefunc(x,y,-z)> OVERFLOW(1)\n"
     ]
    }
   ],
   "source": [
    "for i in range(15): f(x=1,y=i)"
   ]
  },
  {
   "cell_type": "code",
   "execution_count": 3,
   "metadata": {
    "collapsed": false
   },
   "outputs": [
    {
     "data": {
      "text/plain": [
       "CellInfo(signature='myutil.demo.cache.simplefunc', hits=3, misses=61, maxsize=10, currsize=10)"
      ]
     },
     "execution_count": 3,
     "metadata": {},
     "output_type": "execute_result"
    }
   ],
   "source": [
    "f.cache.info()"
   ]
  },
  {
   "cell_type": "code",
   "execution_count": 4,
   "metadata": {
    "collapsed": false,
    "scrolled": true
   },
   "outputs": [
    {
     "data": {
      "text/html": [
       "<TABLE><THEAD><TR style=\"background-color: gray; color: white\"><TD colspan=\"6\">1: myutil.demo.cache.simplefunc(x,y,-z)</TD></TR><TR><TD/><TH>hitdate</TH><TH>ckey</TH><TH>size</TH><TH>tprc</TH><TH>ttot</TH></TR></THEAD><TBODY><TR><TH>61</TH><TD>2016-06-12 16:14:50</TD><TD><DIV style=\"padding:0\"><DIV style=\"display: inline; padding: 5px;\"><B>x</B>=<SPAN>1</SPAN></DIV><DIV style=\"display: inline; padding: 5px;\"><B>y</B>=<SPAN>5</SPAN></DIV></DIV></TD><TD>10B</TD><TD>0sec</TD><TD>0sec</TD></TR><TR><TH>62</TH><TD>2016-06-12 16:14:50</TD><TD><DIV style=\"padding:0\"><DIV style=\"display: inline; padding: 5px;\"><B>x</B>=<SPAN>1</SPAN></DIV><DIV style=\"display: inline; padding: 5px;\"><B>y</B>=<SPAN>6</SPAN></DIV></DIV></TD><TD>10B</TD><TD>0sec</TD><TD>0sec</TD></TR><TR><TH>63</TH><TD>2016-06-12 16:14:50</TD><TD><DIV style=\"padding:0\"><DIV style=\"display: inline; padding: 5px;\"><B>x</B>=<SPAN>1</SPAN></DIV><DIV style=\"display: inline; padding: 5px;\"><B>y</B>=<SPAN>7</SPAN></DIV></DIV></TD><TD>10B</TD><TD>0sec</TD><TD>0sec</TD></TR><TR><TH>64</TH><TD>2016-06-12 16:14:50</TD><TD><DIV style=\"padding:0\"><DIV style=\"display: inline; padding: 5px;\"><B>x</B>=<SPAN>1</SPAN></DIV><DIV style=\"display: inline; padding: 5px;\"><B>y</B>=<SPAN>8</SPAN></DIV></DIV></TD><TD>10B</TD><TD>0sec</TD><TD>0sec</TD></TR><TR><TH>65</TH><TD>2016-06-12 16:14:50</TD><TD><DIV style=\"padding:0\"><DIV style=\"display: inline; padding: 5px;\"><B>x</B>=<SPAN>1</SPAN></DIV><DIV style=\"display: inline; padding: 5px;\"><B>y</B>=<SPAN>9</SPAN></DIV></DIV></TD><TD>10B</TD><TD>0sec</TD><TD>0sec</TD></TR><TR><TH>66</TH><TD>2016-06-12 16:14:50</TD><TD><DIV style=\"padding:0\"><DIV style=\"display: inline; padding: 5px;\"><B>x</B>=<SPAN>1</SPAN></DIV><DIV style=\"display: inline; padding: 5px;\"><B>y</B>=<SPAN>10</SPAN></DIV></DIV></TD><TD>10B</TD><TD>0sec</TD><TD>0sec</TD></TR><TR><TH>67</TH><TD>2016-06-12 16:14:50</TD><TD><DIV style=\"padding:0\"><DIV style=\"display: inline; padding: 5px;\"><B>x</B>=<SPAN>1</SPAN></DIV><DIV style=\"display: inline; padding: 5px;\"><B>y</B>=<SPAN>11</SPAN></DIV></DIV></TD><TD>10B</TD><TD>0sec</TD><TD>0sec</TD></TR><TR><TH>68</TH><TD>2016-06-12 16:14:50</TD><TD><DIV style=\"padding:0\"><DIV style=\"display: inline; padding: 5px;\"><B>x</B>=<SPAN>1</SPAN></DIV><DIV style=\"display: inline; padding: 5px;\"><B>y</B>=<SPAN>12</SPAN></DIV></DIV></TD><TD>10B</TD><TD>0sec</TD><TD>0sec</TD></TR><TR><TH>69</TH><TD>2016-06-12 16:14:50</TD><TD><DIV style=\"padding:0\"><DIV style=\"display: inline; padding: 5px;\"><B>x</B>=<SPAN>1</SPAN></DIV><DIV style=\"display: inline; padding: 5px;\"><B>y</B>=<SPAN>13</SPAN></DIV></DIV></TD><TD>10B</TD><TD>0sec</TD><TD>0sec</TD></TR><TR><TH>70</TH><TD>2016-06-12 16:14:50</TD><TD><DIV style=\"padding:0\"><DIV style=\"display: inline; padding: 5px;\"><B>x</B>=<SPAN>1</SPAN></DIV><DIV style=\"display: inline; padding: 5px;\"><B>y</B>=<SPAN>14</SPAN></DIV></DIV></TD><TD>10B</TD><TD>0sec</TD><TD>0sec</TD></TR></TBODY></TABLE>"
      ],
      "text/plain": [
       "<myutil.cache.CacheBlock at 0x1039f6dd8>"
      ]
     },
     "execution_count": 4,
     "metadata": {},
     "output_type": "execute_result"
    }
   ],
   "source": [
    "f.cache"
   ]
  },
  {
   "cell_type": "markdown",
   "metadata": {},
   "source": [
    "All cache lookups hit, except last one (for i=15):"
   ]
  },
  {
   "cell_type": "code",
   "execution_count": 5,
   "metadata": {
    "collapsed": false
   },
   "outputs": [
    {
     "name": "stderr",
     "output_type": "stream",
     "text": [
      "INFO:myutil.cache:Cache</Users/jean-marc/src/PYTOOLS/demo/cache.dir:myutil.demo.cache.simplefunc(x,y,-z)> HIT(61)\n",
      "INFO:myutil.cache:Cache</Users/jean-marc/src/PYTOOLS/demo/cache.dir:myutil.demo.cache.simplefunc(x,y,-z)> HIT(62)\n",
      "INFO:myutil.cache:Cache</Users/jean-marc/src/PYTOOLS/demo/cache.dir:myutil.demo.cache.simplefunc(x,y,-z)> HIT(63)\n",
      "INFO:myutil.cache:Cache</Users/jean-marc/src/PYTOOLS/demo/cache.dir:myutil.demo.cache.simplefunc(x,y,-z)> HIT(64)\n",
      "INFO:myutil.cache:Cache</Users/jean-marc/src/PYTOOLS/demo/cache.dir:myutil.demo.cache.simplefunc(x,y,-z)> HIT(65)\n",
      "INFO:myutil.cache:Cache</Users/jean-marc/src/PYTOOLS/demo/cache.dir:myutil.demo.cache.simplefunc(x,y,-z)> HIT(68)\n",
      "INFO:myutil.cache:Cache</Users/jean-marc/src/PYTOOLS/demo/cache.dir:myutil.demo.cache.simplefunc(x,y,-z)> HIT(69)\n",
      "INFO:myutil.cache:Cache</Users/jean-marc/src/PYTOOLS/demo/cache.dir:myutil.demo.cache.simplefunc(x,y,-z)> HIT(70)\n",
      "INFO:myutil.cache:Cache</Users/jean-marc/src/PYTOOLS/demo/cache.dir:myutil.demo.cache.simplefunc(x,y,-z)> MISS(71)\n",
      "INFO:myutil.cache:Cache</Users/jean-marc/src/PYTOOLS/demo/cache.dir:myutil.demo.cache.simplefunc(x,y,-z)> OVERFLOW(1)\n"
     ]
    }
   ],
   "source": [
    "for i in range(5,10): f(y=i,x=1)\n",
    "for i in range(12,16): f(x=1,y=i)"
   ]
  },
  {
   "cell_type": "code",
   "execution_count": 6,
   "metadata": {
    "collapsed": false,
    "scrolled": true
   },
   "outputs": [
    {
     "data": {
      "text/html": [
       "<TABLE><THEAD><TR style=\"background-color: gray; color: white\"><TD colspan=\"6\">1: myutil.demo.cache.simplefunc(x,y,-z)</TD></TR><TR><TD/><TH>hitdate</TH><TH>ckey</TH><TH>size</TH><TH>tprc</TH><TH>ttot</TH></TR></THEAD><TBODY><TR><TH>61</TH><TD>2016-06-12 16:14:54</TD><TD><DIV style=\"padding:0\"><DIV style=\"display: inline; padding: 5px;\"><B>x</B>=<SPAN>1</SPAN></DIV><DIV style=\"display: inline; padding: 5px;\"><B>y</B>=<SPAN>5</SPAN></DIV></DIV></TD><TD>10B</TD><TD>0sec</TD><TD>0sec</TD></TR><TR><TH>62</TH><TD>2016-06-12 16:14:54</TD><TD><DIV style=\"padding:0\"><DIV style=\"display: inline; padding: 5px;\"><B>x</B>=<SPAN>1</SPAN></DIV><DIV style=\"display: inline; padding: 5px;\"><B>y</B>=<SPAN>6</SPAN></DIV></DIV></TD><TD>10B</TD><TD>0sec</TD><TD>0sec</TD></TR><TR><TH>63</TH><TD>2016-06-12 16:14:54</TD><TD><DIV style=\"padding:0\"><DIV style=\"display: inline; padding: 5px;\"><B>x</B>=<SPAN>1</SPAN></DIV><DIV style=\"display: inline; padding: 5px;\"><B>y</B>=<SPAN>7</SPAN></DIV></DIV></TD><TD>10B</TD><TD>0sec</TD><TD>0sec</TD></TR><TR><TH>64</TH><TD>2016-06-12 16:14:54</TD><TD><DIV style=\"padding:0\"><DIV style=\"display: inline; padding: 5px;\"><B>x</B>=<SPAN>1</SPAN></DIV><DIV style=\"display: inline; padding: 5px;\"><B>y</B>=<SPAN>8</SPAN></DIV></DIV></TD><TD>10B</TD><TD>0sec</TD><TD>0sec</TD></TR><TR><TH>65</TH><TD>2016-06-12 16:14:54</TD><TD><DIV style=\"padding:0\"><DIV style=\"display: inline; padding: 5px;\"><B>x</B>=<SPAN>1</SPAN></DIV><DIV style=\"display: inline; padding: 5px;\"><B>y</B>=<SPAN>9</SPAN></DIV></DIV></TD><TD>10B</TD><TD>0sec</TD><TD>0sec</TD></TR><TR><TH>67</TH><TD>2016-06-12 16:14:50</TD><TD><DIV style=\"padding:0\"><DIV style=\"display: inline; padding: 5px;\"><B>x</B>=<SPAN>1</SPAN></DIV><DIV style=\"display: inline; padding: 5px;\"><B>y</B>=<SPAN>11</SPAN></DIV></DIV></TD><TD>10B</TD><TD>0sec</TD><TD>0sec</TD></TR><TR><TH>68</TH><TD>2016-06-12 16:14:54</TD><TD><DIV style=\"padding:0\"><DIV style=\"display: inline; padding: 5px;\"><B>x</B>=<SPAN>1</SPAN></DIV><DIV style=\"display: inline; padding: 5px;\"><B>y</B>=<SPAN>12</SPAN></DIV></DIV></TD><TD>10B</TD><TD>0sec</TD><TD>0sec</TD></TR><TR><TH>69</TH><TD>2016-06-12 16:14:54</TD><TD><DIV style=\"padding:0\"><DIV style=\"display: inline; padding: 5px;\"><B>x</B>=<SPAN>1</SPAN></DIV><DIV style=\"display: inline; padding: 5px;\"><B>y</B>=<SPAN>13</SPAN></DIV></DIV></TD><TD>10B</TD><TD>0sec</TD><TD>0sec</TD></TR><TR><TH>70</TH><TD>2016-06-12 16:14:54</TD><TD><DIV style=\"padding:0\"><DIV style=\"display: inline; padding: 5px;\"><B>x</B>=<SPAN>1</SPAN></DIV><DIV style=\"display: inline; padding: 5px;\"><B>y</B>=<SPAN>14</SPAN></DIV></DIV></TD><TD>10B</TD><TD>0sec</TD><TD>0sec</TD></TR><TR><TH>71</TH><TD>2016-06-12 16:14:54</TD><TD><DIV style=\"padding:0\"><DIV style=\"display: inline; padding: 5px;\"><B>x</B>=<SPAN>1</SPAN></DIV><DIV style=\"display: inline; padding: 5px;\"><B>y</B>=<SPAN>15</SPAN></DIV></DIV></TD><TD>10B</TD><TD>0sec</TD><TD>0sec</TD></TR></TBODY></TABLE>"
      ],
      "text/plain": [
       "<myutil.cache.CacheBlock at 0x1039f6dd8>"
      ]
     },
     "execution_count": 6,
     "metadata": {},
     "output_type": "execute_result"
    }
   ],
   "source": [
    "f.cache"
   ]
  },
  {
   "cell_type": "code",
   "execution_count": 7,
   "metadata": {
    "collapsed": false
   },
   "outputs": [
    {
     "name": "stderr",
     "output_type": "stream",
     "text": [
      "INFO:myutil.cache:Cache</Users/jean-marc/src/PYTOOLS/demo/cache.dir:myutil.demo.cache.simplefunc(x,y,-z)> OVERFLOW(6)\n"
     ]
    },
    {
     "data": {
      "text/html": [
       "<TABLE><THEAD><TR style=\"background-color: gray; color: white\"><TD colspan=\"6\">1: myutil.demo.cache.simplefunc(x,y,-z)</TD></TR><TR><TD/><TH>hitdate</TH><TH>ckey</TH><TH>size</TH><TH>tprc</TH><TH>ttot</TH></TR></THEAD><TBODY><TR><TH>68</TH><TD>2016-06-12 16:14:54</TD><TD><DIV style=\"padding:0\"><DIV style=\"display: inline; padding: 5px;\"><B>x</B>=<SPAN>1</SPAN></DIV><DIV style=\"display: inline; padding: 5px;\"><B>y</B>=<SPAN>12</SPAN></DIV></DIV></TD><TD>10B</TD><TD>0sec</TD><TD>0sec</TD></TR><TR><TH>69</TH><TD>2016-06-12 16:14:54</TD><TD><DIV style=\"padding:0\"><DIV style=\"display: inline; padding: 5px;\"><B>x</B>=<SPAN>1</SPAN></DIV><DIV style=\"display: inline; padding: 5px;\"><B>y</B>=<SPAN>13</SPAN></DIV></DIV></TD><TD>10B</TD><TD>0sec</TD><TD>0sec</TD></TR><TR><TH>70</TH><TD>2016-06-12 16:14:54</TD><TD><DIV style=\"padding:0\"><DIV style=\"display: inline; padding: 5px;\"><B>x</B>=<SPAN>1</SPAN></DIV><DIV style=\"display: inline; padding: 5px;\"><B>y</B>=<SPAN>14</SPAN></DIV></DIV></TD><TD>10B</TD><TD>0sec</TD><TD>0sec</TD></TR><TR><TH>71</TH><TD>2016-06-12 16:14:54</TD><TD><DIV style=\"padding:0\"><DIV style=\"display: inline; padding: 5px;\"><B>x</B>=<SPAN>1</SPAN></DIV><DIV style=\"display: inline; padding: 5px;\"><B>y</B>=<SPAN>15</SPAN></DIV></DIV></TD><TD>10B</TD><TD>0sec</TD><TD>0sec</TD></TR></TBODY></TABLE>"
      ],
      "text/plain": [
       "<myutil.cache.CacheBlock at 0x1039f6dd8>"
      ]
     },
     "execution_count": 7,
     "metadata": {},
     "output_type": "execute_result"
    }
   ],
   "source": [
    "f.cache.resize(4)\n",
    "f.cache"
   ]
  },
  {
   "cell_type": "markdown",
   "metadata": {},
   "source": [
    "## Error management"
   ]
  },
  {
   "cell_type": "code",
   "execution_count": 8,
   "metadata": {
    "collapsed": false
   },
   "outputs": [],
   "source": [
    "from myutil.demo.cache import longfunc\n",
    "longfunc.cache.clear()\n",
    "longfunc.cache.info()\n",
    "class timing:\n",
    "    def __enter__(self): from time import perf_counter; self.time = perf_counter(); return self\n",
    "    def __exit__(self,*a): from time import perf_counter; self.time = perf_counter()-self.time"
   ]
  },
  {
   "cell_type": "markdown",
   "metadata": {},
   "source": [
    "Cache lookup misses (if cache was cleared).\n",
    "Execution lasts 3 seconds and raises exception, which is cached.\n",
    "On second iteration, cache hits and exception is directly raised.\n",
    "Note that cache values which are exceptions are marked with a star in the size column."
   ]
  },
  {
   "cell_type": "code",
   "execution_count": 9,
   "metadata": {
    "collapsed": false
   },
   "outputs": [
    {
     "name": "stdout",
     "output_type": "stream",
     "text": [
      "Iteration 1..."
     ]
    },
    {
     "name": "stderr",
     "output_type": "stream",
     "text": [
      "INFO:myutil.cache:Cache</Users/jean-marc/src/PYTOOLS/demo/cache.dir:myutil.demo.cache.longfunc(x,-delay)> MISS(72)\n"
     ]
    },
    {
     "name": "stdout",
     "output_type": "stream",
     "text": [
      "result: Exception[longfunc error] (3.0sec)\n",
      "Iteration 2..."
     ]
    },
    {
     "name": "stderr",
     "output_type": "stream",
     "text": [
      "INFO:myutil.cache:Cache</Users/jean-marc/src/PYTOOLS/demo/cache.dir:myutil.demo.cache.longfunc(x,-delay)> HIT(72)\n"
     ]
    },
    {
     "name": "stdout",
     "output_type": "stream",
     "text": [
      "result: Exception[longfunc error] (0.0sec)\n"
     ]
    }
   ],
   "source": [
    "for i in range(1,3):\n",
    "    print('Iteration',i,end='...',flush=True)\n",
    "    with timing() as T:\n",
    "        try: v = longfunc(None,3)\n",
    "        except Exception as e: v = 'Exception[{}]'.format(e)\n",
    "    print('result:',v,'({:.01f}sec)'.format(T.time),flush=True)"
   ]
  },
  {
   "cell_type": "code",
   "execution_count": 10,
   "metadata": {
    "collapsed": false
   },
   "outputs": [
    {
     "data": {
      "text/html": [
       "<TABLE><THEAD><TR style=\"background-color: gray; color: white\"><TD colspan=\"6\">2: myutil.demo.cache.longfunc(x,-delay)</TD></TR><TR><TD/><TH>hitdate</TH><TH>ckey</TH><TH>size</TH><TH>tprc</TH><TH>ttot</TH></TR></THEAD><TBODY><TR><TH>72</TH><TD>2016-06-12 16:15:03</TD><TD><DIV style=\"padding:0\"><DIV style=\"display: inline; padding: 5px;\"><B>x</B>=<SPAN>None</SPAN></DIV></DIV></TD><TD>*52B</TD><TD>0sec</TD><TD>3sec</TD></TR></TBODY></TABLE>"
      ],
      "text/plain": [
       "<myutil.cache.CacheBlock at 0x103a30d30>"
      ]
     },
     "execution_count": 10,
     "metadata": {},
     "output_type": "execute_result"
    }
   ],
   "source": [
    "longfunc.cache"
   ]
  },
  {
   "cell_type": "markdown",
   "metadata": {},
   "source": [
    "Now, interrupt execution for 42,5 in iteration 1. The ``KeyboardInterrupt`` exception is cached. The ``clear_error`` call will clear that cached value so iteration 2 will complete successufully."
   ]
  },
  {
   "cell_type": "code",
   "execution_count": 11,
   "metadata": {
    "collapsed": false
   },
   "outputs": [
    {
     "name": "stdout",
     "output_type": "stream",
     "text": [
      "Iteration 1 (36, 2)..."
     ]
    },
    {
     "name": "stderr",
     "output_type": "stream",
     "text": [
      "INFO:myutil.cache:Cache</Users/jean-marc/src/PYTOOLS/demo/cache.dir:myutil.demo.cache.longfunc(x,-delay)> MISS(73)\n"
     ]
    },
    {
     "name": "stdout",
     "output_type": "stream",
     "text": [
      "result: 36 (2.0sec)\n",
      "Iteration 1 (42, 5)..."
     ]
    },
    {
     "name": "stderr",
     "output_type": "stream",
     "text": [
      "INFO:myutil.cache:Cache</Users/jean-marc/src/PYTOOLS/demo/cache.dir:myutil.demo.cache.longfunc(x,-delay)> MISS(74)\n"
     ]
    },
    {
     "name": "stdout",
     "output_type": "stream",
     "text": [
      "result: Exception[] (0.8sec)\n",
      "Iteration 2 (36, 2)..."
     ]
    },
    {
     "name": "stderr",
     "output_type": "stream",
     "text": [
      "INFO:myutil.cache:Cache</Users/jean-marc/src/PYTOOLS/demo/cache.dir:myutil.demo.cache.longfunc(x,-delay)> HIT(73)\n"
     ]
    },
    {
     "name": "stdout",
     "output_type": "stream",
     "text": [
      "result: 36 (0.0sec)\n",
      "Iteration 2 (42, 5)..."
     ]
    },
    {
     "name": "stderr",
     "output_type": "stream",
     "text": [
      "INFO:myutil.cache:Cache</Users/jean-marc/src/PYTOOLS/demo/cache.dir:myutil.demo.cache.longfunc(x,-delay)> MISS(75)\n"
     ]
    },
    {
     "name": "stdout",
     "output_type": "stream",
     "text": [
      "result: 42 (5.0sec)\n"
     ]
    }
   ],
   "source": [
    "for i in range(1,3):\n",
    "    for x,t in (36,2),(42,5):\n",
    "        print('Iteration',i,(x,t),end='...',flush=True)\n",
    "        with timing() as T:\n",
    "            try: v = longfunc(x,t)\n",
    "            except BaseException as e: v = 'Exception[{}]'.format(e)\n",
    "        print('result:',v,'({:.01f}sec)'.format(T.time),flush=True)\n",
    "    longfunc.cache.clear_error()"
   ]
  },
  {
   "cell_type": "code",
   "execution_count": 12,
   "metadata": {
    "collapsed": false
   },
   "outputs": [
    {
     "data": {
      "text/html": [
       "<TABLE><THEAD><TR style=\"background-color: gray; color: white\"><TD colspan=\"6\">2: myutil.demo.cache.longfunc(x,-delay)</TD></TR><TR><TD/><TH>hitdate</TH><TH>ckey</TH><TH>size</TH><TH>tprc</TH><TH>ttot</TH></TR></THEAD><TBODY><TR><TH>73</TH><TD>2016-06-12 16:15:29</TD><TD><DIV style=\"padding:0\"><DIV style=\"display: inline; padding: 5px;\"><B>x</B>=<SPAN>36</SPAN></DIV></DIV></TD><TD>5B</TD><TD>0sec</TD><TD>2sec</TD></TR><TR><TH>75</TH><TD>2016-06-12 16:15:34</TD><TD><DIV style=\"padding:0\"><DIV style=\"display: inline; padding: 5px;\"><B>x</B>=<SPAN>42</SPAN></DIV></DIV></TD><TD>5B</TD><TD>0sec</TD><TD>5sec</TD></TR></TBODY></TABLE>"
      ],
      "text/plain": [
       "<myutil.cache.CacheBlock at 0x103a30d30>"
      ]
     },
     "execution_count": 12,
     "metadata": {},
     "output_type": "execute_result"
    }
   ],
   "source": [
    "longfunc.cache"
   ]
  },
  {
   "cell_type": "markdown",
   "metadata": {},
   "source": [
    "## Processes\n",
    "\n",
    "Restart the kernel before each run."
   ]
  },
  {
   "cell_type": "code",
   "execution_count": 1,
   "metadata": {
    "collapsed": false
   },
   "outputs": [],
   "source": [
    "from myutil import loggingBasicConfig\n",
    "loggingBasicConfig(level='INFO')\n",
    "from myutil.demo.cache import proc, stepA, stepB\n",
    "#for s in (stepA,stepB): s.cache.clear() # un/comment to clear/keep cache from previous run\n",
    "e = proc()"
   ]
  },
  {
   "cell_type": "code",
   "execution_count": 2,
   "metadata": {
    "collapsed": false
   },
   "outputs": [
    {
     "name": "stderr",
     "output_type": "stream",
     "text": [
      "INFO:myutil.cache:Cache</Users/jean-marc/src/PYTOOLS/demo/cache.dir:myutil.demo.cache.stepB(E,fr,to,r)> HIT(76)\n"
     ]
    },
    {
     "data": {
      "text/plain": [
       "14"
      ]
     },
     "execution_count": 2,
     "metadata": {},
     "output_type": "execute_result"
    }
   ],
   "source": [
    "e['abc']"
   ]
  },
  {
   "cell_type": "code",
   "execution_count": 3,
   "metadata": {
    "collapsed": false,
    "scrolled": true
   },
   "outputs": [
    {
     "data": {
      "text/html": [
       "<DIV style=\"border:thin solid cyan\"><TABLE><THEAD><TR style=\"background-color: gray; color: white\"><TD colspan=\"6\">4: myutil.demo.cache.stepB(E,fr,to,r)</TD></TR><TR><TD/><TH>hitdate</TH><TH>ckey</TH><TH>size</TH><TH>tprc</TH><TH>ttot</TH></TR></THEAD><TBODY><TR><TH>76</TH><TD>2016-06-12 16:17:40</TD><TD><DIV style=\"padding:0\"><DIV style=\"display: inline; padding: 5px;\"><B>E</B>=<SPAN style=\"color: blue\">?1</SPAN></DIV><DIV style=\"display: inline; padding: 5px;\"><B>fr</B>=<SPAN>('ab', 'bc')</SPAN></DIV><DIV style=\"display: inline; padding: 5px;\"><B>to</B>=<SPAN>'abc'</SPAN></DIV><DIV style=\"display: inline; padding: 5px;\"><B>r</B>=<SPAN>3</SPAN></DIV></DIV></TD><TD>415B</TD><TD>0sec</TD><TD>0sec</TD></TR><TR><TH>77</TH><TD>2016-06-12 16:17:27</TD><TD><DIV style=\"padding:0\"><DIV style=\"display: inline; padding: 5px;\"><B>E</B>=<SPAN style=\"color: blue\">?3</SPAN></DIV><DIV style=\"display: inline; padding: 5px;\"><B>fr</B>=<SPAN>('a', 'b')</SPAN></DIV><DIV style=\"display: inline; padding: 5px;\"><B>to</B>=<SPAN>'ab'</SPAN></DIV><DIV style=\"display: inline; padding: 5px;\"><B>r</B>=<SPAN>1</SPAN></DIV></DIV></TD><TD>199B</TD><TD>0sec</TD><TD>0sec</TD></TR><TR><TH>79</TH><TD>2016-06-12 16:17:27</TD><TD><DIV style=\"padding:0\"><DIV style=\"display: inline; padding: 5px;\"><B>E</B>=<SPAN style=\"color: blue\">?3</SPAN></DIV><DIV style=\"display: inline; padding: 5px;\"><B>fr</B>=<SPAN>('b', 'c')</SPAN></DIV><DIV style=\"display: inline; padding: 5px;\"><B>to</B>=<SPAN>'bc'</SPAN></DIV><DIV style=\"display: inline; padding: 5px;\"><B>r</B>=<SPAN>2</SPAN></DIV></DIV></TD><TD>199B</TD><TD>0sec</TD><TD>0sec</TD></TR></TBODY></TABLE><TABLE><COL style=\"background-color: cyan\"/><THEAD/><TBODY><TR><TH>1</TH><TD><DIV style=\"padding:0\">[|<SPAN style=\"display: inline; padding: 5px;\">collections.ChainMap!</SPAN>|<SPAN style=\"display: inline; padding: 5px;\"><SPAN style=\"color: blue\">?2</SPAN></SPAN>|<SPAN style=\"display: inline; padding: 5px;\"><SPAN style=\"color: blue\">?4</SPAN></SPAN>|]</DIV></TD></TR><TR><TH>2</TH><TD><DIV style=\"padding:0\">[|<SPAN style=\"display: inline; padding: 5px;\">myutil.demo.cache.stepB!</SPAN>|<SPAN style=\"display: inline; padding: 5px;\"><SPAN style=\"color: blue\">?3</SPAN></SPAN>|<DIV style=\"display: inline; padding: 5px;\"><B>fr</B>=<SPAN>('a', 'b')</SPAN></DIV>|<DIV style=\"display: inline; padding: 5px;\"><B>r</B>=<SPAN>1</SPAN></DIV>|<DIV style=\"display: inline; padding: 5px;\"><B>to</B>=<SPAN>'ab'</SPAN></DIV>|]</DIV></TD></TR><TR><TH>3</TH><TD><DIV style=\"padding:0\">[|<SPAN style=\"display: inline; padding: 5px;\">myutil.demo.cache.stepA!</SPAN>|<DIV style=\"display: inline; padding: 5px;\"><B>a</B>=<SPAN>1</SPAN></DIV>|<DIV style=\"display: inline; padding: 5px;\"><B>b</B>=<SPAN>2</SPAN></DIV>|<DIV style=\"display: inline; padding: 5px;\"><B>c</B>=<SPAN>3</SPAN></DIV>|]</DIV></TD></TR><TR><TH>4</TH><TD><DIV style=\"padding:0\">[|<SPAN style=\"display: inline; padding: 5px;\">myutil.demo.cache.stepB!</SPAN>|<SPAN style=\"display: inline; padding: 5px;\"><SPAN style=\"color: blue\">?3</SPAN></SPAN>|<DIV style=\"display: inline; padding: 5px;\"><B>fr</B>=<SPAN>('b', 'c')</SPAN></DIV>|<DIV style=\"display: inline; padding: 5px;\"><B>r</B>=<SPAN>2</SPAN></DIV>|<DIV style=\"display: inline; padding: 5px;\"><B>to</B>=<SPAN>'bc'</SPAN></DIV>|]</DIV></TD></TR></TBODY></TABLE></DIV>"
      ],
      "text/plain": [
       "<myutil.cache.CacheBlock at 0x105004da0>"
      ]
     },
     "execution_count": 3,
     "metadata": {},
     "output_type": "execute_result"
    }
   ],
   "source": [
    "stepB.cache"
   ]
  },
  {
   "cell_type": "markdown",
   "metadata": {},
   "source": [
    "## Direct cache content display"
   ]
  },
  {
   "cell_type": "code",
   "execution_count": 1,
   "metadata": {
    "collapsed": false,
    "scrolled": true
   },
   "outputs": [
    {
     "data": {
      "text/html": [
       "<DIV style=\"border:thin solid cyan\"><DIV><DIV><TABLE><THEAD><TR style=\"background-color: gray; color: white\"><TD colspan=\"6\">1: myutil.demo.cache.simplefunc(x,y,-z)</TD></TR><TR><TD/><TH>hitdate</TH><TH>ckey</TH><TH>size</TH><TH>tprc</TH><TH>ttot</TH></TR></THEAD><TBODY><TR><TH>68</TH><TD>2016-06-12 16:14:54</TD><TD><DIV style=\"padding:0\"><DIV style=\"display: inline; padding: 5px;\"><B>x</B>=<SPAN>1</SPAN></DIV><DIV style=\"display: inline; padding: 5px;\"><B>y</B>=<SPAN>12</SPAN></DIV></DIV></TD><TD>10B</TD><TD>0sec</TD><TD>0sec</TD></TR><TR><TH>69</TH><TD>2016-06-12 16:14:54</TD><TD><DIV style=\"padding:0\"><DIV style=\"display: inline; padding: 5px;\"><B>x</B>=<SPAN>1</SPAN></DIV><DIV style=\"display: inline; padding: 5px;\"><B>y</B>=<SPAN>13</SPAN></DIV></DIV></TD><TD>10B</TD><TD>0sec</TD><TD>0sec</TD></TR><TR><TH>70</TH><TD>2016-06-12 16:14:54</TD><TD><DIV style=\"padding:0\"><DIV style=\"display: inline; padding: 5px;\"><B>x</B>=<SPAN>1</SPAN></DIV><DIV style=\"display: inline; padding: 5px;\"><B>y</B>=<SPAN>14</SPAN></DIV></DIV></TD><TD>10B</TD><TD>0sec</TD><TD>0sec</TD></TR><TR><TH>71</TH><TD>2016-06-12 16:14:54</TD><TD><DIV style=\"padding:0\"><DIV style=\"display: inline; padding: 5px;\"><B>x</B>=<SPAN>1</SPAN></DIV><DIV style=\"display: inline; padding: 5px;\"><B>y</B>=<SPAN>15</SPAN></DIV></DIV></TD><TD>10B</TD><TD>0sec</TD><TD>0sec</TD></TR></TBODY></TABLE></DIV><DIV><TABLE><THEAD><TR style=\"background-color: gray; color: white\"><TD colspan=\"6\">2: myutil.demo.cache.longfunc(x,-delay)</TD></TR><TR><TD/><TH>hitdate</TH><TH>ckey</TH><TH>size</TH><TH>tprc</TH><TH>ttot</TH></TR></THEAD><TBODY><TR><TH>73</TH><TD>2016-06-12 16:15:29</TD><TD><DIV style=\"padding:0\"><DIV style=\"display: inline; padding: 5px;\"><B>x</B>=<SPAN>36</SPAN></DIV></DIV></TD><TD>5B</TD><TD>0sec</TD><TD>2sec</TD></TR><TR><TH>75</TH><TD>2016-06-12 16:15:34</TD><TD><DIV style=\"padding:0\"><DIV style=\"display: inline; padding: 5px;\"><B>x</B>=<SPAN>42</SPAN></DIV></DIV></TD><TD>5B</TD><TD>0sec</TD><TD>5sec</TD></TR></TBODY></TABLE></DIV><DIV><TABLE><THEAD><TR style=\"background-color: gray; color: white\"><TD colspan=\"6\">3: myutil.demo.cache.stepA(**ini)</TD></TR><TR><TD/><TH>hitdate</TH><TH>ckey</TH><TH>size</TH><TH>tprc</TH><TH>ttot</TH></TR></THEAD><TBODY><TR><TH>78</TH><TD>2016-06-12 16:17:27</TD><TD><DIV style=\"padding:0\"><DIV style=\"display: inline; padding: 5px;\"><B>a</B>=<SPAN>1</SPAN></DIV><DIV style=\"display: inline; padding: 5px;\"><B>b</B>=<SPAN>2</SPAN></DIV><DIV style=\"display: inline; padding: 5px;\"><B>c</B>=<SPAN>3</SPAN></DIV></DIV></TD><TD>38B</TD><TD>0sec</TD><TD>0sec</TD></TR></TBODY></TABLE></DIV><DIV><TABLE><THEAD><TR style=\"background-color: gray; color: white\"><TD colspan=\"6\">4: myutil.demo.cache.stepB(E,fr,to,r)</TD></TR><TR><TD/><TH>hitdate</TH><TH>ckey</TH><TH>size</TH><TH>tprc</TH><TH>ttot</TH></TR></THEAD><TBODY><TR><TH>76</TH><TD>2016-06-12 16:17:40</TD><TD><DIV style=\"padding:0\"><DIV style=\"display: inline; padding: 5px;\"><B>E</B>=<SPAN style=\"color: blue\">?1</SPAN></DIV><DIV style=\"display: inline; padding: 5px;\"><B>fr</B>=<SPAN>('ab', 'bc')</SPAN></DIV><DIV style=\"display: inline; padding: 5px;\"><B>to</B>=<SPAN>'abc'</SPAN></DIV><DIV style=\"display: inline; padding: 5px;\"><B>r</B>=<SPAN>3</SPAN></DIV></DIV></TD><TD>415B</TD><TD>0sec</TD><TD>0sec</TD></TR><TR><TH>77</TH><TD>2016-06-12 16:17:27</TD><TD><DIV style=\"padding:0\"><DIV style=\"display: inline; padding: 5px;\"><B>E</B>=<SPAN style=\"color: blue\">?3</SPAN></DIV><DIV style=\"display: inline; padding: 5px;\"><B>fr</B>=<SPAN>('a', 'b')</SPAN></DIV><DIV style=\"display: inline; padding: 5px;\"><B>to</B>=<SPAN>'ab'</SPAN></DIV><DIV style=\"display: inline; padding: 5px;\"><B>r</B>=<SPAN>1</SPAN></DIV></DIV></TD><TD>199B</TD><TD>0sec</TD><TD>0sec</TD></TR><TR><TH>79</TH><TD>2016-06-12 16:17:27</TD><TD><DIV style=\"padding:0\"><DIV style=\"display: inline; padding: 5px;\"><B>E</B>=<SPAN style=\"color: blue\">?3</SPAN></DIV><DIV style=\"display: inline; padding: 5px;\"><B>fr</B>=<SPAN>('b', 'c')</SPAN></DIV><DIV style=\"display: inline; padding: 5px;\"><B>to</B>=<SPAN>'bc'</SPAN></DIV><DIV style=\"display: inline; padding: 5px;\"><B>r</B>=<SPAN>2</SPAN></DIV></DIV></TD><TD>199B</TD><TD>0sec</TD><TD>0sec</TD></TR></TBODY></TABLE></DIV></DIV><TABLE><COL style=\"background-color: cyan\"/><THEAD/><TBODY><TR><TH>1</TH><TD><DIV style=\"padding:0\">[|<SPAN style=\"display: inline; padding: 5px;\">collections.ChainMap!</SPAN>|<SPAN style=\"display: inline; padding: 5px;\"><SPAN style=\"color: blue\">?2</SPAN></SPAN>|<SPAN style=\"display: inline; padding: 5px;\"><SPAN style=\"color: blue\">?4</SPAN></SPAN>|]</DIV></TD></TR><TR><TH>2</TH><TD><DIV style=\"padding:0\">[|<SPAN style=\"display: inline; padding: 5px;\">myutil.demo.cache.stepB!</SPAN>|<SPAN style=\"display: inline; padding: 5px;\"><SPAN style=\"color: blue\">?3</SPAN></SPAN>|<DIV style=\"display: inline; padding: 5px;\"><B>fr</B>=<SPAN>('a', 'b')</SPAN></DIV>|<DIV style=\"display: inline; padding: 5px;\"><B>r</B>=<SPAN>1</SPAN></DIV>|<DIV style=\"display: inline; padding: 5px;\"><B>to</B>=<SPAN>'ab'</SPAN></DIV>|]</DIV></TD></TR><TR><TH>3</TH><TD><DIV style=\"padding:0\">[|<SPAN style=\"display: inline; padding: 5px;\">myutil.demo.cache.stepA!</SPAN>|<DIV style=\"display: inline; padding: 5px;\"><B>a</B>=<SPAN>1</SPAN></DIV>|<DIV style=\"display: inline; padding: 5px;\"><B>b</B>=<SPAN>2</SPAN></DIV>|<DIV style=\"display: inline; padding: 5px;\"><B>c</B>=<SPAN>3</SPAN></DIV>|]</DIV></TD></TR><TR><TH>4</TH><TD><DIV style=\"padding:0\">[|<SPAN style=\"display: inline; padding: 5px;\">myutil.demo.cache.stepB!</SPAN>|<SPAN style=\"display: inline; padding: 5px;\"><SPAN style=\"color: blue\">?3</SPAN></SPAN>|<DIV style=\"display: inline; padding: 5px;\"><B>fr</B>=<SPAN>('b', 'c')</SPAN></DIV>|<DIV style=\"display: inline; padding: 5px;\"><B>r</B>=<SPAN>2</SPAN></DIV>|<DIV style=\"display: inline; padding: 5px;\"><B>to</B>=<SPAN>'bc'</SPAN></DIV>|]</DIV></TD></TR></TBODY></TABLE></DIV>"
      ],
      "text/plain": [
       "<myutil.cache.CacheDB at 0x105402f28>"
      ]
     },
     "execution_count": 1,
     "metadata": {},
     "output_type": "execute_result"
    }
   ],
   "source": [
    "from myutil.cache import CacheDB\n",
    "db = CacheDB('cache.dir')\n",
    "db"
   ]
  },
  {
   "cell_type": "code",
   "execution_count": null,
   "metadata": {
    "collapsed": true
   },
   "outputs": [],
   "source": []
  }
 ],
 "metadata": {
  "kernelspec": {
   "display_name": "Python 3",
   "language": "python",
   "name": "python3"
  },
  "language_info": {
   "codemirror_mode": {
    "name": "ipython",
    "version": 3
   },
   "file_extension": ".py",
   "mimetype": "text/x-python",
   "name": "python",
   "nbconvert_exporter": "python",
   "pygments_lexer": "ipython3",
   "version": "3.5.1"
  }
 },
 "nbformat": 4,
 "nbformat_minor": 0
}
