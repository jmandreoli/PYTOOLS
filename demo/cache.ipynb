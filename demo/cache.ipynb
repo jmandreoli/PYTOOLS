{
 "cells": [
  {
   "cell_type": "markdown",
   "metadata": {},
   "source": [
    "# Test of module myutil.cache\n",
    "Documentation: [here](../doc/_build/html/cache.html)"
   ]
  },
  {
   "cell_type": "code",
   "execution_count": 1,
   "metadata": {
    "collapsed": false
   },
   "outputs": [],
   "source": [
    "%autoreload 2\n",
    "#!rm -f cache.dir/*\n",
    "!DEL /Q cache.dir\\*"
   ]
  },
  {
   "cell_type": "markdown",
   "metadata": {},
   "source": [
    "## Base caching"
   ]
  },
  {
   "cell_type": "code",
   "execution_count": 2,
   "metadata": {
    "collapsed": false
   },
   "outputs": [
    {
     "data": {
      "text/plain": [
       "BlockInfo(functor=(myutil.demo.cache.simplefunc, <Signature (x, y=3)>), hits=0, misses=0, maxsize=10, currsize=0)"
      ]
     },
     "execution_count": 2,
     "metadata": {},
     "output_type": "execute_result"
    }
   ],
   "source": [
    "import logging\n",
    "logging.basicConfig(level='INFO')\n",
    "from myutil.demo.cache import simplefunc as f\n",
    "f.cache.clear(); f.cache.resize(10)\n",
    "f.cache.info()"
   ]
  },
  {
   "cell_type": "markdown",
   "metadata": {},
   "source": [
    "All cache lookups miss (if cache was cleared):"
   ]
  },
  {
   "cell_type": "code",
   "execution_count": 3,
   "metadata": {
    "collapsed": false,
    "scrolled": true
   },
   "outputs": [
    {
     "name": "stderr",
     "output_type": "stream",
     "text": [
      "INFO:myutil.cache:Cache<C:\\Users\\andreoli\\My Code\\src\\PYTOOLS\\demo\\cache.dir:myutil.demo.cache.simplefunc(x, y=3)> MISS(1)\n",
      "INFO:myutil.cache:Cache<C:\\Users\\andreoli\\My Code\\src\\PYTOOLS\\demo\\cache.dir:myutil.demo.cache.simplefunc(x, y=3)> MISS(2)\n",
      "INFO:myutil.cache:Cache<C:\\Users\\andreoli\\My Code\\src\\PYTOOLS\\demo\\cache.dir:myutil.demo.cache.simplefunc(x, y=3)> MISS(3)\n",
      "INFO:myutil.cache:Cache<C:\\Users\\andreoli\\My Code\\src\\PYTOOLS\\demo\\cache.dir:myutil.demo.cache.simplefunc(x, y=3)> MISS(4)\n",
      "INFO:myutil.cache:Cache<C:\\Users\\andreoli\\My Code\\src\\PYTOOLS\\demo\\cache.dir:myutil.demo.cache.simplefunc(x, y=3)> MISS(5)\n",
      "INFO:myutil.cache:Cache<C:\\Users\\andreoli\\My Code\\src\\PYTOOLS\\demo\\cache.dir:myutil.demo.cache.simplefunc(x, y=3)> MISS(6)\n",
      "INFO:myutil.cache:Cache<C:\\Users\\andreoli\\My Code\\src\\PYTOOLS\\demo\\cache.dir:myutil.demo.cache.simplefunc(x, y=3)> MISS(7)\n",
      "INFO:myutil.cache:Cache<C:\\Users\\andreoli\\My Code\\src\\PYTOOLS\\demo\\cache.dir:myutil.demo.cache.simplefunc(x, y=3)> MISS(8)\n",
      "INFO:myutil.cache:Cache<C:\\Users\\andreoli\\My Code\\src\\PYTOOLS\\demo\\cache.dir:myutil.demo.cache.simplefunc(x, y=3)> MISS(9)\n",
      "INFO:myutil.cache:Cache<C:\\Users\\andreoli\\My Code\\src\\PYTOOLS\\demo\\cache.dir:myutil.demo.cache.simplefunc(x, y=3)> MISS(10)\n",
      "INFO:myutil.cache:Cache<C:\\Users\\andreoli\\My Code\\src\\PYTOOLS\\demo\\cache.dir:myutil.demo.cache.simplefunc(x, y=3)> MISS(11)\n",
      "INFO:myutil.cache:Cache<C:\\Users\\andreoli\\My Code\\src\\PYTOOLS\\demo\\cache.dir:myutil.demo.cache.simplefunc(x, y=3)> OVERFLOW(1)\n",
      "INFO:myutil.cache:Cache<C:\\Users\\andreoli\\My Code\\src\\PYTOOLS\\demo\\cache.dir:myutil.demo.cache.simplefunc(x, y=3)> MISS(12)\n",
      "INFO:myutil.cache:Cache<C:\\Users\\andreoli\\My Code\\src\\PYTOOLS\\demo\\cache.dir:myutil.demo.cache.simplefunc(x, y=3)> OVERFLOW(1)\n",
      "INFO:myutil.cache:Cache<C:\\Users\\andreoli\\My Code\\src\\PYTOOLS\\demo\\cache.dir:myutil.demo.cache.simplefunc(x, y=3)> MISS(13)\n",
      "INFO:myutil.cache:Cache<C:\\Users\\andreoli\\My Code\\src\\PYTOOLS\\demo\\cache.dir:myutil.demo.cache.simplefunc(x, y=3)> OVERFLOW(1)\n",
      "INFO:myutil.cache:Cache<C:\\Users\\andreoli\\My Code\\src\\PYTOOLS\\demo\\cache.dir:myutil.demo.cache.simplefunc(x, y=3)> MISS(14)\n",
      "INFO:myutil.cache:Cache<C:\\Users\\andreoli\\My Code\\src\\PYTOOLS\\demo\\cache.dir:myutil.demo.cache.simplefunc(x, y=3)> OVERFLOW(1)\n",
      "INFO:myutil.cache:Cache<C:\\Users\\andreoli\\My Code\\src\\PYTOOLS\\demo\\cache.dir:myutil.demo.cache.simplefunc(x, y=3)> MISS(15)\n",
      "INFO:myutil.cache:Cache<C:\\Users\\andreoli\\My Code\\src\\PYTOOLS\\demo\\cache.dir:myutil.demo.cache.simplefunc(x, y=3)> OVERFLOW(1)\n"
     ]
    }
   ],
   "source": [
    "for i in range(15): f(1,y=i)"
   ]
  },
  {
   "cell_type": "code",
   "execution_count": 4,
   "metadata": {
    "collapsed": false
   },
   "outputs": [
    {
     "data": {
      "text/plain": [
       "BlockInfo(functor=(myutil.demo.cache.simplefunc, <Signature (x, y=3)>), hits=0, misses=15, maxsize=10, currsize=10)"
      ]
     },
     "execution_count": 4,
     "metadata": {},
     "output_type": "execute_result"
    }
   ],
   "source": [
    "f.cache.info()"
   ]
  },
  {
   "cell_type": "code",
   "execution_count": 5,
   "metadata": {
    "collapsed": false,
    "scrolled": true
   },
   "outputs": [
    {
     "data": {
      "text/html": [
       "<DIV id=\"py_83627312\"><TABLE><THEAD><TR style=\"background-color: gray; color: white\"><TD colspan=\"6\">1: myutil.demo.cache.simplefunc(x, y=3)</TD></TR><TR><TD/><TH>hitdate</TH><TH>ckey</TH><TH>size</TH><TH>tprc</TH><TH>ttot</TH></TR></THEAD><TBODY><TR><TH>6</TH><TD>2016-09-10 13:10:55</TD><TD><DIV style=\"padding:0\"><SPAN style=\"padding: 5px\"><SPAN>1</SPAN></SPAN><SPAN style=\"padding: 5px\"><SPAN>5</SPAN></SPAN></DIV></TD><TD>10B</TD><TD>0sec</TD><TD>5.53e-06sec</TD></TR><TR><TH>7</TH><TD>2016-09-10 13:10:55</TD><TD><DIV style=\"padding:0\"><SPAN style=\"padding: 5px\"><SPAN>1</SPAN></SPAN><SPAN style=\"padding: 5px\"><SPAN>6</SPAN></SPAN></DIV></TD><TD>10B</TD><TD>0sec</TD><TD>5.53e-06sec</TD></TR><TR><TH>8</TH><TD>2016-09-10 13:10:55</TD><TD><DIV style=\"padding:0\"><SPAN style=\"padding: 5px\"><SPAN>1</SPAN></SPAN><SPAN style=\"padding: 5px\"><SPAN>7</SPAN></SPAN></DIV></TD><TD>10B</TD><TD>0sec</TD><TD>5.93e-06sec</TD></TR><TR><TH>9</TH><TD>2016-09-10 13:10:55</TD><TD><DIV style=\"padding:0\"><SPAN style=\"padding: 5px\"><SPAN>1</SPAN></SPAN><SPAN style=\"padding: 5px\"><SPAN>8</SPAN></SPAN></DIV></TD><TD>10B</TD><TD>0sec</TD><TD>7.9e-06sec</TD></TR><TR><TH>10</TH><TD>2016-09-10 13:10:55</TD><TD><DIV style=\"padding:0\"><SPAN style=\"padding: 5px\"><SPAN>1</SPAN></SPAN><SPAN style=\"padding: 5px\"><SPAN>9</SPAN></SPAN></DIV></TD><TD>10B</TD><TD>0sec</TD><TD>5.53e-06sec</TD></TR><TR><TH>11</TH><TD>2016-09-10 13:10:55</TD><TD><DIV style=\"padding:0\"><SPAN style=\"padding: 5px\"><SPAN>1</SPAN></SPAN><SPAN style=\"padding: 5px\"><SPAN>10</SPAN></SPAN></DIV></TD><TD>10B</TD><TD>0sec</TD><TD>5.53e-06sec</TD></TR><TR><TH>12</TH><TD>2016-09-10 13:10:55</TD><TD><DIV style=\"padding:0\"><SPAN style=\"padding: 5px\"><SPAN>1</SPAN></SPAN><SPAN style=\"padding: 5px\"><SPAN>11</SPAN></SPAN></DIV></TD><TD>10B</TD><TD>0sec</TD><TD>5.53e-06sec</TD></TR><TR><TH>13</TH><TD>2016-09-10 13:10:55</TD><TD><DIV style=\"padding:0\"><SPAN style=\"padding: 5px\"><SPAN>1</SPAN></SPAN><SPAN style=\"padding: 5px\"><SPAN>12</SPAN></SPAN></DIV></TD><TD>10B</TD><TD>0sec</TD><TD>4.35e-06sec</TD></TR><TR><TH>14</TH><TD>2016-09-10 13:10:55</TD><TD><DIV style=\"padding:0\"><SPAN style=\"padding: 5px\"><SPAN>1</SPAN></SPAN><SPAN style=\"padding: 5px\"><SPAN>13</SPAN></SPAN></DIV></TD><TD>10B</TD><TD>0sec</TD><TD>3.95e-06sec</TD></TR><TR><TH>15</TH><TD>2016-09-10 13:10:55</TD><TD><DIV style=\"padding:0\"><SPAN style=\"padding: 5px\"><SPAN>1</SPAN></SPAN><SPAN style=\"padding: 5px\"><SPAN>14</SPAN></SPAN></DIV></TD><TD>10B</TD><TD>0sec</TD><TD>5.93e-06sec</TD></TR></TBODY></TABLE></DIV>"
      ],
      "text/plain": [
       "<myutil.cache.CacheBlock at 0x4fc0d30>"
      ]
     },
     "execution_count": 5,
     "metadata": {},
     "output_type": "execute_result"
    }
   ],
   "source": [
    "f.cache"
   ]
  },
  {
   "cell_type": "markdown",
   "metadata": {},
   "source": [
    "All cache lookups hit, except last one (for i=15):"
   ]
  },
  {
   "cell_type": "code",
   "execution_count": 6,
   "metadata": {
    "collapsed": false
   },
   "outputs": [
    {
     "name": "stderr",
     "output_type": "stream",
     "text": [
      "INFO:myutil.cache:Cache<C:\\Users\\andreoli\\My Code\\src\\PYTOOLS\\demo\\cache.dir:myutil.demo.cache.simplefunc(x, y=3)> HIT(6)\n",
      "INFO:myutil.cache:Cache<C:\\Users\\andreoli\\My Code\\src\\PYTOOLS\\demo\\cache.dir:myutil.demo.cache.simplefunc(x, y=3)> HIT(7)\n",
      "INFO:myutil.cache:Cache<C:\\Users\\andreoli\\My Code\\src\\PYTOOLS\\demo\\cache.dir:myutil.demo.cache.simplefunc(x, y=3)> HIT(8)\n",
      "INFO:myutil.cache:Cache<C:\\Users\\andreoli\\My Code\\src\\PYTOOLS\\demo\\cache.dir:myutil.demo.cache.simplefunc(x, y=3)> HIT(9)\n",
      "INFO:myutil.cache:Cache<C:\\Users\\andreoli\\My Code\\src\\PYTOOLS\\demo\\cache.dir:myutil.demo.cache.simplefunc(x, y=3)> HIT(10)\n",
      "INFO:myutil.cache:Cache<C:\\Users\\andreoli\\My Code\\src\\PYTOOLS\\demo\\cache.dir:myutil.demo.cache.simplefunc(x, y=3)> HIT(13)\n",
      "INFO:myutil.cache:Cache<C:\\Users\\andreoli\\My Code\\src\\PYTOOLS\\demo\\cache.dir:myutil.demo.cache.simplefunc(x, y=3)> HIT(14)\n",
      "INFO:myutil.cache:Cache<C:\\Users\\andreoli\\My Code\\src\\PYTOOLS\\demo\\cache.dir:myutil.demo.cache.simplefunc(x, y=3)> HIT(15)\n",
      "INFO:myutil.cache:Cache<C:\\Users\\andreoli\\My Code\\src\\PYTOOLS\\demo\\cache.dir:myutil.demo.cache.simplefunc(x, y=3)> MISS(16)\n",
      "INFO:myutil.cache:Cache<C:\\Users\\andreoli\\My Code\\src\\PYTOOLS\\demo\\cache.dir:myutil.demo.cache.simplefunc(x, y=3)> OVERFLOW(1)\n"
     ]
    }
   ],
   "source": [
    "for i in range(5,10): f(y=i,x=1)\n",
    "for i in range(12,16): f(1,i)"
   ]
  },
  {
   "cell_type": "code",
   "execution_count": 7,
   "metadata": {
    "collapsed": false,
    "scrolled": true
   },
   "outputs": [
    {
     "data": {
      "text/html": [
       "<DIV id=\"py_83627312\"><TABLE><THEAD><TR style=\"background-color: gray; color: white\"><TD colspan=\"6\">1: myutil.demo.cache.simplefunc(x, y=3)</TD></TR><TR><TD/><TH>hitdate</TH><TH>ckey</TH><TH>size</TH><TH>tprc</TH><TH>ttot</TH></TR></THEAD><TBODY><TR><TH>6</TH><TD>2016-09-10 13:11:09</TD><TD><DIV style=\"padding:0\"><SPAN style=\"padding: 5px\"><SPAN>1</SPAN></SPAN><SPAN style=\"padding: 5px\"><SPAN>5</SPAN></SPAN></DIV></TD><TD>10B</TD><TD>0sec</TD><TD>5.53e-06sec</TD></TR><TR><TH>7</TH><TD>2016-09-10 13:11:09</TD><TD><DIV style=\"padding:0\"><SPAN style=\"padding: 5px\"><SPAN>1</SPAN></SPAN><SPAN style=\"padding: 5px\"><SPAN>6</SPAN></SPAN></DIV></TD><TD>10B</TD><TD>0sec</TD><TD>5.53e-06sec</TD></TR><TR><TH>8</TH><TD>2016-09-10 13:11:09</TD><TD><DIV style=\"padding:0\"><SPAN style=\"padding: 5px\"><SPAN>1</SPAN></SPAN><SPAN style=\"padding: 5px\"><SPAN>7</SPAN></SPAN></DIV></TD><TD>10B</TD><TD>0sec</TD><TD>5.93e-06sec</TD></TR><TR><TH>9</TH><TD>2016-09-10 13:11:09</TD><TD><DIV style=\"padding:0\"><SPAN style=\"padding: 5px\"><SPAN>1</SPAN></SPAN><SPAN style=\"padding: 5px\"><SPAN>8</SPAN></SPAN></DIV></TD><TD>10B</TD><TD>0sec</TD><TD>7.9e-06sec</TD></TR><TR><TH>10</TH><TD>2016-09-10 13:11:09</TD><TD><DIV style=\"padding:0\"><SPAN style=\"padding: 5px\"><SPAN>1</SPAN></SPAN><SPAN style=\"padding: 5px\"><SPAN>9</SPAN></SPAN></DIV></TD><TD>10B</TD><TD>0sec</TD><TD>5.53e-06sec</TD></TR><TR><TH>12</TH><TD>2016-09-10 13:10:55</TD><TD><DIV style=\"padding:0\"><SPAN style=\"padding: 5px\"><SPAN>1</SPAN></SPAN><SPAN style=\"padding: 5px\"><SPAN>11</SPAN></SPAN></DIV></TD><TD>10B</TD><TD>0sec</TD><TD>5.53e-06sec</TD></TR><TR><TH>13</TH><TD>2016-09-10 13:11:09</TD><TD><DIV style=\"padding:0\"><SPAN style=\"padding: 5px\"><SPAN>1</SPAN></SPAN><SPAN style=\"padding: 5px\"><SPAN>12</SPAN></SPAN></DIV></TD><TD>10B</TD><TD>0sec</TD><TD>4.35e-06sec</TD></TR><TR><TH>14</TH><TD>2016-09-10 13:11:09</TD><TD><DIV style=\"padding:0\"><SPAN style=\"padding: 5px\"><SPAN>1</SPAN></SPAN><SPAN style=\"padding: 5px\"><SPAN>13</SPAN></SPAN></DIV></TD><TD>10B</TD><TD>0sec</TD><TD>3.95e-06sec</TD></TR><TR><TH>15</TH><TD>2016-09-10 13:11:09</TD><TD><DIV style=\"padding:0\"><SPAN style=\"padding: 5px\"><SPAN>1</SPAN></SPAN><SPAN style=\"padding: 5px\"><SPAN>14</SPAN></SPAN></DIV></TD><TD>10B</TD><TD>0sec</TD><TD>5.93e-06sec</TD></TR><TR><TH>16</TH><TD>2016-09-10 13:11:09</TD><TD><DIV style=\"padding:0\"><SPAN style=\"padding: 5px\"><SPAN>1</SPAN></SPAN><SPAN style=\"padding: 5px\"><SPAN>15</SPAN></SPAN></DIV></TD><TD>10B</TD><TD>0sec</TD><TD>5.53e-06sec</TD></TR></TBODY></TABLE></DIV>"
      ],
      "text/plain": [
       "<myutil.cache.CacheBlock at 0x4fc0d30>"
      ]
     },
     "execution_count": 7,
     "metadata": {},
     "output_type": "execute_result"
    }
   ],
   "source": [
    "f.cache"
   ]
  },
  {
   "cell_type": "code",
   "execution_count": 8,
   "metadata": {
    "collapsed": false
   },
   "outputs": [
    {
     "name": "stderr",
     "output_type": "stream",
     "text": [
      "INFO:myutil.cache:Cache<C:\\Users\\andreoli\\My Code\\src\\PYTOOLS\\demo\\cache.dir:myutil.demo.cache.simplefunc(x, y=3)> OVERFLOW(6)\n"
     ]
    },
    {
     "data": {
      "text/html": [
       "<DIV id=\"py_83627312\"><TABLE><THEAD><TR style=\"background-color: gray; color: white\"><TD colspan=\"6\">1: myutil.demo.cache.simplefunc(x, y=3)</TD></TR><TR><TD/><TH>hitdate</TH><TH>ckey</TH><TH>size</TH><TH>tprc</TH><TH>ttot</TH></TR></THEAD><TBODY><TR><TH>13</TH><TD>2016-09-10 13:11:09</TD><TD><DIV style=\"padding:0\"><SPAN style=\"padding: 5px\"><SPAN>1</SPAN></SPAN><SPAN style=\"padding: 5px\"><SPAN>12</SPAN></SPAN></DIV></TD><TD>10B</TD><TD>0sec</TD><TD>4.35e-06sec</TD></TR><TR><TH>14</TH><TD>2016-09-10 13:11:09</TD><TD><DIV style=\"padding:0\"><SPAN style=\"padding: 5px\"><SPAN>1</SPAN></SPAN><SPAN style=\"padding: 5px\"><SPAN>13</SPAN></SPAN></DIV></TD><TD>10B</TD><TD>0sec</TD><TD>3.95e-06sec</TD></TR><TR><TH>15</TH><TD>2016-09-10 13:11:09</TD><TD><DIV style=\"padding:0\"><SPAN style=\"padding: 5px\"><SPAN>1</SPAN></SPAN><SPAN style=\"padding: 5px\"><SPAN>14</SPAN></SPAN></DIV></TD><TD>10B</TD><TD>0sec</TD><TD>5.93e-06sec</TD></TR><TR><TH>16</TH><TD>2016-09-10 13:11:09</TD><TD><DIV style=\"padding:0\"><SPAN style=\"padding: 5px\"><SPAN>1</SPAN></SPAN><SPAN style=\"padding: 5px\"><SPAN>15</SPAN></SPAN></DIV></TD><TD>10B</TD><TD>0sec</TD><TD>5.53e-06sec</TD></TR></TBODY></TABLE></DIV>"
      ],
      "text/plain": [
       "<myutil.cache.CacheBlock at 0x4fc0d30>"
      ]
     },
     "execution_count": 8,
     "metadata": {},
     "output_type": "execute_result"
    }
   ],
   "source": [
    "f.cache.resize(4)\n",
    "f.cache"
   ]
  },
  {
   "cell_type": "markdown",
   "metadata": {},
   "source": [
    "## Error management\n",
    "Restart kernel before run."
   ]
  },
  {
   "cell_type": "code",
   "execution_count": 1,
   "metadata": {
    "collapsed": false
   },
   "outputs": [
    {
     "name": "stdout",
     "output_type": "stream",
     "text": [
      "BlockInfo(functor=(myutil.demo.cache.longfunc, <Signature (x, delay=10)>), hits=0, misses=0, maxsize=10, currsize=0)\n"
     ]
    }
   ],
   "source": [
    "import logging\n",
    "logging.basicConfig(level='INFO')\n",
    "from myutil.demo.cache import longfunc\n",
    "longfunc.cache.clear()\n",
    "print(longfunc.cache.info())\n",
    "class timing:\n",
    "    def __enter__(self): from time import perf_counter; self.time = perf_counter(); return self\n",
    "    def __exit__(self,*a): from time import perf_counter; self.time = perf_counter()-self.time"
   ]
  },
  {
   "cell_type": "markdown",
   "metadata": {},
   "source": [
    "Cache lookup misses (if cache was cleared).\n",
    "Execution lasts 3 seconds and raises exception, which is cached.\n",
    "On second iteration, cache hits and exception is directly raised."
   ]
  },
  {
   "cell_type": "code",
   "execution_count": 2,
   "metadata": {
    "collapsed": false
   },
   "outputs": [
    {
     "name": "stdout",
     "output_type": "stream",
     "text": [
      "Iteration 1..."
     ]
    },
    {
     "name": "stderr",
     "output_type": "stream",
     "text": [
      "INFO:myutil.cache:Cache<C:\\Users\\andreoli\\My Code\\src\\PYTOOLS\\demo\\cache.dir:myutil.demo.cache.longfunc(x, delay=10)> MISS(17)\n"
     ]
    },
    {
     "name": "stdout",
     "output_type": "stream",
     "text": [
      "result: Exception[longfunc error] (3.1sec)\n",
      "Iteration 2..."
     ]
    },
    {
     "name": "stderr",
     "output_type": "stream",
     "text": [
      "INFO:myutil.cache:Cache<C:\\Users\\andreoli\\My Code\\src\\PYTOOLS\\demo\\cache.dir:myutil.demo.cache.longfunc(x, delay=10)> HIT(17)\n"
     ]
    },
    {
     "name": "stdout",
     "output_type": "stream",
     "text": [
      "result: Exception[longfunc error] (0.0sec)\n"
     ]
    }
   ],
   "source": [
    "for i in range(1,3):\n",
    "    print('Iteration',i,end='...',flush=True)\n",
    "    with timing() as T:\n",
    "        try: v = longfunc(None,3)\n",
    "        except Exception as e: v = 'Exception[{}]'.format(e)\n",
    "    print('result:',v,'({:.01f}sec)'.format(T.time),flush=True)"
   ]
  },
  {
   "cell_type": "markdown",
   "metadata": {},
   "source": [
    "Note that cache values which are exceptions are marked with a star in the size column."
   ]
  },
  {
   "cell_type": "code",
   "execution_count": 3,
   "metadata": {
    "collapsed": false
   },
   "outputs": [
    {
     "data": {
      "text/html": [
       "<DIV id=\"py_82472744\"><TABLE><THEAD><TR style=\"background-color: gray; color: white\"><TD colspan=\"6\">2: myutil.demo.cache.longfunc(x, delay=10)</TD></TR><TR><TD/><TH>hitdate</TH><TH>ckey</TH><TH>size</TH><TH>tprc</TH><TH>ttot</TH></TR></THEAD><TBODY><TR><TH>17</TH><TD>2016-09-10 13:11:31</TD><TD><DIV style=\"padding:0\"><SPAN style=\"padding: 5px\"><SPAN>None</SPAN></SPAN><SPAN style=\"padding: 5px\"><SPAN>3</SPAN></SPAN></DIV></TD><TD>*52B</TD><TD>0sec</TD><TD>3.01sec</TD></TR></TBODY></TABLE></DIV>"
      ],
      "text/plain": [
       "<myutil.cache.CacheBlock at 0x4ea6f28>"
      ]
     },
     "execution_count": 3,
     "metadata": {},
     "output_type": "execute_result"
    }
   ],
   "source": [
    "longfunc.cache"
   ]
  },
  {
   "cell_type": "markdown",
   "metadata": {},
   "source": [
    "Now, interrupt execution for 42,5 in iteration 1. The ``KeyboardInterrupt`` exception is cached. The ``clear_error`` call will clear that cached value so iteration 2 will complete successufully."
   ]
  },
  {
   "cell_type": "code",
   "execution_count": 4,
   "metadata": {
    "collapsed": false
   },
   "outputs": [
    {
     "name": "stdout",
     "output_type": "stream",
     "text": [
      "Iteration 1 (36, 2)..."
     ]
    },
    {
     "name": "stderr",
     "output_type": "stream",
     "text": [
      "INFO:myutil.cache:Cache<C:\\Users\\andreoli\\My Code\\src\\PYTOOLS\\demo\\cache.dir:myutil.demo.cache.longfunc(x, delay=10)> MISS(18)\n"
     ]
    },
    {
     "name": "stdout",
     "output_type": "stream",
     "text": [
      "result: 36 (2.0sec)\n",
      "Iteration 1 (42, 5)..."
     ]
    },
    {
     "name": "stderr",
     "output_type": "stream",
     "text": [
      "INFO:myutil.cache:Cache<C:\\Users\\andreoli\\My Code\\src\\PYTOOLS\\demo\\cache.dir:myutil.demo.cache.longfunc(x, delay=10)> MISS(19)\n"
     ]
    },
    {
     "name": "stdout",
     "output_type": "stream",
     "text": [
      "result: Exception[] (5.0sec)\n",
      "Iteration 2 (36, 2)..."
     ]
    },
    {
     "name": "stderr",
     "output_type": "stream",
     "text": [
      "INFO:myutil.cache:Cache<C:\\Users\\andreoli\\My Code\\src\\PYTOOLS\\demo\\cache.dir:myutil.demo.cache.longfunc(x, delay=10)> HIT(18)\n"
     ]
    },
    {
     "name": "stdout",
     "output_type": "stream",
     "text": [
      "result: 36 (0.0sec)\n",
      "Iteration 2 (42, 5)..."
     ]
    },
    {
     "name": "stderr",
     "output_type": "stream",
     "text": [
      "INFO:myutil.cache:Cache<C:\\Users\\andreoli\\My Code\\src\\PYTOOLS\\demo\\cache.dir:myutil.demo.cache.longfunc(x, delay=10)> MISS(20)\n"
     ]
    },
    {
     "name": "stdout",
     "output_type": "stream",
     "text": [
      "result: 42 (5.1sec)\n"
     ]
    }
   ],
   "source": [
    "for i in range(1,3):\n",
    "    for x,t in (36,2),(42,5):\n",
    "        print('Iteration',i,(x,t),end='...',flush=True)\n",
    "        with timing() as T:\n",
    "            try: v = longfunc(x,t)\n",
    "            except BaseException as e: v = 'Exception[{}]'.format(e)\n",
    "        print('result:',v,'({:.01f}sec)'.format(T.time),flush=True)\n",
    "    longfunc.cache.clear_error()"
   ]
  },
  {
   "cell_type": "code",
   "execution_count": 5,
   "metadata": {
    "collapsed": false
   },
   "outputs": [
    {
     "data": {
      "text/html": [
       "<DIV id=\"py_82472744\"><TABLE><THEAD><TR style=\"background-color: gray; color: white\"><TD colspan=\"6\">2: myutil.demo.cache.longfunc(x, delay=10)</TD></TR><TR><TD/><TH>hitdate</TH><TH>ckey</TH><TH>size</TH><TH>tprc</TH><TH>ttot</TH></TR></THEAD><TBODY><TR><TH>18</TH><TD>2016-09-10 13:11:51</TD><TD><DIV style=\"padding:0\"><SPAN style=\"padding: 5px\"><SPAN>36</SPAN></SPAN><SPAN style=\"padding: 5px\"><SPAN>2</SPAN></SPAN></DIV></TD><TD>5B</TD><TD>0sec</TD><TD>2sec</TD></TR><TR><TH>20</TH><TD>2016-09-10 13:11:56</TD><TD><DIV style=\"padding:0\"><SPAN style=\"padding: 5px\"><SPAN>42</SPAN></SPAN><SPAN style=\"padding: 5px\"><SPAN>5</SPAN></SPAN></DIV></TD><TD>5B</TD><TD>0sec</TD><TD>5sec</TD></TR></TBODY></TABLE></DIV>"
      ],
      "text/plain": [
       "<myutil.cache.CacheBlock at 0x4ea6f28>"
      ]
     },
     "execution_count": 5,
     "metadata": {},
     "output_type": "execute_result"
    }
   ],
   "source": [
    "longfunc.cache"
   ]
  },
  {
   "cell_type": "markdown",
   "metadata": {},
   "source": [
    "## Processes\n",
    "\n",
    "Restart the kernel before run."
   ]
  },
  {
   "cell_type": "code",
   "execution_count": 1,
   "metadata": {
    "collapsed": false
   },
   "outputs": [],
   "source": [
    "import logging\n",
    "logging.basicConfig(level='INFO')\n",
    "from myutil.demo.cache import proc, stepA, stepB\n",
    "#for s in (stepA,stepB): s.cache.clear() # un/comment to clear/keep cache from previous run\n",
    "e = proc()"
   ]
  },
  {
   "cell_type": "code",
   "execution_count": 2,
   "metadata": {
    "collapsed": false
   },
   "outputs": [
    {
     "name": "stderr",
     "output_type": "stream",
     "text": [
      "INFO:myutil.cache:Cache<C:\\Users\\andreoli\\My Code\\src\\PYTOOLS\\demo\\cache.dir:myutil.demo.cache.stepB(E, fr=None, to=None, r=0)> HIT(21)\n"
     ]
    },
    {
     "data": {
      "text/plain": [
       "14"
      ]
     },
     "execution_count": 2,
     "metadata": {},
     "output_type": "execute_result"
    }
   ],
   "source": [
    "e['abc']"
   ]
  },
  {
   "cell_type": "code",
   "execution_count": 3,
   "metadata": {
    "collapsed": false,
    "scrolled": false
   },
   "outputs": [
    {
     "data": {
      "text/html": [
       "<TABLE><THEAD><TR><TD style=\"padding:0; border-bottom: thick solid black;\" colspan=\"2\"><DIV id=\"py_78174472\"><TABLE><THEAD><TR style=\"background-color: gray; color: white\"><TD colspan=\"6\">5: myutil.demo.cache.stepB(E, fr=None, to=None, r=0)</TD></TR><TR><TD/><TH>hitdate</TH><TH>ckey</TH><TH>size</TH><TH>tprc</TH><TH>ttot</TH></TR></THEAD><TBODY><TR><TH>21</TH><TD>2016-09-10 13:12:26</TD><TD><DIV style=\"padding:0\"><SPAN style=\"padding: 5px\"><SPAN title=\"[| &lt;class 'collections.ChainMap'&gt; :: ?2 | ?4 |]\" onmouseleave=\"document.getElementById('py_80902968').style.outline='inherit'\" style=\"color: blue; background-color: #e0e0e0;\" onmouseenter=\"document.getElementById('py_80902968').style.outline='thick solid red'\">?1</SPAN></SPAN><SPAN style=\"padding: 5px\"><SPAN>('ab', 'bc')</SPAN></SPAN><SPAN style=\"padding: 5px\"><SPAN>abc</SPAN></SPAN><SPAN style=\"padding: 5px\"><SPAN>3</SPAN></SPAN></DIV></TD><TD>329B</TD><TD>0.0312sec</TD><TD>0.17sec</TD></TR><TR><TH>22</TH><TD>2016-09-10 13:12:11</TD><TD><DIV style=\"padding:0\"><SPAN style=\"padding: 5px\"><SPAN title=\"[| myutil.demo.cache.stepA :: a = 1 | b = 2 | c = 3 |]\" onmouseleave=\"document.getElementById('py_80903248').style.outline='inherit'\" style=\"color: blue; background-color: #e0e0e0;\" onmouseenter=\"document.getElementById('py_80903248').style.outline='thick solid red'\">?3</SPAN></SPAN><SPAN style=\"padding: 5px\"><SPAN>('a', 'b')</SPAN></SPAN><SPAN style=\"padding: 5px\"><SPAN>ab</SPAN></SPAN><SPAN style=\"padding: 5px\"><SPAN>1</SPAN></SPAN></DIV></TD><TD>163B</TD><TD>0.0156sec</TD><TD>0.0526sec</TD></TR><TR><TH>24</TH><TD>2016-09-10 13:12:11</TD><TD><DIV style=\"padding:0\"><SPAN style=\"padding: 5px\"><SPAN title=\"[| myutil.demo.cache.stepA :: a = 1 | b = 2 | c = 3 |]\" onmouseleave=\"document.getElementById('py_80903248').style.outline='inherit'\" style=\"color: blue; background-color: #e0e0e0;\" onmouseenter=\"document.getElementById('py_80903248').style.outline='thick solid red'\">?3</SPAN></SPAN><SPAN style=\"padding: 5px\"><SPAN>('b', 'c')</SPAN></SPAN><SPAN style=\"padding: 5px\"><SPAN>bc</SPAN></SPAN><SPAN style=\"padding: 5px\"><SPAN>2</SPAN></SPAN></DIV></TD><TD>163B</TD><TD>0sec</TD><TD>2.57e-05sec</TD></TR></TBODY></TABLE></DIV></TD></TR></THEAD><TBODY><TR><TH style=\"color: blue; background-color: #e0e0e0;\">?1</TH><TD><DIV id=\"py_80902968\"><DIV style=\"padding:0\">[|<EM style=\"padding:5px;\">&lt;class 'collections.ChainMap'&gt;</EM><B>::</B><SPAN style=\"padding: 5px\"><SPAN title=\"[| myutil.demo.cache.stepB :: ?3 | fr = ('a', 'b') | r = 1 | to = ab |]\" onmouseleave=\"document.getElementById('py_80903080').style.outline='inherit'\" style=\"color: blue; background-color: #e0e0e0;\" onmouseenter=\"document.getElementById('py_80903080').style.outline='thick solid red'\">?2</SPAN></SPAN>|<SPAN style=\"padding: 5px\"><SPAN title=\"[| myutil.demo.cache.stepB :: ?3 | fr = ('b', 'c') | r = 2 | to = bc |]\" onmouseleave=\"document.getElementById('py_80903528').style.outline='inherit'\" style=\"color: blue; background-color: #e0e0e0;\" onmouseenter=\"document.getElementById('py_80903528').style.outline='thick solid red'\">?4</SPAN></SPAN>|]</DIV></DIV></TD></TR><TR><TH style=\"color: blue; background-color: #e0e0e0;\">?2</TH><TD><DIV id=\"py_80903080\"><DIV style=\"padding:0\">[|<EM style=\"padding:5px;\">myutil.demo.cache.stepB</EM><B>::</B><SPAN style=\"padding: 5px\"><SPAN title=\"[| myutil.demo.cache.stepA :: a = 1 | b = 2 | c = 3 |]\" onmouseleave=\"document.getElementById('py_80903248').style.outline='inherit'\" style=\"color: blue; background-color: #e0e0e0;\" onmouseenter=\"document.getElementById('py_80903248').style.outline='thick solid red'\">?3</SPAN></SPAN>|<SPAN style=\"padding: 5px\"><B>fr</B>=<SPAN>('a', 'b')</SPAN></SPAN>|<SPAN style=\"padding: 5px\"><B>r</B>=<SPAN>1</SPAN></SPAN>|<SPAN style=\"padding: 5px\"><B>to</B>=<SPAN>ab</SPAN></SPAN>|]</DIV></DIV></TD></TR><TR><TH style=\"color: blue; background-color: #e0e0e0;\">?3</TH><TD><DIV id=\"py_80903248\"><DIV style=\"padding:0\">[|<EM style=\"padding:5px;\">myutil.demo.cache.stepA</EM><B>::</B><SPAN style=\"padding: 5px\"><B>a</B>=<SPAN>1</SPAN></SPAN>|<SPAN style=\"padding: 5px\"><B>b</B>=<SPAN>2</SPAN></SPAN>|<SPAN style=\"padding: 5px\"><B>c</B>=<SPAN>3</SPAN></SPAN>|]</DIV></DIV></TD></TR><TR><TH style=\"color: blue; background-color: #e0e0e0;\">?4</TH><TD><DIV id=\"py_80903528\"><DIV style=\"padding:0\">[|<EM style=\"padding:5px;\">myutil.demo.cache.stepB</EM><B>::</B><SPAN style=\"padding: 5px\"><SPAN title=\"[| myutil.demo.cache.stepA :: a = 1 | b = 2 | c = 3 |]\" onmouseleave=\"document.getElementById('py_80903248').style.outline='inherit'\" style=\"color: blue; background-color: #e0e0e0;\" onmouseenter=\"document.getElementById('py_80903248').style.outline='thick solid red'\">?3</SPAN></SPAN>|<SPAN style=\"padding: 5px\"><B>fr</B>=<SPAN>('b', 'c')</SPAN></SPAN>|<SPAN style=\"padding: 5px\"><B>r</B>=<SPAN>2</SPAN></SPAN>|<SPAN style=\"padding: 5px\"><B>to</B>=<SPAN>bc</SPAN></SPAN>|]</DIV></DIV></TD></TR></TBODY></TABLE>"
      ],
      "text/plain": [
       "<myutil.cache.CacheBlock at 0x4a8d908>"
      ]
     },
     "execution_count": 3,
     "metadata": {},
     "output_type": "execute_result"
    }
   ],
   "source": [
    "stepB.cache"
   ]
  },
  {
   "cell_type": "markdown",
   "metadata": {},
   "source": [
    "## Direct cache content display"
   ]
  },
  {
   "cell_type": "code",
   "execution_count": 1,
   "metadata": {
    "collapsed": false,
    "scrolled": true
   },
   "outputs": [
    {
     "data": {
      "text/html": [
       "<TABLE><THEAD><TR><TD style=\"padding:0; border-bottom: thick solid black;\" colspan=\"2\"><DIV id=\"py_77850608\"><DIV><DIV><TABLE><THEAD><TR style=\"background-color: gray; color: white\"><TD colspan=\"6\">1: myutil.demo.cache.simplefunc(x, y=3)</TD></TR><TR><TD/><TH>hitdate</TH><TH>ckey</TH><TH>size</TH><TH>tprc</TH><TH>ttot</TH></TR></THEAD><TBODY><TR><TH>13</TH><TD>2016-09-10 13:11:09</TD><TD><DIV style=\"padding:0\"><SPAN style=\"padding: 5px\"><SPAN>1</SPAN></SPAN><SPAN style=\"padding: 5px\"><SPAN>12</SPAN></SPAN></DIV></TD><TD>10B</TD><TD>0sec</TD><TD>4.35e-06sec</TD></TR><TR><TH>14</TH><TD>2016-09-10 13:11:09</TD><TD><DIV style=\"padding:0\"><SPAN style=\"padding: 5px\"><SPAN>1</SPAN></SPAN><SPAN style=\"padding: 5px\"><SPAN>13</SPAN></SPAN></DIV></TD><TD>10B</TD><TD>0sec</TD><TD>3.95e-06sec</TD></TR><TR><TH>15</TH><TD>2016-09-10 13:11:09</TD><TD><DIV style=\"padding:0\"><SPAN style=\"padding: 5px\"><SPAN>1</SPAN></SPAN><SPAN style=\"padding: 5px\"><SPAN>14</SPAN></SPAN></DIV></TD><TD>10B</TD><TD>0sec</TD><TD>5.93e-06sec</TD></TR><TR><TH>16</TH><TD>2016-09-10 13:11:09</TD><TD><DIV style=\"padding:0\"><SPAN style=\"padding: 5px\"><SPAN>1</SPAN></SPAN><SPAN style=\"padding: 5px\"><SPAN>15</SPAN></SPAN></DIV></TD><TD>10B</TD><TD>0sec</TD><TD>5.53e-06sec</TD></TR></TBODY></TABLE></DIV><DIV><TABLE><THEAD><TR style=\"background-color: gray; color: white\"><TD colspan=\"6\">2: myutil.demo.cache.longfunc(x, delay=10)</TD></TR><TR><TD/><TH>hitdate</TH><TH>ckey</TH><TH>size</TH><TH>tprc</TH><TH>ttot</TH></TR></THEAD><TBODY><TR><TH>18</TH><TD>2016-09-10 13:11:51</TD><TD><DIV style=\"padding:0\"><SPAN style=\"padding: 5px\"><SPAN>36</SPAN></SPAN><SPAN style=\"padding: 5px\"><SPAN>2</SPAN></SPAN></DIV></TD><TD>5B</TD><TD>0sec</TD><TD>2sec</TD></TR><TR><TH>20</TH><TD>2016-09-10 13:11:56</TD><TD><DIV style=\"padding:0\"><SPAN style=\"padding: 5px\"><SPAN>42</SPAN></SPAN><SPAN style=\"padding: 5px\"><SPAN>5</SPAN></SPAN></DIV></TD><TD>5B</TD><TD>0sec</TD><TD>5sec</TD></TR></TBODY></TABLE></DIV><DIV><TABLE><THEAD><TR style=\"background-color: gray; color: white\"><TD colspan=\"6\">3: myutil.demo.cache.vfunc{4852}(x)</TD></TR><TR><TD/><TH>hitdate</TH><TH>ckey</TH><TH>size</TH><TH>tprc</TH><TH>ttot</TH></TR></THEAD><TBODY/></TABLE></DIV><DIV><TABLE><THEAD><TR style=\"background-color: gray; color: white\"><TD colspan=\"6\">4: myutil.demo.cache.stepA(**ini)</TD></TR><TR><TD/><TH>hitdate</TH><TH>ckey</TH><TH>size</TH><TH>tprc</TH><TH>ttot</TH></TR></THEAD><TBODY><TR><TH>23</TH><TD>2016-09-10 13:12:11</TD><TD><DIV style=\"padding:0\"><SPAN style=\"padding: 5px\"><B>a</B>=<SPAN>1</SPAN></SPAN><SPAN style=\"padding: 5px\"><B>b</B>=<SPAN>2</SPAN></SPAN><SPAN style=\"padding: 5px\"><B>c</B>=<SPAN>3</SPAN></SPAN></DIV></TD><TD>38B</TD><TD>0sec</TD><TD>5.93e-06sec</TD></TR></TBODY></TABLE></DIV><DIV><TABLE><THEAD><TR style=\"background-color: gray; color: white\"><TD colspan=\"6\">5: myutil.demo.cache.stepB(E, fr=None, to=None, r=0)</TD></TR><TR><TD/><TH>hitdate</TH><TH>ckey</TH><TH>size</TH><TH>tprc</TH><TH>ttot</TH></TR></THEAD><TBODY><TR><TH>21</TH><TD>2016-09-10 13:12:26</TD><TD><DIV style=\"padding:0\"><SPAN style=\"padding: 5px\"><SPAN title=\"[| &lt;class 'collections.ChainMap'&gt; :: ?2 | ?4 |]\" style=\"color: blue; background-color: #e0e0e0;\" onmouseenter=\"document.getElementById('py_80650872').style.outline='thick solid red'\" onmouseleave=\"document.getElementById('py_80650872').style.outline='inherit'\">?1</SPAN></SPAN><SPAN style=\"padding: 5px\"><SPAN>('ab', 'bc')</SPAN></SPAN><SPAN style=\"padding: 5px\"><SPAN>abc</SPAN></SPAN><SPAN style=\"padding: 5px\"><SPAN>3</SPAN></SPAN></DIV></TD><TD>329B</TD><TD>0.0312sec</TD><TD>0.17sec</TD></TR><TR><TH>22</TH><TD>2016-09-10 13:12:11</TD><TD><DIV style=\"padding:0\"><SPAN style=\"padding: 5px\"><SPAN title=\"[| myutil.demo.cache.stepA :: a = 1 | b = 2 | c = 3 |]\" style=\"color: blue; background-color: #e0e0e0;\" onmouseenter=\"document.getElementById('py_80650424').style.outline='thick solid red'\" onmouseleave=\"document.getElementById('py_80650424').style.outline='inherit'\">?3</SPAN></SPAN><SPAN style=\"padding: 5px\"><SPAN>('a', 'b')</SPAN></SPAN><SPAN style=\"padding: 5px\"><SPAN>ab</SPAN></SPAN><SPAN style=\"padding: 5px\"><SPAN>1</SPAN></SPAN></DIV></TD><TD>163B</TD><TD>0.0156sec</TD><TD>0.0526sec</TD></TR><TR><TH>24</TH><TD>2016-09-10 13:12:11</TD><TD><DIV style=\"padding:0\"><SPAN style=\"padding: 5px\"><SPAN title=\"[| myutil.demo.cache.stepA :: a = 1 | b = 2 | c = 3 |]\" style=\"color: blue; background-color: #e0e0e0;\" onmouseenter=\"document.getElementById('py_80650424').style.outline='thick solid red'\" onmouseleave=\"document.getElementById('py_80650424').style.outline='inherit'\">?3</SPAN></SPAN><SPAN style=\"padding: 5px\"><SPAN>('b', 'c')</SPAN></SPAN><SPAN style=\"padding: 5px\"><SPAN>bc</SPAN></SPAN><SPAN style=\"padding: 5px\"><SPAN>2</SPAN></SPAN></DIV></TD><TD>163B</TD><TD>0sec</TD><TD>2.57e-05sec</TD></TR></TBODY></TABLE></DIV><DIV><TABLE><THEAD><TR style=\"background-color: gray; color: white\"><TD colspan=\"6\">6: myutil.demo.cache.vfunc{4316}(x)</TD></TR><TR><TD/><TH>hitdate</TH><TH>ckey</TH><TH>size</TH><TH>tprc</TH><TH>ttot</TH></TR></THEAD><TBODY/></TABLE></DIV><DIV><TABLE><THEAD><TR style=\"background-color: gray; color: white\"><TD colspan=\"6\">7: myutil.demo.cache.vfunc{7328}(x)</TD></TR><TR><TD/><TH>hitdate</TH><TH>ckey</TH><TH>size</TH><TH>tprc</TH><TH>ttot</TH></TR></THEAD><TBODY/></TABLE></DIV><DIV><TABLE><THEAD><TR style=\"background-color: gray; color: white\"><TD colspan=\"6\">8: myutil.demo.cache.vfunc{1076}(x)</TD></TR><TR><TD/><TH>hitdate</TH><TH>ckey</TH><TH>size</TH><TH>tprc</TH><TH>ttot</TH></TR></THEAD><TBODY/></TABLE></DIV></DIV></DIV></TD></TR></THEAD><TBODY><TR><TH style=\"color: blue; background-color: #e0e0e0;\">?1</TH><TD><DIV id=\"py_80650872\"><DIV style=\"padding:0\">[|<EM style=\"padding:5px;\">&lt;class 'collections.ChainMap'&gt;</EM><B>::</B><SPAN style=\"padding: 5px\"><SPAN title=\"[| myutil.demo.cache.stepB :: ?3 | fr = ('a', 'b') | r = 1 | to = ab |]\" style=\"color: blue; background-color: #e0e0e0;\" onmouseenter=\"document.getElementById('py_80650312').style.outline='thick solid red'\" onmouseleave=\"document.getElementById('py_80650312').style.outline='inherit'\">?2</SPAN></SPAN>|<SPAN style=\"padding: 5px\"><SPAN title=\"[| myutil.demo.cache.stepB :: ?3 | fr = ('b', 'c') | r = 2 | to = bc |]\" style=\"color: blue; background-color: #e0e0e0;\" onmouseenter=\"document.getElementById('py_80651096').style.outline='thick solid red'\" onmouseleave=\"document.getElementById('py_80651096').style.outline='inherit'\">?4</SPAN></SPAN>|]</DIV></DIV></TD></TR><TR><TH style=\"color: blue; background-color: #e0e0e0;\">?2</TH><TD><DIV id=\"py_80650312\"><DIV style=\"padding:0\">[|<EM style=\"padding:5px;\">myutil.demo.cache.stepB</EM><B>::</B><SPAN style=\"padding: 5px\"><SPAN title=\"[| myutil.demo.cache.stepA :: a = 1 | b = 2 | c = 3 |]\" style=\"color: blue; background-color: #e0e0e0;\" onmouseenter=\"document.getElementById('py_80650424').style.outline='thick solid red'\" onmouseleave=\"document.getElementById('py_80650424').style.outline='inherit'\">?3</SPAN></SPAN>|<SPAN style=\"padding: 5px\"><B>fr</B>=<SPAN>('a', 'b')</SPAN></SPAN>|<SPAN style=\"padding: 5px\"><B>r</B>=<SPAN>1</SPAN></SPAN>|<SPAN style=\"padding: 5px\"><B>to</B>=<SPAN>ab</SPAN></SPAN>|]</DIV></DIV></TD></TR><TR><TH style=\"color: blue; background-color: #e0e0e0;\">?3</TH><TD><DIV id=\"py_80650424\"><DIV style=\"padding:0\">[|<EM style=\"padding:5px;\">myutil.demo.cache.stepA</EM><B>::</B><SPAN style=\"padding: 5px\"><B>a</B>=<SPAN>1</SPAN></SPAN>|<SPAN style=\"padding: 5px\"><B>b</B>=<SPAN>2</SPAN></SPAN>|<SPAN style=\"padding: 5px\"><B>c</B>=<SPAN>3</SPAN></SPAN>|]</DIV></DIV></TD></TR><TR><TH style=\"color: blue; background-color: #e0e0e0;\">?4</TH><TD><DIV id=\"py_80651096\"><DIV style=\"padding:0\">[|<EM style=\"padding:5px;\">myutil.demo.cache.stepB</EM><B>::</B><SPAN style=\"padding: 5px\"><SPAN title=\"[| myutil.demo.cache.stepA :: a = 1 | b = 2 | c = 3 |]\" style=\"color: blue; background-color: #e0e0e0;\" onmouseenter=\"document.getElementById('py_80650424').style.outline='thick solid red'\" onmouseleave=\"document.getElementById('py_80650424').style.outline='inherit'\">?3</SPAN></SPAN>|<SPAN style=\"padding: 5px\"><B>fr</B>=<SPAN>('b', 'c')</SPAN></SPAN>|<SPAN style=\"padding: 5px\"><B>r</B>=<SPAN>2</SPAN></SPAN>|<SPAN style=\"padding: 5px\"><B>to</B>=<SPAN>bc</SPAN></SPAN>|]</DIV></DIV></TD></TR></TBODY></TABLE>"
      ],
      "text/plain": [
       "<myutil.cache.CacheDB at 0x4a3e7f0>"
      ]
     },
     "execution_count": 1,
     "metadata": {},
     "output_type": "execute_result"
    }
   ],
   "source": [
    "from myutil.cache import CacheDB\n",
    "db = CacheDB('cache.dir')\n",
    "db"
   ]
  },
  {
   "cell_type": "markdown",
   "metadata": {},
   "source": [
    "When a cache block has its cacheonly attribute set, attempts to create new cells fail."
   ]
  },
  {
   "cell_type": "code",
   "execution_count": 2,
   "metadata": {
    "collapsed": false
   },
   "outputs": [
    {
     "name": "stdout",
     "output_type": "stream",
     "text": [
      "f(1,2)=(1, 12)\n",
      "f(2)="
     ]
    },
    {
     "ename": "Exception",
     "evalue": "Cache cell creation disallowed",
     "output_type": "error",
     "traceback": [
      "\u001b[0;31m---------------------------------------------------------------------------\u001b[0m",
      "\u001b[0;31mException\u001b[0m                                 Traceback (most recent call last)",
      "\u001b[0;32m<ipython-input-2-bd13b63adde2>\u001b[0m in \u001b[0;36m<module>\u001b[0;34m()\u001b[0m\n\u001b[1;32m      2\u001b[0m \u001b[0mf\u001b[0m\u001b[1;33m.\u001b[0m\u001b[0mcache\u001b[0m\u001b[1;33m.\u001b[0m\u001b[0mcacheonly\u001b[0m \u001b[1;33m=\u001b[0m \u001b[1;32mTrue\u001b[0m\u001b[1;33m\u001b[0m\u001b[0m\n\u001b[1;32m      3\u001b[0m \u001b[0mprint\u001b[0m\u001b[1;33m(\u001b[0m\u001b[1;34m'f(1,2)='\u001b[0m\u001b[1;33m,\u001b[0m\u001b[0mend\u001b[0m\u001b[1;33m=\u001b[0m\u001b[1;34m''\u001b[0m\u001b[1;33m)\u001b[0m\u001b[1;33m;\u001b[0m\u001b[0mprint\u001b[0m\u001b[1;33m(\u001b[0m\u001b[0mf\u001b[0m\u001b[1;33m(\u001b[0m\u001b[1;36m1\u001b[0m\u001b[1;33m,\u001b[0m\u001b[1;36m12\u001b[0m\u001b[1;33m)\u001b[0m\u001b[1;33m)\u001b[0m\u001b[1;33m\u001b[0m\u001b[0m\n\u001b[0;32m----> 4\u001b[0;31m \u001b[0mprint\u001b[0m\u001b[1;33m(\u001b[0m\u001b[1;34m'f(2)='\u001b[0m\u001b[1;33m,\u001b[0m\u001b[0mend\u001b[0m\u001b[1;33m=\u001b[0m\u001b[1;34m''\u001b[0m\u001b[1;33m)\u001b[0m\u001b[1;33m;\u001b[0m\u001b[0mprint\u001b[0m\u001b[1;33m(\u001b[0m\u001b[0mf\u001b[0m\u001b[1;33m(\u001b[0m\u001b[1;36m2\u001b[0m\u001b[1;33m)\u001b[0m\u001b[1;33m)\u001b[0m\u001b[1;33m\u001b[0m\u001b[0m\n\u001b[0m",
      "\u001b[0;32mC:\\Users\\andreoli\\My Code\\src\\distrib\\myutil\\cache.py\u001b[0m in \u001b[0;36m<lambda>\u001b[0;34m(*a, **ka)\u001b[0m\n\u001b[1;32m    603\u001b[0m   \u001b[1;32mif\u001b[0m \u001b[1;32mnot\u001b[0m \u001b[0mhasattr\u001b[0m\u001b[1;33m(\u001b[0m\u001b[0mf\u001b[0m\u001b[1;33m,\u001b[0m\u001b[1;34m'version'\u001b[0m\u001b[1;33m)\u001b[0m\u001b[1;33m:\u001b[0m \u001b[0mf\u001b[0m\u001b[1;33m.\u001b[0m\u001b[0mversion\u001b[0m \u001b[1;33m=\u001b[0m \u001b[1;32mNone\u001b[0m\u001b[1;33m\u001b[0m\u001b[0m\n\u001b[1;32m    604\u001b[0m   \u001b[0mc\u001b[0m \u001b[1;33m=\u001b[0m \u001b[0mfactory\u001b[0m\u001b[1;33m(\u001b[0m\u001b[0mfunctor\u001b[0m\u001b[1;33m=\u001b[0m\u001b[0mFunctor\u001b[0m\u001b[1;33m(\u001b[0m\u001b[0mf\u001b[0m\u001b[1;33m)\u001b[0m\u001b[1;33m,\u001b[0m\u001b[1;33m**\u001b[0m\u001b[0mka\u001b[0m\u001b[1;33m)\u001b[0m\u001b[1;33m\u001b[0m\u001b[0m\n\u001b[0;32m--> 605\u001b[0;31m   \u001b[0mF\u001b[0m \u001b[1;33m=\u001b[0m \u001b[1;32mlambda\u001b[0m \u001b[1;33m*\u001b[0m\u001b[0ma\u001b[0m\u001b[1;33m,\u001b[0m\u001b[1;33m**\u001b[0m\u001b[0mka\u001b[0m\u001b[1;33m:\u001b[0m \u001b[0mc\u001b[0m\u001b[1;33m(\u001b[0m\u001b[1;33m(\u001b[0m\u001b[0ma\u001b[0m\u001b[1;33m,\u001b[0m\u001b[0mka\u001b[0m\u001b[1;33m)\u001b[0m\u001b[1;33m)\u001b[0m\u001b[1;33m\u001b[0m\u001b[0m\n\u001b[0m\u001b[1;32m    606\u001b[0m   \u001b[0mF\u001b[0m\u001b[1;33m.\u001b[0m\u001b[0mcache\u001b[0m \u001b[1;33m=\u001b[0m \u001b[0mc\u001b[0m\u001b[1;33m\u001b[0m\u001b[0m\n\u001b[1;32m    607\u001b[0m   \u001b[1;32mreturn\u001b[0m \u001b[0mupdate_wrapper\u001b[0m\u001b[1;33m(\u001b[0m\u001b[0mF\u001b[0m\u001b[1;33m,\u001b[0m\u001b[0mf\u001b[0m\u001b[1;33m)\u001b[0m\u001b[1;33m\u001b[0m\u001b[0m\n",
      "\u001b[0;32mC:\\Users\\andreoli\\My Code\\src\\distrib\\myutil\\cache.py\u001b[0m in \u001b[0;36m__call__\u001b[0;34m(self, arg)\u001b[0m\n\u001b[1;32m    302\u001b[0m       \u001b[0mrow\u001b[0m \u001b[1;33m=\u001b[0m \u001b[0mconn\u001b[0m\u001b[1;33m.\u001b[0m\u001b[0mexecute\u001b[0m\u001b[1;33m(\u001b[0m\u001b[1;34m'SELECT oid,size FROM Cell WHERE block=? AND ckey=?'\u001b[0m\u001b[1;33m,\u001b[0m\u001b[1;33m(\u001b[0m\u001b[0mself\u001b[0m\u001b[1;33m.\u001b[0m\u001b[0mblock\u001b[0m\u001b[1;33m,\u001b[0m\u001b[0mckey\u001b[0m\u001b[1;33m,\u001b[0m\u001b[1;33m)\u001b[0m\u001b[1;33m)\u001b[0m\u001b[1;33m.\u001b[0m\u001b[0mfetchone\u001b[0m\u001b[1;33m(\u001b[0m\u001b[1;33m)\u001b[0m\u001b[1;33m\u001b[0m\u001b[0m\n\u001b[1;32m    303\u001b[0m       \u001b[1;32mif\u001b[0m \u001b[0mrow\u001b[0m \u001b[1;32mis\u001b[0m \u001b[1;32mNone\u001b[0m\u001b[1;33m:\u001b[0m\u001b[1;33m\u001b[0m\u001b[0m\n\u001b[0;32m--> 304\u001b[0;31m         \u001b[1;32mif\u001b[0m \u001b[0mself\u001b[0m\u001b[1;33m.\u001b[0m\u001b[0mcacheonly\u001b[0m\u001b[1;33m:\u001b[0m \u001b[1;32mraise\u001b[0m \u001b[0mException\u001b[0m\u001b[1;33m(\u001b[0m\u001b[1;34m'Cache cell creation disallowed'\u001b[0m\u001b[1;33m)\u001b[0m\u001b[1;33m\u001b[0m\u001b[0m\n\u001b[0m\u001b[1;32m    305\u001b[0m         \u001b[0mcell\u001b[0m \u001b[1;33m=\u001b[0m \u001b[0mconn\u001b[0m\u001b[1;33m.\u001b[0m\u001b[0mexecute\u001b[0m\u001b[1;33m(\u001b[0m\u001b[1;34m'INSERT INTO Cell (block,ckey) VALUES (?,?)'\u001b[0m\u001b[1;33m,\u001b[0m\u001b[1;33m(\u001b[0m\u001b[0mself\u001b[0m\u001b[1;33m.\u001b[0m\u001b[0mblock\u001b[0m\u001b[1;33m,\u001b[0m\u001b[0mckey\u001b[0m\u001b[1;33m)\u001b[0m\u001b[1;33m)\u001b[0m\u001b[1;33m.\u001b[0m\u001b[0mlastrowid\u001b[0m\u001b[1;33m\u001b[0m\u001b[0m\n\u001b[1;32m    306\u001b[0m         \u001b[0mconn\u001b[0m\u001b[1;33m.\u001b[0m\u001b[0mexecute\u001b[0m\u001b[1;33m(\u001b[0m\u001b[1;34m'UPDATE Block SET misses=misses+1 WHERE oid=?'\u001b[0m\u001b[1;33m,\u001b[0m\u001b[1;33m(\u001b[0m\u001b[0mself\u001b[0m\u001b[1;33m.\u001b[0m\u001b[0mblock\u001b[0m\u001b[1;33m,\u001b[0m\u001b[1;33m)\u001b[0m\u001b[1;33m)\u001b[0m\u001b[1;33m\u001b[0m\u001b[0m\n",
      "\u001b[0;31mException\u001b[0m: Cache cell creation disallowed"
     ]
    }
   ],
   "source": [
    "from myutil.demo.cache import simplefunc as f\n",
    "f.cache.cacheonly = True\n",
    "print('f(1,2)=',end='');print(f(1,12))\n",
    "print('f(2)=',end='');print(f(2))"
   ]
  },
  {
   "cell_type": "code",
   "execution_count": null,
   "metadata": {
    "collapsed": true
   },
   "outputs": [],
   "source": []
  }
 ],
 "metadata": {
  "anaconda-cloud": {},
  "kernelspec": {
   "display_name": "Python [default]",
   "language": "python",
   "name": "python3"
  },
  "language_info": {
   "codemirror_mode": {
    "name": "ipython",
    "version": 3
   },
   "file_extension": ".py",
   "mimetype": "text/x-python",
   "name": "python",
   "nbconvert_exporter": "python",
   "pygments_lexer": "ipython3",
   "version": "3.5.1"
  }
 },
 "nbformat": 4,
 "nbformat_minor": 0
}
