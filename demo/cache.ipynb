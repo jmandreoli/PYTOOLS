{
 "cells": [
  {
   "cell_type": "markdown",
   "metadata": {},
   "source": [
    "# Test of module myutil.cache\n",
    "Documentation: [here](../doc/_build/html/cache.html)"
   ]
  },
  {
   "cell_type": "code",
   "execution_count": 1,
   "metadata": {
    "collapsed": false
   },
   "outputs": [],
   "source": [
    "%autoreload 2\n",
    "#!rm -f cache.dir/*"
   ]
  },
  {
   "cell_type": "markdown",
   "metadata": {},
   "source": [
    "## Base caching"
   ]
  },
  {
   "cell_type": "code",
   "execution_count": 2,
   "metadata": {
    "collapsed": false
   },
   "outputs": [
    {
     "data": {
      "text/plain": [
       "CellInfo(signature='myutil.demo.cache.simplefunc', hits=0, misses=0, maxsize=10, currsize=0)"
      ]
     },
     "execution_count": 2,
     "metadata": {},
     "output_type": "execute_result"
    }
   ],
   "source": [
    "from myutil import loggingBasicConfig\n",
    "loggingBasicConfig(level='INFO')\n",
    "from myutil.demo.cache import simplefunc as f\n",
    "f.cache.clear(); f.cache.resize(10)\n",
    "f.cache.info()"
   ]
  },
  {
   "cell_type": "markdown",
   "metadata": {},
   "source": [
    "All cache lookups miss (if cache was cleared):"
   ]
  },
  {
   "cell_type": "code",
   "execution_count": 3,
   "metadata": {
    "collapsed": false
   },
   "outputs": [
    {
     "name": "stderr",
     "output_type": "stream",
     "text": [
      "INFO:myutil.cache:Cache</home/andreoli/src/PYTOOLS/demo/cache.dir:myutil.demo.cache.simplefunc(x,y,-z)> MISS(1)\n",
      "INFO:myutil.cache:Cache</home/andreoli/src/PYTOOLS/demo/cache.dir:myutil.demo.cache.simplefunc(x,y,-z)> MISS(2)\n",
      "INFO:myutil.cache:Cache</home/andreoli/src/PYTOOLS/demo/cache.dir:myutil.demo.cache.simplefunc(x,y,-z)> MISS(3)\n",
      "INFO:myutil.cache:Cache</home/andreoli/src/PYTOOLS/demo/cache.dir:myutil.demo.cache.simplefunc(x,y,-z)> MISS(4)\n",
      "INFO:myutil.cache:Cache</home/andreoli/src/PYTOOLS/demo/cache.dir:myutil.demo.cache.simplefunc(x,y,-z)> MISS(5)\n",
      "INFO:myutil.cache:Cache</home/andreoli/src/PYTOOLS/demo/cache.dir:myutil.demo.cache.simplefunc(x,y,-z)> MISS(6)\n",
      "INFO:myutil.cache:Cache</home/andreoli/src/PYTOOLS/demo/cache.dir:myutil.demo.cache.simplefunc(x,y,-z)> MISS(7)\n",
      "INFO:myutil.cache:Cache</home/andreoli/src/PYTOOLS/demo/cache.dir:myutil.demo.cache.simplefunc(x,y,-z)> MISS(8)\n",
      "INFO:myutil.cache:Cache</home/andreoli/src/PYTOOLS/demo/cache.dir:myutil.demo.cache.simplefunc(x,y,-z)> MISS(9)\n",
      "INFO:myutil.cache:Cache</home/andreoli/src/PYTOOLS/demo/cache.dir:myutil.demo.cache.simplefunc(x,y,-z)> MISS(10)\n",
      "INFO:myutil.cache:Cache</home/andreoli/src/PYTOOLS/demo/cache.dir:myutil.demo.cache.simplefunc(x,y,-z)> MISS(11)\n",
      "INFO:myutil.cache:Cache</home/andreoli/src/PYTOOLS/demo/cache.dir:myutil.demo.cache.simplefunc(x,y,-z)> OVERFLOW(1)\n",
      "INFO:myutil.cache:Cache</home/andreoli/src/PYTOOLS/demo/cache.dir:myutil.demo.cache.simplefunc(x,y,-z)> MISS(12)\n",
      "INFO:myutil.cache:Cache</home/andreoli/src/PYTOOLS/demo/cache.dir:myutil.demo.cache.simplefunc(x,y,-z)> OVERFLOW(1)\n",
      "INFO:myutil.cache:Cache</home/andreoli/src/PYTOOLS/demo/cache.dir:myutil.demo.cache.simplefunc(x,y,-z)> MISS(13)\n",
      "INFO:myutil.cache:Cache</home/andreoli/src/PYTOOLS/demo/cache.dir:myutil.demo.cache.simplefunc(x,y,-z)> OVERFLOW(1)\n",
      "INFO:myutil.cache:Cache</home/andreoli/src/PYTOOLS/demo/cache.dir:myutil.demo.cache.simplefunc(x,y,-z)> MISS(14)\n",
      "INFO:myutil.cache:Cache</home/andreoli/src/PYTOOLS/demo/cache.dir:myutil.demo.cache.simplefunc(x,y,-z)> OVERFLOW(1)\n",
      "INFO:myutil.cache:Cache</home/andreoli/src/PYTOOLS/demo/cache.dir:myutil.demo.cache.simplefunc(x,y,-z)> MISS(15)\n",
      "INFO:myutil.cache:Cache</home/andreoli/src/PYTOOLS/demo/cache.dir:myutil.demo.cache.simplefunc(x,y,-z)> OVERFLOW(1)\n"
     ]
    }
   ],
   "source": [
    "for i in range(15): f(x=1,y=i)"
   ]
  },
  {
   "cell_type": "code",
   "execution_count": 4,
   "metadata": {
    "collapsed": false
   },
   "outputs": [
    {
     "data": {
      "text/plain": [
       "CellInfo(signature='myutil.demo.cache.simplefunc', hits=0, misses=15, maxsize=10, currsize=10)"
      ]
     },
     "execution_count": 4,
     "metadata": {},
     "output_type": "execute_result"
    }
   ],
   "source": [
    "f.cache.info()"
   ]
  },
  {
   "cell_type": "code",
   "execution_count": 5,
   "metadata": {
    "collapsed": false,
    "scrolled": true
   },
   "outputs": [
    {
     "data": {
      "text/html": [
       "<DIV id=\"py_139915140303672\"><TABLE><THEAD><TR style=\"background-color: gray; color: white\"><TD colspan=\"6\">1: myutil.demo.cache.simplefunc(x,y,-z)</TD></TR><TR><TD/><TH>hitdate</TH><TH>ckey</TH><TH>size</TH><TH>tprc</TH><TH>ttot</TH></TR></THEAD><TBODY><TR><TH>6</TH><TD>2016-06-16 19:13:39</TD><TD><DIV style=\"padding:0\"><DIV style=\"display: inline; padding: 5px;\"><B>x</B>=<SPAN>1</SPAN></DIV><DIV style=\"display: inline; padding: 5px;\"><B>y</B>=<SPAN>5</SPAN></DIV></DIV></TD><TD>10B</TD><TD>0sec</TD><TD>0sec</TD></TR><TR><TH>7</TH><TD>2016-06-16 19:13:39</TD><TD><DIV style=\"padding:0\"><DIV style=\"display: inline; padding: 5px;\"><B>x</B>=<SPAN>1</SPAN></DIV><DIV style=\"display: inline; padding: 5px;\"><B>y</B>=<SPAN>6</SPAN></DIV></DIV></TD><TD>10B</TD><TD>0sec</TD><TD>0sec</TD></TR><TR><TH>8</TH><TD>2016-06-16 19:13:39</TD><TD><DIV style=\"padding:0\"><DIV style=\"display: inline; padding: 5px;\"><B>x</B>=<SPAN>1</SPAN></DIV><DIV style=\"display: inline; padding: 5px;\"><B>y</B>=<SPAN>7</SPAN></DIV></DIV></TD><TD>10B</TD><TD>0sec</TD><TD>0sec</TD></TR><TR><TH>9</TH><TD>2016-06-16 19:13:39</TD><TD><DIV style=\"padding:0\"><DIV style=\"display: inline; padding: 5px;\"><B>x</B>=<SPAN>1</SPAN></DIV><DIV style=\"display: inline; padding: 5px;\"><B>y</B>=<SPAN>8</SPAN></DIV></DIV></TD><TD>10B</TD><TD>0sec</TD><TD>0sec</TD></TR><TR><TH>10</TH><TD>2016-06-16 19:13:39</TD><TD><DIV style=\"padding:0\"><DIV style=\"display: inline; padding: 5px;\"><B>x</B>=<SPAN>1</SPAN></DIV><DIV style=\"display: inline; padding: 5px;\"><B>y</B>=<SPAN>9</SPAN></DIV></DIV></TD><TD>10B</TD><TD>0sec</TD><TD>0sec</TD></TR><TR><TH>11</TH><TD>2016-06-16 19:13:39</TD><TD><DIV style=\"padding:0\"><DIV style=\"display: inline; padding: 5px;\"><B>x</B>=<SPAN>1</SPAN></DIV><DIV style=\"display: inline; padding: 5px;\"><B>y</B>=<SPAN>10</SPAN></DIV></DIV></TD><TD>10B</TD><TD>0sec</TD><TD>0sec</TD></TR><TR><TH>12</TH><TD>2016-06-16 19:13:40</TD><TD><DIV style=\"padding:0\"><DIV style=\"display: inline; padding: 5px;\"><B>x</B>=<SPAN>1</SPAN></DIV><DIV style=\"display: inline; padding: 5px;\"><B>y</B>=<SPAN>11</SPAN></DIV></DIV></TD><TD>10B</TD><TD>0sec</TD><TD>0sec</TD></TR><TR><TH>13</TH><TD>2016-06-16 19:13:40</TD><TD><DIV style=\"padding:0\"><DIV style=\"display: inline; padding: 5px;\"><B>x</B>=<SPAN>1</SPAN></DIV><DIV style=\"display: inline; padding: 5px;\"><B>y</B>=<SPAN>12</SPAN></DIV></DIV></TD><TD>10B</TD><TD>0sec</TD><TD>0sec</TD></TR><TR><TH>14</TH><TD>2016-06-16 19:13:40</TD><TD><DIV style=\"padding:0\"><DIV style=\"display: inline; padding: 5px;\"><B>x</B>=<SPAN>1</SPAN></DIV><DIV style=\"display: inline; padding: 5px;\"><B>y</B>=<SPAN>13</SPAN></DIV></DIV></TD><TD>10B</TD><TD>0sec</TD><TD>0sec</TD></TR><TR><TH>15</TH><TD>2016-06-16 19:13:40</TD><TD><DIV style=\"padding:0\"><DIV style=\"display: inline; padding: 5px;\"><B>x</B>=<SPAN>1</SPAN></DIV><DIV style=\"display: inline; padding: 5px;\"><B>y</B>=<SPAN>14</SPAN></DIV></DIV></TD><TD>10B</TD><TD>0sec</TD><TD>0sec</TD></TR></TBODY></TABLE></DIV>"
      ],
      "text/plain": [
       "<myutil.cache.CacheBlock at 0x7f40883c8b38>"
      ]
     },
     "execution_count": 5,
     "metadata": {},
     "output_type": "execute_result"
    }
   ],
   "source": [
    "f.cache"
   ]
  },
  {
   "cell_type": "markdown",
   "metadata": {},
   "source": [
    "All cache lookups hit, except last one (for i=15):"
   ]
  },
  {
   "cell_type": "code",
   "execution_count": 6,
   "metadata": {
    "collapsed": false
   },
   "outputs": [
    {
     "name": "stderr",
     "output_type": "stream",
     "text": [
      "INFO:myutil.cache:Cache</home/andreoli/src/PYTOOLS/demo/cache.dir:myutil.demo.cache.simplefunc(x,y,-z)> HIT(6)\n",
      "INFO:myutil.cache:Cache</home/andreoli/src/PYTOOLS/demo/cache.dir:myutil.demo.cache.simplefunc(x,y,-z)> HIT(7)\n",
      "INFO:myutil.cache:Cache</home/andreoli/src/PYTOOLS/demo/cache.dir:myutil.demo.cache.simplefunc(x,y,-z)> HIT(8)\n",
      "INFO:myutil.cache:Cache</home/andreoli/src/PYTOOLS/demo/cache.dir:myutil.demo.cache.simplefunc(x,y,-z)> HIT(9)\n",
      "INFO:myutil.cache:Cache</home/andreoli/src/PYTOOLS/demo/cache.dir:myutil.demo.cache.simplefunc(x,y,-z)> HIT(10)\n",
      "INFO:myutil.cache:Cache</home/andreoli/src/PYTOOLS/demo/cache.dir:myutil.demo.cache.simplefunc(x,y,-z)> HIT(13)\n",
      "INFO:myutil.cache:Cache</home/andreoli/src/PYTOOLS/demo/cache.dir:myutil.demo.cache.simplefunc(x,y,-z)> HIT(14)\n",
      "INFO:myutil.cache:Cache</home/andreoli/src/PYTOOLS/demo/cache.dir:myutil.demo.cache.simplefunc(x,y,-z)> HIT(15)\n",
      "INFO:myutil.cache:Cache</home/andreoli/src/PYTOOLS/demo/cache.dir:myutil.demo.cache.simplefunc(x,y,-z)> MISS(16)\n",
      "INFO:myutil.cache:Cache</home/andreoli/src/PYTOOLS/demo/cache.dir:myutil.demo.cache.simplefunc(x,y,-z)> OVERFLOW(1)\n"
     ]
    }
   ],
   "source": [
    "for i in range(5,10): f(y=i,x=1)\n",
    "for i in range(12,16): f(x=1,y=i)"
   ]
  },
  {
   "cell_type": "code",
   "execution_count": 7,
   "metadata": {
    "collapsed": false,
    "scrolled": true
   },
   "outputs": [
    {
     "data": {
      "text/html": [
       "<DIV id=\"py_139915140303672\"><TABLE><THEAD><TR style=\"background-color: gray; color: white\"><TD colspan=\"6\">1: myutil.demo.cache.simplefunc(x,y,-z)</TD></TR><TR><TD/><TH>hitdate</TH><TH>ckey</TH><TH>size</TH><TH>tprc</TH><TH>ttot</TH></TR></THEAD><TBODY><TR><TH>6</TH><TD>2016-06-16 19:13:50</TD><TD><DIV style=\"padding:0\"><DIV style=\"display: inline; padding: 5px;\"><B>x</B>=<SPAN>1</SPAN></DIV><DIV style=\"display: inline; padding: 5px;\"><B>y</B>=<SPAN>5</SPAN></DIV></DIV></TD><TD>10B</TD><TD>0sec</TD><TD>0sec</TD></TR><TR><TH>7</TH><TD>2016-06-16 19:13:50</TD><TD><DIV style=\"padding:0\"><DIV style=\"display: inline; padding: 5px;\"><B>x</B>=<SPAN>1</SPAN></DIV><DIV style=\"display: inline; padding: 5px;\"><B>y</B>=<SPAN>6</SPAN></DIV></DIV></TD><TD>10B</TD><TD>0sec</TD><TD>0sec</TD></TR><TR><TH>8</TH><TD>2016-06-16 19:13:50</TD><TD><DIV style=\"padding:0\"><DIV style=\"display: inline; padding: 5px;\"><B>x</B>=<SPAN>1</SPAN></DIV><DIV style=\"display: inline; padding: 5px;\"><B>y</B>=<SPAN>7</SPAN></DIV></DIV></TD><TD>10B</TD><TD>0sec</TD><TD>0sec</TD></TR><TR><TH>9</TH><TD>2016-06-16 19:13:50</TD><TD><DIV style=\"padding:0\"><DIV style=\"display: inline; padding: 5px;\"><B>x</B>=<SPAN>1</SPAN></DIV><DIV style=\"display: inline; padding: 5px;\"><B>y</B>=<SPAN>8</SPAN></DIV></DIV></TD><TD>10B</TD><TD>0sec</TD><TD>0sec</TD></TR><TR><TH>10</TH><TD>2016-06-16 19:13:50</TD><TD><DIV style=\"padding:0\"><DIV style=\"display: inline; padding: 5px;\"><B>x</B>=<SPAN>1</SPAN></DIV><DIV style=\"display: inline; padding: 5px;\"><B>y</B>=<SPAN>9</SPAN></DIV></DIV></TD><TD>10B</TD><TD>0sec</TD><TD>0sec</TD></TR><TR><TH>12</TH><TD>2016-06-16 19:13:40</TD><TD><DIV style=\"padding:0\"><DIV style=\"display: inline; padding: 5px;\"><B>x</B>=<SPAN>1</SPAN></DIV><DIV style=\"display: inline; padding: 5px;\"><B>y</B>=<SPAN>11</SPAN></DIV></DIV></TD><TD>10B</TD><TD>0sec</TD><TD>0sec</TD></TR><TR><TH>13</TH><TD>2016-06-16 19:13:50</TD><TD><DIV style=\"padding:0\"><DIV style=\"display: inline; padding: 5px;\"><B>x</B>=<SPAN>1</SPAN></DIV><DIV style=\"display: inline; padding: 5px;\"><B>y</B>=<SPAN>12</SPAN></DIV></DIV></TD><TD>10B</TD><TD>0sec</TD><TD>0sec</TD></TR><TR><TH>14</TH><TD>2016-06-16 19:13:50</TD><TD><DIV style=\"padding:0\"><DIV style=\"display: inline; padding: 5px;\"><B>x</B>=<SPAN>1</SPAN></DIV><DIV style=\"display: inline; padding: 5px;\"><B>y</B>=<SPAN>13</SPAN></DIV></DIV></TD><TD>10B</TD><TD>0sec</TD><TD>0sec</TD></TR><TR><TH>15</TH><TD>2016-06-16 19:13:50</TD><TD><DIV style=\"padding:0\"><DIV style=\"display: inline; padding: 5px;\"><B>x</B>=<SPAN>1</SPAN></DIV><DIV style=\"display: inline; padding: 5px;\"><B>y</B>=<SPAN>14</SPAN></DIV></DIV></TD><TD>10B</TD><TD>0sec</TD><TD>0sec</TD></TR><TR><TH>16</TH><TD>2016-06-16 19:13:50</TD><TD><DIV style=\"padding:0\"><DIV style=\"display: inline; padding: 5px;\"><B>x</B>=<SPAN>1</SPAN></DIV><DIV style=\"display: inline; padding: 5px;\"><B>y</B>=<SPAN>15</SPAN></DIV></DIV></TD><TD>10B</TD><TD>0sec</TD><TD>0sec</TD></TR></TBODY></TABLE></DIV>"
      ],
      "text/plain": [
       "<myutil.cache.CacheBlock at 0x7f40883c8b38>"
      ]
     },
     "execution_count": 7,
     "metadata": {},
     "output_type": "execute_result"
    }
   ],
   "source": [
    "f.cache"
   ]
  },
  {
   "cell_type": "code",
   "execution_count": 8,
   "metadata": {
    "collapsed": false
   },
   "outputs": [
    {
     "name": "stderr",
     "output_type": "stream",
     "text": [
      "INFO:myutil.cache:Cache</home/andreoli/src/PYTOOLS/demo/cache.dir:myutil.demo.cache.simplefunc(x,y,-z)> OVERFLOW(6)\n"
     ]
    },
    {
     "data": {
      "text/html": [
       "<DIV id=\"py_139915140303672\"><TABLE><THEAD><TR style=\"background-color: gray; color: white\"><TD colspan=\"6\">1: myutil.demo.cache.simplefunc(x,y,-z)</TD></TR><TR><TD/><TH>hitdate</TH><TH>ckey</TH><TH>size</TH><TH>tprc</TH><TH>ttot</TH></TR></THEAD><TBODY><TR><TH>13</TH><TD>2016-06-16 19:13:50</TD><TD><DIV style=\"padding:0\"><DIV style=\"display: inline; padding: 5px;\"><B>x</B>=<SPAN>1</SPAN></DIV><DIV style=\"display: inline; padding: 5px;\"><B>y</B>=<SPAN>12</SPAN></DIV></DIV></TD><TD>10B</TD><TD>0sec</TD><TD>0sec</TD></TR><TR><TH>14</TH><TD>2016-06-16 19:13:50</TD><TD><DIV style=\"padding:0\"><DIV style=\"display: inline; padding: 5px;\"><B>x</B>=<SPAN>1</SPAN></DIV><DIV style=\"display: inline; padding: 5px;\"><B>y</B>=<SPAN>13</SPAN></DIV></DIV></TD><TD>10B</TD><TD>0sec</TD><TD>0sec</TD></TR><TR><TH>15</TH><TD>2016-06-16 19:13:50</TD><TD><DIV style=\"padding:0\"><DIV style=\"display: inline; padding: 5px;\"><B>x</B>=<SPAN>1</SPAN></DIV><DIV style=\"display: inline; padding: 5px;\"><B>y</B>=<SPAN>14</SPAN></DIV></DIV></TD><TD>10B</TD><TD>0sec</TD><TD>0sec</TD></TR><TR><TH>16</TH><TD>2016-06-16 19:13:50</TD><TD><DIV style=\"padding:0\"><DIV style=\"display: inline; padding: 5px;\"><B>x</B>=<SPAN>1</SPAN></DIV><DIV style=\"display: inline; padding: 5px;\"><B>y</B>=<SPAN>15</SPAN></DIV></DIV></TD><TD>10B</TD><TD>0sec</TD><TD>0sec</TD></TR></TBODY></TABLE></DIV>"
      ],
      "text/plain": [
       "<myutil.cache.CacheBlock at 0x7f40883c8b38>"
      ]
     },
     "execution_count": 8,
     "metadata": {},
     "output_type": "execute_result"
    }
   ],
   "source": [
    "f.cache.resize(4)\n",
    "f.cache"
   ]
  },
  {
   "cell_type": "markdown",
   "metadata": {},
   "source": [
    "## Error management"
   ]
  },
  {
   "cell_type": "code",
   "execution_count": 9,
   "metadata": {
    "collapsed": false
   },
   "outputs": [],
   "source": [
    "from myutil.demo.cache import longfunc\n",
    "longfunc.cache.clear()\n",
    "longfunc.cache.info()\n",
    "class timing:\n",
    "    def __enter__(self): from time import perf_counter; self.time = perf_counter(); return self\n",
    "    def __exit__(self,*a): from time import perf_counter; self.time = perf_counter()-self.time"
   ]
  },
  {
   "cell_type": "markdown",
   "metadata": {},
   "source": [
    "Cache lookup misses (if cache was cleared).\n",
    "Execution lasts 3 seconds and raises exception, which is cached.\n",
    "On second iteration, cache hits and exception is directly raised.\n",
    "Note that cache values which are exceptions are marked with a star in the size column."
   ]
  },
  {
   "cell_type": "code",
   "execution_count": 10,
   "metadata": {
    "collapsed": false
   },
   "outputs": [
    {
     "name": "stdout",
     "output_type": "stream",
     "text": [
      "Iteration 1..."
     ]
    },
    {
     "name": "stderr",
     "output_type": "stream",
     "text": [
      "INFO:myutil.cache:Cache</home/andreoli/src/PYTOOLS/demo/cache.dir:myutil.demo.cache.longfunc(x,-delay)> MISS(17)\n"
     ]
    },
    {
     "name": "stdout",
     "output_type": "stream",
     "text": [
      "result: Exception[longfunc error] (3.1sec)\n",
      "Iteration 2..."
     ]
    },
    {
     "name": "stderr",
     "output_type": "stream",
     "text": [
      "INFO:myutil.cache:Cache</home/andreoli/src/PYTOOLS/demo/cache.dir:myutil.demo.cache.longfunc(x,-delay)> HIT(17)\n"
     ]
    },
    {
     "name": "stdout",
     "output_type": "stream",
     "text": [
      "result: Exception[longfunc error] (0.0sec)\n"
     ]
    }
   ],
   "source": [
    "for i in range(1,3):\n",
    "    print('Iteration',i,end='...',flush=True)\n",
    "    with timing() as T:\n",
    "        try: v = longfunc(None,3)\n",
    "        except Exception as e: v = 'Exception[{}]'.format(e)\n",
    "    print('result:',v,'({:.01f}sec)'.format(T.time),flush=True)"
   ]
  },
  {
   "cell_type": "code",
   "execution_count": 11,
   "metadata": {
    "collapsed": false
   },
   "outputs": [
    {
     "data": {
      "text/html": [
       "<DIV id=\"py_139915139755872\"><TABLE><THEAD><TR style=\"background-color: gray; color: white\"><TD colspan=\"6\">2: myutil.demo.cache.longfunc(x,-delay)</TD></TR><TR><TD/><TH>hitdate</TH><TH>ckey</TH><TH>size</TH><TH>tprc</TH><TH>ttot</TH></TR></THEAD><TBODY><TR><TH>17</TH><TD>2016-06-16 19:14:14</TD><TD><DIV style=\"padding:0\"><DIV style=\"display: inline; padding: 5px;\"><B>x</B>=<SPAN>None</SPAN></DIV></DIV></TD><TD>*52B</TD><TD>0sec</TD><TD>3sec</TD></TR></TBODY></TABLE></DIV>"
      ],
      "text/plain": [
       "<myutil.cache.CacheBlock at 0x7f4088342f60>"
      ]
     },
     "execution_count": 11,
     "metadata": {},
     "output_type": "execute_result"
    }
   ],
   "source": [
    "longfunc.cache"
   ]
  },
  {
   "cell_type": "markdown",
   "metadata": {},
   "source": [
    "Now, interrupt execution for 42,5 in iteration 1. The ``KeyboardInterrupt`` exception is cached. The ``clear_error`` call will clear that cached value so iteration 2 will complete successufully."
   ]
  },
  {
   "cell_type": "code",
   "execution_count": 12,
   "metadata": {
    "collapsed": false
   },
   "outputs": [
    {
     "name": "stdout",
     "output_type": "stream",
     "text": [
      "Iteration 1 (36, 2)..."
     ]
    },
    {
     "name": "stderr",
     "output_type": "stream",
     "text": [
      "INFO:myutil.cache:Cache</home/andreoli/src/PYTOOLS/demo/cache.dir:myutil.demo.cache.longfunc(x,-delay)> MISS(18)\n"
     ]
    },
    {
     "name": "stdout",
     "output_type": "stream",
     "text": [
      "result: 36 (2.1sec)\n",
      "Iteration 1 (42, 5)..."
     ]
    },
    {
     "name": "stderr",
     "output_type": "stream",
     "text": [
      "INFO:myutil.cache:Cache</home/andreoli/src/PYTOOLS/demo/cache.dir:myutil.demo.cache.longfunc(x,-delay)> MISS(19)\n"
     ]
    },
    {
     "name": "stdout",
     "output_type": "stream",
     "text": [
      "result: Exception[] (1.7sec)\n",
      "Iteration 2 (36, 2)..."
     ]
    },
    {
     "name": "stderr",
     "output_type": "stream",
     "text": [
      "INFO:myutil.cache:Cache</home/andreoli/src/PYTOOLS/demo/cache.dir:myutil.demo.cache.longfunc(x,-delay)> HIT(18)\n"
     ]
    },
    {
     "name": "stdout",
     "output_type": "stream",
     "text": [
      "result: 36 (0.0sec)\n",
      "Iteration 2 (42, 5)..."
     ]
    },
    {
     "name": "stderr",
     "output_type": "stream",
     "text": [
      "INFO:myutil.cache:Cache</home/andreoli/src/PYTOOLS/demo/cache.dir:myutil.demo.cache.longfunc(x,-delay)> MISS(20)\n"
     ]
    },
    {
     "name": "stdout",
     "output_type": "stream",
     "text": [
      "result: 42 (5.1sec)\n"
     ]
    }
   ],
   "source": [
    "for i in range(1,3):\n",
    "    for x,t in (36,2),(42,5):\n",
    "        print('Iteration',i,(x,t),end='...',flush=True)\n",
    "        with timing() as T:\n",
    "            try: v = longfunc(x,t)\n",
    "            except BaseException as e: v = 'Exception[{}]'.format(e)\n",
    "        print('result:',v,'({:.01f}sec)'.format(T.time),flush=True)\n",
    "    longfunc.cache.clear_error()"
   ]
  },
  {
   "cell_type": "code",
   "execution_count": 13,
   "metadata": {
    "collapsed": false
   },
   "outputs": [
    {
     "data": {
      "text/html": [
       "<DIV id=\"py_139915139755872\"><TABLE><THEAD><TR style=\"background-color: gray; color: white\"><TD colspan=\"6\">2: myutil.demo.cache.longfunc(x,-delay)</TD></TR><TR><TD/><TH>hitdate</TH><TH>ckey</TH><TH>size</TH><TH>tprc</TH><TH>ttot</TH></TR></THEAD><TBODY><TR><TH>18</TH><TD>2016-06-16 19:15:29</TD><TD><DIV style=\"padding:0\"><DIV style=\"display: inline; padding: 5px;\"><B>x</B>=<SPAN>36</SPAN></DIV></DIV></TD><TD>5B</TD><TD>0sec</TD><TD>2sec</TD></TR><TR><TH>20</TH><TD>2016-06-16 19:15:34</TD><TD><DIV style=\"padding:0\"><DIV style=\"display: inline; padding: 5px;\"><B>x</B>=<SPAN>42</SPAN></DIV></DIV></TD><TD>5B</TD><TD>0sec</TD><TD>5sec</TD></TR></TBODY></TABLE></DIV>"
      ],
      "text/plain": [
       "<myutil.cache.CacheBlock at 0x7f4088342f60>"
      ]
     },
     "execution_count": 13,
     "metadata": {},
     "output_type": "execute_result"
    }
   ],
   "source": [
    "longfunc.cache"
   ]
  },
  {
   "cell_type": "markdown",
   "metadata": {},
   "source": [
    "## Processes\n",
    "\n",
    "Restart the kernel before each run."
   ]
  },
  {
   "cell_type": "code",
   "execution_count": 1,
   "metadata": {
    "collapsed": false
   },
   "outputs": [],
   "source": [
    "from myutil import loggingBasicConfig\n",
    "loggingBasicConfig(level='INFO')\n",
    "from myutil.demo.cache import proc, stepA, stepB\n",
    "#for s in (stepA,stepB): s.cache.clear() # un/comment to clear/keep cache from previous run\n",
    "e = proc()"
   ]
  },
  {
   "cell_type": "code",
   "execution_count": 2,
   "metadata": {
    "collapsed": false
   },
   "outputs": [
    {
     "name": "stderr",
     "output_type": "stream",
     "text": [
      "INFO:myutil.cache:Cache</home/andreoli/src/PYTOOLS/demo/cache.dir:myutil.demo.cache.stepB(E,fr,to,r)> HIT(21)\n"
     ]
    },
    {
     "data": {
      "text/plain": [
       "14"
      ]
     },
     "execution_count": 2,
     "metadata": {},
     "output_type": "execute_result"
    }
   ],
   "source": [
    "e['abc']"
   ]
  },
  {
   "cell_type": "code",
   "execution_count": 3,
   "metadata": {
    "collapsed": false,
    "scrolled": true
   },
   "outputs": [
    {
     "data": {
      "text/html": [
       "<DIV style=\"border:thin solid cyan\"><DIV id=\"py_139837223246032\"><TABLE><THEAD><TR style=\"background-color: gray; color: white\"><TD colspan=\"6\">4: myutil.demo.cache.stepB(E,fr,to,r)</TD></TR><TR><TD/><TH>hitdate</TH><TH>ckey</TH><TH>size</TH><TH>tprc</TH><TH>ttot</TH></TR></THEAD><TBODY><TR><TH>21</TH><TD>2016-06-16 19:17:25</TD><TD><DIV style=\"padding:0\"><DIV style=\"display: inline; padding: 5px;\"><B>E</B>=<SPAN onmouseleave=\"document.getElementById('py_139836992490576').style.outline='inherit'\" onmouseenter=\"document.getElementById('py_139836992490576').style.outline='thick solid red'\" style=\"color: blue\" title=\"[| collections.ChainMap! | ?2 | ?4 |]\">?1</SPAN></DIV><DIV style=\"display: inline; padding: 5px;\"><B>fr</B>=<SPAN>('ab', 'bc')</SPAN></DIV><DIV style=\"display: inline; padding: 5px;\"><B>to</B>=<SPAN>abc</SPAN></DIV><DIV style=\"display: inline; padding: 5px;\"><B>r</B>=<SPAN>3</SPAN></DIV></DIV></TD><TD>415B</TD><TD>0sec</TD><TD>0sec</TD></TR><TR><TH>22</TH><TD>2016-06-16 19:16:46</TD><TD><DIV style=\"padding:0\"><DIV style=\"display: inline; padding: 5px;\"><B>E</B>=<SPAN onmouseleave=\"document.getElementById('py_139836992490744').style.outline='inherit'\" onmouseenter=\"document.getElementById('py_139836992490744').style.outline='thick solid red'\" style=\"color: blue\" title=\"[| myutil.demo.cache.stepA! | a = 1 | b = 2 | c = 3 |]\">?3</SPAN></DIV><DIV style=\"display: inline; padding: 5px;\"><B>fr</B>=<SPAN>('a', 'b')</SPAN></DIV><DIV style=\"display: inline; padding: 5px;\"><B>to</B>=<SPAN>ab</SPAN></DIV><DIV style=\"display: inline; padding: 5px;\"><B>r</B>=<SPAN>1</SPAN></DIV></DIV></TD><TD>199B</TD><TD>0sec</TD><TD>0sec</TD></TR><TR><TH>24</TH><TD>2016-06-16 19:16:46</TD><TD><DIV style=\"padding:0\"><DIV style=\"display: inline; padding: 5px;\"><B>E</B>=<SPAN onmouseleave=\"document.getElementById('py_139836992490744').style.outline='inherit'\" onmouseenter=\"document.getElementById('py_139836992490744').style.outline='thick solid red'\" style=\"color: blue\" title=\"[| myutil.demo.cache.stepA! | a = 1 | b = 2 | c = 3 |]\">?3</SPAN></DIV><DIV style=\"display: inline; padding: 5px;\"><B>fr</B>=<SPAN>('b', 'c')</SPAN></DIV><DIV style=\"display: inline; padding: 5px;\"><B>to</B>=<SPAN>bc</SPAN></DIV><DIV style=\"display: inline; padding: 5px;\"><B>r</B>=<SPAN>2</SPAN></DIV></DIV></TD><TD>199B</TD><TD>0sec</TD><TD>0sec</TD></TR></TBODY></TABLE></DIV><TABLE><COL style=\"background-color: cyan\"/><THEAD/><TBODY><TR><TH>1</TH><TD><DIV id=\"py_139836992490576\"><DIV style=\"padding:0\">[|<SPAN style=\"display: inline; padding: 5px;\"><SPAN>collections.ChainMap!</SPAN></SPAN>|<SPAN style=\"display: inline; padding: 5px;\"><SPAN onmouseleave=\"document.getElementById('py_139836992490632').style.outline='inherit'\" onmouseenter=\"document.getElementById('py_139836992490632').style.outline='thick solid red'\" style=\"color: blue\" title=\"[| myutil.demo.cache.stepB! | ?3 | fr = ('a', 'b') | r = 1 | to = ab |]\">?2</SPAN></SPAN>|<SPAN style=\"display: inline; padding: 5px;\"><SPAN onmouseleave=\"document.getElementById('py_139836992491192').style.outline='inherit'\" onmouseenter=\"document.getElementById('py_139836992491192').style.outline='thick solid red'\" style=\"color: blue\" title=\"[| myutil.demo.cache.stepB! | ?3 | fr = ('b', 'c') | r = 2 | to = bc |]\">?4</SPAN></SPAN>|]</DIV></DIV></TD></TR><TR><TH>2</TH><TD><DIV id=\"py_139836992490632\"><DIV style=\"padding:0\">[|<SPAN style=\"display: inline; padding: 5px;\"><SPAN>myutil.demo.cache.stepB!</SPAN></SPAN>|<SPAN style=\"display: inline; padding: 5px;\"><SPAN onmouseleave=\"document.getElementById('py_139836992490744').style.outline='inherit'\" onmouseenter=\"document.getElementById('py_139836992490744').style.outline='thick solid red'\" style=\"color: blue\" title=\"[| myutil.demo.cache.stepA! | a = 1 | b = 2 | c = 3 |]\">?3</SPAN></SPAN>|<DIV style=\"display: inline; padding: 5px;\"><B>fr</B>=<SPAN>('a', 'b')</SPAN></DIV>|<DIV style=\"display: inline; padding: 5px;\"><B>r</B>=<SPAN>1</SPAN></DIV>|<DIV style=\"display: inline; padding: 5px;\"><B>to</B>=<SPAN>ab</SPAN></DIV>|]</DIV></DIV></TD></TR><TR><TH>3</TH><TD><DIV id=\"py_139836992490744\"><DIV style=\"padding:0\">[|<SPAN style=\"display: inline; padding: 5px;\"><SPAN>myutil.demo.cache.stepA!</SPAN></SPAN>|<DIV style=\"display: inline; padding: 5px;\"><B>a</B>=<SPAN>1</SPAN></DIV>|<DIV style=\"display: inline; padding: 5px;\"><B>b</B>=<SPAN>2</SPAN></DIV>|<DIV style=\"display: inline; padding: 5px;\"><B>c</B>=<SPAN>3</SPAN></DIV>|]</DIV></DIV></TD></TR><TR><TH>4</TH><TD><DIV id=\"py_139836992491192\"><DIV style=\"padding:0\">[|<SPAN style=\"display: inline; padding: 5px;\"><SPAN>myutil.demo.cache.stepB!</SPAN></SPAN>|<SPAN style=\"display: inline; padding: 5px;\"><SPAN onmouseleave=\"document.getElementById('py_139836992490744').style.outline='inherit'\" onmouseenter=\"document.getElementById('py_139836992490744').style.outline='thick solid red'\" style=\"color: blue\" title=\"[| myutil.demo.cache.stepA! | a = 1 | b = 2 | c = 3 |]\">?3</SPAN></SPAN>|<DIV style=\"display: inline; padding: 5px;\"><B>fr</B>=<SPAN>('b', 'c')</SPAN></DIV>|<DIV style=\"display: inline; padding: 5px;\"><B>r</B>=<SPAN>2</SPAN></DIV>|<DIV style=\"display: inline; padding: 5px;\"><B>to</B>=<SPAN>bc</SPAN></DIV>|]</DIV></DIV></TD></TR></TBODY></TABLE></DIV>"
      ],
      "text/plain": [
       "<myutil.cache.CacheBlock at 0x7f2e640498d0>"
      ]
     },
     "execution_count": 3,
     "metadata": {},
     "output_type": "execute_result"
    }
   ],
   "source": [
    "stepB.cache"
   ]
  },
  {
   "cell_type": "markdown",
   "metadata": {},
   "source": [
    "## Direct cache content display"
   ]
  },
  {
   "cell_type": "code",
   "execution_count": 1,
   "metadata": {
    "collapsed": false,
    "scrolled": true
   },
   "outputs": [
    {
     "data": {
      "text/html": [
       "<DIV style=\"border:thin solid cyan\"><DIV id=\"py_139760187663248\"><DIV><DIV><TABLE><THEAD><TR style=\"background-color: gray; color: white\"><TD colspan=\"6\">1: myutil.demo.cache.simplefunc(x,y,-z)</TD></TR><TR><TD/><TH>hitdate</TH><TH>ckey</TH><TH>size</TH><TH>tprc</TH><TH>ttot</TH></TR></THEAD><TBODY><TR><TH>13</TH><TD>2016-06-16 19:13:50</TD><TD><DIV style=\"padding:0\"><DIV style=\"display: inline; padding: 5px;\"><B>x</B>=<SPAN>1</SPAN></DIV><DIV style=\"display: inline; padding: 5px;\"><B>y</B>=<SPAN>12</SPAN></DIV></DIV></TD><TD>10B</TD><TD>0sec</TD><TD>0sec</TD></TR><TR><TH>14</TH><TD>2016-06-16 19:13:50</TD><TD><DIV style=\"padding:0\"><DIV style=\"display: inline; padding: 5px;\"><B>x</B>=<SPAN>1</SPAN></DIV><DIV style=\"display: inline; padding: 5px;\"><B>y</B>=<SPAN>13</SPAN></DIV></DIV></TD><TD>10B</TD><TD>0sec</TD><TD>0sec</TD></TR><TR><TH>15</TH><TD>2016-06-16 19:13:50</TD><TD><DIV style=\"padding:0\"><DIV style=\"display: inline; padding: 5px;\"><B>x</B>=<SPAN>1</SPAN></DIV><DIV style=\"display: inline; padding: 5px;\"><B>y</B>=<SPAN>14</SPAN></DIV></DIV></TD><TD>10B</TD><TD>0sec</TD><TD>0sec</TD></TR><TR><TH>16</TH><TD>2016-06-16 19:13:50</TD><TD><DIV style=\"padding:0\"><DIV style=\"display: inline; padding: 5px;\"><B>x</B>=<SPAN>1</SPAN></DIV><DIV style=\"display: inline; padding: 5px;\"><B>y</B>=<SPAN>15</SPAN></DIV></DIV></TD><TD>10B</TD><TD>0sec</TD><TD>0sec</TD></TR></TBODY></TABLE></DIV><DIV><TABLE><THEAD><TR style=\"background-color: gray; color: white\"><TD colspan=\"6\">2: myutil.demo.cache.longfunc(x,-delay)</TD></TR><TR><TD/><TH>hitdate</TH><TH>ckey</TH><TH>size</TH><TH>tprc</TH><TH>ttot</TH></TR></THEAD><TBODY><TR><TH>18</TH><TD>2016-06-16 19:15:29</TD><TD><DIV style=\"padding:0\"><DIV style=\"display: inline; padding: 5px;\"><B>x</B>=<SPAN>36</SPAN></DIV></DIV></TD><TD>5B</TD><TD>0sec</TD><TD>2sec</TD></TR><TR><TH>20</TH><TD>2016-06-16 19:15:34</TD><TD><DIV style=\"padding:0\"><DIV style=\"display: inline; padding: 5px;\"><B>x</B>=<SPAN>42</SPAN></DIV></DIV></TD><TD>5B</TD><TD>0sec</TD><TD>5sec</TD></TR></TBODY></TABLE></DIV><DIV><TABLE><THEAD><TR style=\"background-color: gray; color: white\"><TD colspan=\"6\">3: myutil.demo.cache.stepA(**ini)</TD></TR><TR><TD/><TH>hitdate</TH><TH>ckey</TH><TH>size</TH><TH>tprc</TH><TH>ttot</TH></TR></THEAD><TBODY><TR><TH>23</TH><TD>2016-06-16 19:16:46</TD><TD><DIV style=\"padding:0\"><DIV style=\"display: inline; padding: 5px;\"><B>a</B>=<SPAN>1</SPAN></DIV><DIV style=\"display: inline; padding: 5px;\"><B>b</B>=<SPAN>2</SPAN></DIV><DIV style=\"display: inline; padding: 5px;\"><B>c</B>=<SPAN>3</SPAN></DIV></DIV></TD><TD>38B</TD><TD>0sec</TD><TD>0sec</TD></TR></TBODY></TABLE></DIV><DIV><TABLE><THEAD><TR style=\"background-color: gray; color: white\"><TD colspan=\"6\">4: myutil.demo.cache.stepB(E,fr,to,r)</TD></TR><TR><TD/><TH>hitdate</TH><TH>ckey</TH><TH>size</TH><TH>tprc</TH><TH>ttot</TH></TR></THEAD><TBODY><TR><TH>21</TH><TD>2016-06-16 19:17:25</TD><TD><DIV style=\"padding:0\"><DIV style=\"display: inline; padding: 5px;\"><B>E</B>=<SPAN title=\"[| collections.ChainMap! | ?2 | ?4 |]\" onmouseleave=\"document.getElementById('py_139760183492560').style.outline='inherit'\" style=\"color: blue\" onmouseenter=\"document.getElementById('py_139760183492560').style.outline='thick solid red'\">?1</SPAN></DIV><DIV style=\"display: inline; padding: 5px;\"><B>fr</B>=<SPAN>('ab', 'bc')</SPAN></DIV><DIV style=\"display: inline; padding: 5px;\"><B>to</B>=<SPAN>abc</SPAN></DIV><DIV style=\"display: inline; padding: 5px;\"><B>r</B>=<SPAN>3</SPAN></DIV></DIV></TD><TD>415B</TD><TD>0sec</TD><TD>0sec</TD></TR><TR><TH>22</TH><TD>2016-06-16 19:16:46</TD><TD><DIV style=\"padding:0\"><DIV style=\"display: inline; padding: 5px;\"><B>E</B>=<SPAN title=\"[| myutil.demo.cache.stepA! | a = 1 | b = 2 | c = 3 |]\" onmouseleave=\"document.getElementById('py_139760183009744').style.outline='inherit'\" style=\"color: blue\" onmouseenter=\"document.getElementById('py_139760183009744').style.outline='thick solid red'\">?3</SPAN></DIV><DIV style=\"display: inline; padding: 5px;\"><B>fr</B>=<SPAN>('a', 'b')</SPAN></DIV><DIV style=\"display: inline; padding: 5px;\"><B>to</B>=<SPAN>ab</SPAN></DIV><DIV style=\"display: inline; padding: 5px;\"><B>r</B>=<SPAN>1</SPAN></DIV></DIV></TD><TD>199B</TD><TD>0sec</TD><TD>0sec</TD></TR><TR><TH>24</TH><TD>2016-06-16 19:16:46</TD><TD><DIV style=\"padding:0\"><DIV style=\"display: inline; padding: 5px;\"><B>E</B>=<SPAN title=\"[| myutil.demo.cache.stepA! | a = 1 | b = 2 | c = 3 |]\" onmouseleave=\"document.getElementById('py_139760183009744').style.outline='inherit'\" style=\"color: blue\" onmouseenter=\"document.getElementById('py_139760183009744').style.outline='thick solid red'\">?3</SPAN></DIV><DIV style=\"display: inline; padding: 5px;\"><B>fr</B>=<SPAN>('b', 'c')</SPAN></DIV><DIV style=\"display: inline; padding: 5px;\"><B>to</B>=<SPAN>bc</SPAN></DIV><DIV style=\"display: inline; padding: 5px;\"><B>r</B>=<SPAN>2</SPAN></DIV></DIV></TD><TD>199B</TD><TD>0sec</TD><TD>0sec</TD></TR></TBODY></TABLE></DIV></DIV></DIV><TABLE><COL style=\"background-color: cyan\"/><THEAD/><TBODY><TR><TH>1</TH><TD><DIV id=\"py_139760183492560\"><DIV style=\"padding:0\">[|<SPAN style=\"display: inline; padding: 5px;\"><SPAN>collections.ChainMap!</SPAN></SPAN>|<SPAN style=\"display: inline; padding: 5px;\"><SPAN title=\"[| myutil.demo.cache.stepB! | ?3 | fr = ('a', 'b') | r = 1 | to = ab |]\" onmouseleave=\"document.getElementById('py_139760183009632').style.outline='inherit'\" style=\"color: blue\" onmouseenter=\"document.getElementById('py_139760183009632').style.outline='thick solid red'\">?2</SPAN></SPAN>|<SPAN style=\"display: inline; padding: 5px;\"><SPAN title=\"[| myutil.demo.cache.stepB! | ?3 | fr = ('b', 'c') | r = 2 | to = bc |]\" onmouseleave=\"document.getElementById('py_139760183013216').style.outline='inherit'\" style=\"color: blue\" onmouseenter=\"document.getElementById('py_139760183013216').style.outline='thick solid red'\">?4</SPAN></SPAN>|]</DIV></DIV></TD></TR><TR><TH>2</TH><TD><DIV id=\"py_139760183009632\"><DIV style=\"padding:0\">[|<SPAN style=\"display: inline; padding: 5px;\"><SPAN>myutil.demo.cache.stepB!</SPAN></SPAN>|<SPAN style=\"display: inline; padding: 5px;\"><SPAN title=\"[| myutil.demo.cache.stepA! | a = 1 | b = 2 | c = 3 |]\" onmouseleave=\"document.getElementById('py_139760183009744').style.outline='inherit'\" style=\"color: blue\" onmouseenter=\"document.getElementById('py_139760183009744').style.outline='thick solid red'\">?3</SPAN></SPAN>|<DIV style=\"display: inline; padding: 5px;\"><B>fr</B>=<SPAN>('a', 'b')</SPAN></DIV>|<DIV style=\"display: inline; padding: 5px;\"><B>r</B>=<SPAN>1</SPAN></DIV>|<DIV style=\"display: inline; padding: 5px;\"><B>to</B>=<SPAN>ab</SPAN></DIV>|]</DIV></DIV></TD></TR><TR><TH>3</TH><TD><DIV id=\"py_139760183009744\"><DIV style=\"padding:0\">[|<SPAN style=\"display: inline; padding: 5px;\"><SPAN>myutil.demo.cache.stepA!</SPAN></SPAN>|<DIV style=\"display: inline; padding: 5px;\"><B>a</B>=<SPAN>1</SPAN></DIV>|<DIV style=\"display: inline; padding: 5px;\"><B>b</B>=<SPAN>2</SPAN></DIV>|<DIV style=\"display: inline; padding: 5px;\"><B>c</B>=<SPAN>3</SPAN></DIV>|]</DIV></DIV></TD></TR><TR><TH>4</TH><TD><DIV id=\"py_139760183013216\"><DIV style=\"padding:0\">[|<SPAN style=\"display: inline; padding: 5px;\"><SPAN>myutil.demo.cache.stepB!</SPAN></SPAN>|<SPAN style=\"display: inline; padding: 5px;\"><SPAN title=\"[| myutil.demo.cache.stepA! | a = 1 | b = 2 | c = 3 |]\" onmouseleave=\"document.getElementById('py_139760183009744').style.outline='inherit'\" style=\"color: blue\" onmouseenter=\"document.getElementById('py_139760183009744').style.outline='thick solid red'\">?3</SPAN></SPAN>|<DIV style=\"display: inline; padding: 5px;\"><B>fr</B>=<SPAN>('b', 'c')</SPAN></DIV>|<DIV style=\"display: inline; padding: 5px;\"><B>r</B>=<SPAN>2</SPAN></DIV>|<DIV style=\"display: inline; padding: 5px;\"><B>to</B>=<SPAN>bc</SPAN></DIV>|]</DIV></DIV></TD></TR></TBODY></TABLE></DIV>"
      ],
      "text/plain": [
       "<myutil.cache.CacheDB at 0x7f1c7456e390>"
      ]
     },
     "execution_count": 1,
     "metadata": {},
     "output_type": "execute_result"
    }
   ],
   "source": [
    "from myutil.cache import CacheDB\n",
    "db = CacheDB('cache.dir')\n",
    "db"
   ]
  },
  {
   "cell_type": "code",
   "execution_count": null,
   "metadata": {
    "collapsed": true
   },
   "outputs": [],
   "source": []
  }
 ],
 "metadata": {
  "kernelspec": {
   "display_name": "Python 3",
   "language": "python",
   "name": "python3"
  },
  "language_info": {
   "codemirror_mode": {
    "name": "ipython",
    "version": 3
   },
   "file_extension": ".py",
   "mimetype": "text/x-python",
   "name": "python",
   "nbconvert_exporter": "python",
   "pygments_lexer": "ipython3",
   "version": "3.5.1"
  }
 },
 "nbformat": 4,
 "nbformat_minor": 0
}
