{
 "cells": [
  {
   "cell_type": "markdown",
   "metadata": {},
   "source": [
    "# Test of module myutil.cache\n",
    "Documentation: [here](../doc/_build/html/cache.html)"
   ]
  },
  {
   "cell_type": "code",
   "execution_count": 1,
   "metadata": {
    "collapsed": false
   },
   "outputs": [],
   "source": [
    "%autoreload 2\n",
    "#!rm -f cache.dir/*"
   ]
  },
  {
   "cell_type": "markdown",
   "metadata": {},
   "source": [
    "## Base caching"
   ]
  },
  {
   "cell_type": "code",
   "execution_count": 2,
   "metadata": {
    "collapsed": false
   },
   "outputs": [
    {
     "data": {
      "text/plain": [
       "BlockInfo(signature='myutil.demo.cache.simplefunc', hits=0, misses=0, maxsize=10, currsize=0)"
      ]
     },
     "execution_count": 2,
     "metadata": {},
     "output_type": "execute_result"
    }
   ],
   "source": [
    "from myutil import loggingBasicConfig\n",
    "loggingBasicConfig(level='INFO')\n",
    "from myutil.demo.cache import simplefunc as f\n",
    "f.cache.clear(); f.cache.resize(10)\n",
    "f.cache.info()"
   ]
  },
  {
   "cell_type": "markdown",
   "metadata": {},
   "source": [
    "All cache lookups miss (if cache was cleared):"
   ]
  },
  {
   "cell_type": "code",
   "execution_count": 3,
   "metadata": {
    "collapsed": false
   },
   "outputs": [
    {
     "name": "stderr",
     "output_type": "stream",
     "text": [
      "INFO:myutil.cache:Cache</home/andreoli/src/PYTOOLS/demo/cache.dir:myutil.demo.cache.simplefunc(x,y,-z)> MISS(1)\n",
      "INFO:myutil.cache:Cache</home/andreoli/src/PYTOOLS/demo/cache.dir:myutil.demo.cache.simplefunc(x,y,-z)> MISS(2)\n",
      "INFO:myutil.cache:Cache</home/andreoli/src/PYTOOLS/demo/cache.dir:myutil.demo.cache.simplefunc(x,y,-z)> MISS(3)\n",
      "INFO:myutil.cache:Cache</home/andreoli/src/PYTOOLS/demo/cache.dir:myutil.demo.cache.simplefunc(x,y,-z)> MISS(4)\n",
      "INFO:myutil.cache:Cache</home/andreoli/src/PYTOOLS/demo/cache.dir:myutil.demo.cache.simplefunc(x,y,-z)> MISS(5)\n",
      "INFO:myutil.cache:Cache</home/andreoli/src/PYTOOLS/demo/cache.dir:myutil.demo.cache.simplefunc(x,y,-z)> MISS(6)\n",
      "INFO:myutil.cache:Cache</home/andreoli/src/PYTOOLS/demo/cache.dir:myutil.demo.cache.simplefunc(x,y,-z)> MISS(7)\n",
      "INFO:myutil.cache:Cache</home/andreoli/src/PYTOOLS/demo/cache.dir:myutil.demo.cache.simplefunc(x,y,-z)> MISS(8)\n",
      "INFO:myutil.cache:Cache</home/andreoli/src/PYTOOLS/demo/cache.dir:myutil.demo.cache.simplefunc(x,y,-z)> MISS(9)\n",
      "INFO:myutil.cache:Cache</home/andreoli/src/PYTOOLS/demo/cache.dir:myutil.demo.cache.simplefunc(x,y,-z)> MISS(10)\n",
      "INFO:myutil.cache:Cache</home/andreoli/src/PYTOOLS/demo/cache.dir:myutil.demo.cache.simplefunc(x,y,-z)> MISS(11)\n",
      "INFO:myutil.cache:Cache</home/andreoli/src/PYTOOLS/demo/cache.dir:myutil.demo.cache.simplefunc(x,y,-z)> OVERFLOW(1)\n",
      "INFO:myutil.cache:Cache</home/andreoli/src/PYTOOLS/demo/cache.dir:myutil.demo.cache.simplefunc(x,y,-z)> MISS(12)\n",
      "INFO:myutil.cache:Cache</home/andreoli/src/PYTOOLS/demo/cache.dir:myutil.demo.cache.simplefunc(x,y,-z)> OVERFLOW(1)\n",
      "INFO:myutil.cache:Cache</home/andreoli/src/PYTOOLS/demo/cache.dir:myutil.demo.cache.simplefunc(x,y,-z)> MISS(13)\n",
      "INFO:myutil.cache:Cache</home/andreoli/src/PYTOOLS/demo/cache.dir:myutil.demo.cache.simplefunc(x,y,-z)> OVERFLOW(1)\n",
      "INFO:myutil.cache:Cache</home/andreoli/src/PYTOOLS/demo/cache.dir:myutil.demo.cache.simplefunc(x,y,-z)> MISS(14)\n",
      "INFO:myutil.cache:Cache</home/andreoli/src/PYTOOLS/demo/cache.dir:myutil.demo.cache.simplefunc(x,y,-z)> OVERFLOW(1)\n",
      "INFO:myutil.cache:Cache</home/andreoli/src/PYTOOLS/demo/cache.dir:myutil.demo.cache.simplefunc(x,y,-z)> MISS(15)\n",
      "INFO:myutil.cache:Cache</home/andreoli/src/PYTOOLS/demo/cache.dir:myutil.demo.cache.simplefunc(x,y,-z)> OVERFLOW(1)\n"
     ]
    }
   ],
   "source": [
    "for i in range(15): f(x=1,y=i)"
   ]
  },
  {
   "cell_type": "code",
   "execution_count": 4,
   "metadata": {
    "collapsed": false
   },
   "outputs": [
    {
     "data": {
      "text/plain": [
       "BlockInfo(signature='myutil.demo.cache.simplefunc', hits=0, misses=15, maxsize=10, currsize=10)"
      ]
     },
     "execution_count": 4,
     "metadata": {},
     "output_type": "execute_result"
    }
   ],
   "source": [
    "f.cache.info()"
   ]
  },
  {
   "cell_type": "code",
   "execution_count": 5,
   "metadata": {
    "collapsed": false,
    "scrolled": true
   },
   "outputs": [
    {
     "data": {
      "text/html": [
       "<DIV id=\"py_140538648722120\"><TABLE><THEAD><TR style=\"background-color: gray; color: white\"><TD colspan=\"6\">1: myutil.demo.cache.simplefunc(x,y,-z)</TD></TR><TR><TD/><TH>hitdate</TH><TH>ckey</TH><TH>size</TH><TH>tprc</TH><TH>ttot</TH></TR></THEAD><TBODY><TR><TH>6</TH><TD>2016-08-23 09:43:55</TD><TD><DIV style=\"padding:0\"><SPAN style=\"padding: 5px\"><B>x</B>=<SPAN>1</SPAN></SPAN><SPAN style=\"padding: 5px\"><B>y</B>=<SPAN>5</SPAN></SPAN></DIV></TD><TD>10B</TD><TD>5.26e-06sec</TD><TD>4.26e-06sec</TD></TR><TR><TH>7</TH><TD>2016-08-23 09:43:55</TD><TD><DIV style=\"padding:0\"><SPAN style=\"padding: 5px\"><B>x</B>=<SPAN>1</SPAN></SPAN><SPAN style=\"padding: 5px\"><B>y</B>=<SPAN>6</SPAN></SPAN></DIV></TD><TD>10B</TD><TD>5.73e-06sec</TD><TD>4.32e-06sec</TD></TR><TR><TH>8</TH><TD>2016-08-23 09:43:55</TD><TD><DIV style=\"padding:0\"><SPAN style=\"padding: 5px\"><B>x</B>=<SPAN>1</SPAN></SPAN><SPAN style=\"padding: 5px\"><B>y</B>=<SPAN>7</SPAN></SPAN></DIV></TD><TD>10B</TD><TD>4.92e-06sec</TD><TD>4.06e-06sec</TD></TR><TR><TH>9</TH><TD>2016-08-23 09:43:55</TD><TD><DIV style=\"padding:0\"><SPAN style=\"padding: 5px\"><B>x</B>=<SPAN>1</SPAN></SPAN><SPAN style=\"padding: 5px\"><B>y</B>=<SPAN>8</SPAN></SPAN></DIV></TD><TD>10B</TD><TD>4.68e-06sec</TD><TD>3.53e-06sec</TD></TR><TR><TH>10</TH><TD>2016-08-23 09:43:55</TD><TD><DIV style=\"padding:0\"><SPAN style=\"padding: 5px\"><B>x</B>=<SPAN>1</SPAN></SPAN><SPAN style=\"padding: 5px\"><B>y</B>=<SPAN>9</SPAN></SPAN></DIV></TD><TD>10B</TD><TD>5.41e-06sec</TD><TD>4.44e-06sec</TD></TR><TR><TH>11</TH><TD>2016-08-23 09:43:55</TD><TD><DIV style=\"padding:0\"><SPAN style=\"padding: 5px\"><B>x</B>=<SPAN>1</SPAN></SPAN><SPAN style=\"padding: 5px\"><B>y</B>=<SPAN>10</SPAN></SPAN></DIV></TD><TD>10B</TD><TD>5.76e-06sec</TD><TD>4.61e-06sec</TD></TR><TR><TH>12</TH><TD>2016-08-23 09:43:55</TD><TD><DIV style=\"padding:0\"><SPAN style=\"padding: 5px\"><B>x</B>=<SPAN>1</SPAN></SPAN><SPAN style=\"padding: 5px\"><B>y</B>=<SPAN>11</SPAN></SPAN></DIV></TD><TD>10B</TD><TD>4.85e-06sec</TD><TD>3.86e-06sec</TD></TR><TR><TH>13</TH><TD>2016-08-23 09:43:55</TD><TD><DIV style=\"padding:0\"><SPAN style=\"padding: 5px\"><B>x</B>=<SPAN>1</SPAN></SPAN><SPAN style=\"padding: 5px\"><B>y</B>=<SPAN>12</SPAN></SPAN></DIV></TD><TD>10B</TD><TD>5.36e-06sec</TD><TD>4.17e-06sec</TD></TR><TR><TH>14</TH><TD>2016-08-23 09:43:55</TD><TD><DIV style=\"padding:0\"><SPAN style=\"padding: 5px\"><B>x</B>=<SPAN>1</SPAN></SPAN><SPAN style=\"padding: 5px\"><B>y</B>=<SPAN>13</SPAN></SPAN></DIV></TD><TD>10B</TD><TD>6.86e-06sec</TD><TD>5.79e-06sec</TD></TR><TR><TH>15</TH><TD>2016-08-23 09:43:55</TD><TD><DIV style=\"padding:0\"><SPAN style=\"padding: 5px\"><B>x</B>=<SPAN>1</SPAN></SPAN><SPAN style=\"padding: 5px\"><B>y</B>=<SPAN>14</SPAN></SPAN></DIV></TD><TD>10B</TD><TD>3.16e-05sec</TD><TD>1.47e-05sec</TD></TR></TBODY></TABLE></DIV>"
      ],
      "text/plain": [
       "<myutil.cache.CacheBlock at 0x7fd1b43bfac8>"
      ]
     },
     "execution_count": 5,
     "metadata": {},
     "output_type": "execute_result"
    }
   ],
   "source": [
    "f.cache"
   ]
  },
  {
   "cell_type": "markdown",
   "metadata": {},
   "source": [
    "All cache lookups hit, except last one (for i=15):"
   ]
  },
  {
   "cell_type": "code",
   "execution_count": 6,
   "metadata": {
    "collapsed": false
   },
   "outputs": [
    {
     "name": "stderr",
     "output_type": "stream",
     "text": [
      "INFO:myutil.cache:Cache</home/andreoli/src/PYTOOLS/demo/cache.dir:myutil.demo.cache.simplefunc(x,y,-z)> HIT(6)\n",
      "INFO:myutil.cache:Cache</home/andreoli/src/PYTOOLS/demo/cache.dir:myutil.demo.cache.simplefunc(x,y,-z)> HIT(7)\n",
      "INFO:myutil.cache:Cache</home/andreoli/src/PYTOOLS/demo/cache.dir:myutil.demo.cache.simplefunc(x,y,-z)> HIT(8)\n",
      "INFO:myutil.cache:Cache</home/andreoli/src/PYTOOLS/demo/cache.dir:myutil.demo.cache.simplefunc(x,y,-z)> HIT(9)\n",
      "INFO:myutil.cache:Cache</home/andreoli/src/PYTOOLS/demo/cache.dir:myutil.demo.cache.simplefunc(x,y,-z)> HIT(10)\n",
      "INFO:myutil.cache:Cache</home/andreoli/src/PYTOOLS/demo/cache.dir:myutil.demo.cache.simplefunc(x,y,-z)> HIT(13)\n",
      "INFO:myutil.cache:Cache</home/andreoli/src/PYTOOLS/demo/cache.dir:myutil.demo.cache.simplefunc(x,y,-z)> HIT(14)\n",
      "INFO:myutil.cache:Cache</home/andreoli/src/PYTOOLS/demo/cache.dir:myutil.demo.cache.simplefunc(x,y,-z)> HIT(15)\n",
      "INFO:myutil.cache:Cache</home/andreoli/src/PYTOOLS/demo/cache.dir:myutil.demo.cache.simplefunc(x,y,-z)> MISS(16)\n",
      "INFO:myutil.cache:Cache</home/andreoli/src/PYTOOLS/demo/cache.dir:myutil.demo.cache.simplefunc(x,y,-z)> OVERFLOW(1)\n"
     ]
    }
   ],
   "source": [
    "for i in range(5,10): f(y=i,x=1)\n",
    "for i in range(12,16): f(x=1,y=i)"
   ]
  },
  {
   "cell_type": "code",
   "execution_count": 7,
   "metadata": {
    "collapsed": false,
    "scrolled": true
   },
   "outputs": [
    {
     "data": {
      "text/html": [
       "<DIV id=\"py_140538648722120\"><TABLE><THEAD><TR style=\"background-color: gray; color: white\"><TD colspan=\"6\">1: myutil.demo.cache.simplefunc(x,y,-z)</TD></TR><TR><TD/><TH>hitdate</TH><TH>ckey</TH><TH>size</TH><TH>tprc</TH><TH>ttot</TH></TR></THEAD><TBODY><TR><TH>6</TH><TD>2016-08-23 09:44:19</TD><TD><DIV style=\"padding:0\"><SPAN style=\"padding: 5px\"><B>x</B>=<SPAN>1</SPAN></SPAN><SPAN style=\"padding: 5px\"><B>y</B>=<SPAN>5</SPAN></SPAN></DIV></TD><TD>10B</TD><TD>5.26e-06sec</TD><TD>4.26e-06sec</TD></TR><TR><TH>7</TH><TD>2016-08-23 09:44:19</TD><TD><DIV style=\"padding:0\"><SPAN style=\"padding: 5px\"><B>x</B>=<SPAN>1</SPAN></SPAN><SPAN style=\"padding: 5px\"><B>y</B>=<SPAN>6</SPAN></SPAN></DIV></TD><TD>10B</TD><TD>5.73e-06sec</TD><TD>4.32e-06sec</TD></TR><TR><TH>8</TH><TD>2016-08-23 09:44:19</TD><TD><DIV style=\"padding:0\"><SPAN style=\"padding: 5px\"><B>x</B>=<SPAN>1</SPAN></SPAN><SPAN style=\"padding: 5px\"><B>y</B>=<SPAN>7</SPAN></SPAN></DIV></TD><TD>10B</TD><TD>4.92e-06sec</TD><TD>4.06e-06sec</TD></TR><TR><TH>9</TH><TD>2016-08-23 09:44:19</TD><TD><DIV style=\"padding:0\"><SPAN style=\"padding: 5px\"><B>x</B>=<SPAN>1</SPAN></SPAN><SPAN style=\"padding: 5px\"><B>y</B>=<SPAN>8</SPAN></SPAN></DIV></TD><TD>10B</TD><TD>4.68e-06sec</TD><TD>3.53e-06sec</TD></TR><TR><TH>10</TH><TD>2016-08-23 09:44:19</TD><TD><DIV style=\"padding:0\"><SPAN style=\"padding: 5px\"><B>x</B>=<SPAN>1</SPAN></SPAN><SPAN style=\"padding: 5px\"><B>y</B>=<SPAN>9</SPAN></SPAN></DIV></TD><TD>10B</TD><TD>5.41e-06sec</TD><TD>4.44e-06sec</TD></TR><TR><TH>12</TH><TD>2016-08-23 09:43:55</TD><TD><DIV style=\"padding:0\"><SPAN style=\"padding: 5px\"><B>x</B>=<SPAN>1</SPAN></SPAN><SPAN style=\"padding: 5px\"><B>y</B>=<SPAN>11</SPAN></SPAN></DIV></TD><TD>10B</TD><TD>4.85e-06sec</TD><TD>3.86e-06sec</TD></TR><TR><TH>13</TH><TD>2016-08-23 09:44:19</TD><TD><DIV style=\"padding:0\"><SPAN style=\"padding: 5px\"><B>x</B>=<SPAN>1</SPAN></SPAN><SPAN style=\"padding: 5px\"><B>y</B>=<SPAN>12</SPAN></SPAN></DIV></TD><TD>10B</TD><TD>5.36e-06sec</TD><TD>4.17e-06sec</TD></TR><TR><TH>14</TH><TD>2016-08-23 09:44:19</TD><TD><DIV style=\"padding:0\"><SPAN style=\"padding: 5px\"><B>x</B>=<SPAN>1</SPAN></SPAN><SPAN style=\"padding: 5px\"><B>y</B>=<SPAN>13</SPAN></SPAN></DIV></TD><TD>10B</TD><TD>6.86e-06sec</TD><TD>5.79e-06sec</TD></TR><TR><TH>15</TH><TD>2016-08-23 09:44:19</TD><TD><DIV style=\"padding:0\"><SPAN style=\"padding: 5px\"><B>x</B>=<SPAN>1</SPAN></SPAN><SPAN style=\"padding: 5px\"><B>y</B>=<SPAN>14</SPAN></SPAN></DIV></TD><TD>10B</TD><TD>3.16e-05sec</TD><TD>1.47e-05sec</TD></TR><TR><TH>16</TH><TD>2016-08-23 09:44:19</TD><TD><DIV style=\"padding:0\"><SPAN style=\"padding: 5px\"><B>x</B>=<SPAN>1</SPAN></SPAN><SPAN style=\"padding: 5px\"><B>y</B>=<SPAN>15</SPAN></SPAN></DIV></TD><TD>10B</TD><TD>4.68e-06sec</TD><TD>3.74e-06sec</TD></TR></TBODY></TABLE></DIV>"
      ],
      "text/plain": [
       "<myutil.cache.CacheBlock at 0x7fd1b43bfac8>"
      ]
     },
     "execution_count": 7,
     "metadata": {},
     "output_type": "execute_result"
    }
   ],
   "source": [
    "f.cache"
   ]
  },
  {
   "cell_type": "code",
   "execution_count": 8,
   "metadata": {
    "collapsed": false
   },
   "outputs": [
    {
     "name": "stderr",
     "output_type": "stream",
     "text": [
      "INFO:myutil.cache:Cache</home/andreoli/src/PYTOOLS/demo/cache.dir:myutil.demo.cache.simplefunc(x,y,-z)> OVERFLOW(6)\n"
     ]
    },
    {
     "data": {
      "text/html": [
       "<DIV id=\"py_140538648722120\"><TABLE><THEAD><TR style=\"background-color: gray; color: white\"><TD colspan=\"6\">1: myutil.demo.cache.simplefunc(x,y,-z)</TD></TR><TR><TD/><TH>hitdate</TH><TH>ckey</TH><TH>size</TH><TH>tprc</TH><TH>ttot</TH></TR></THEAD><TBODY><TR><TH>13</TH><TD>2016-08-23 09:44:19</TD><TD><DIV style=\"padding:0\"><SPAN style=\"padding: 5px\"><B>x</B>=<SPAN>1</SPAN></SPAN><SPAN style=\"padding: 5px\"><B>y</B>=<SPAN>12</SPAN></SPAN></DIV></TD><TD>10B</TD><TD>5.36e-06sec</TD><TD>4.17e-06sec</TD></TR><TR><TH>14</TH><TD>2016-08-23 09:44:19</TD><TD><DIV style=\"padding:0\"><SPAN style=\"padding: 5px\"><B>x</B>=<SPAN>1</SPAN></SPAN><SPAN style=\"padding: 5px\"><B>y</B>=<SPAN>13</SPAN></SPAN></DIV></TD><TD>10B</TD><TD>6.86e-06sec</TD><TD>5.79e-06sec</TD></TR><TR><TH>15</TH><TD>2016-08-23 09:44:19</TD><TD><DIV style=\"padding:0\"><SPAN style=\"padding: 5px\"><B>x</B>=<SPAN>1</SPAN></SPAN><SPAN style=\"padding: 5px\"><B>y</B>=<SPAN>14</SPAN></SPAN></DIV></TD><TD>10B</TD><TD>3.16e-05sec</TD><TD>1.47e-05sec</TD></TR><TR><TH>16</TH><TD>2016-08-23 09:44:19</TD><TD><DIV style=\"padding:0\"><SPAN style=\"padding: 5px\"><B>x</B>=<SPAN>1</SPAN></SPAN><SPAN style=\"padding: 5px\"><B>y</B>=<SPAN>15</SPAN></SPAN></DIV></TD><TD>10B</TD><TD>4.68e-06sec</TD><TD>3.74e-06sec</TD></TR></TBODY></TABLE></DIV>"
      ],
      "text/plain": [
       "<myutil.cache.CacheBlock at 0x7fd1b43bfac8>"
      ]
     },
     "execution_count": 8,
     "metadata": {},
     "output_type": "execute_result"
    }
   ],
   "source": [
    "f.cache.resize(4)\n",
    "f.cache"
   ]
  },
  {
   "cell_type": "markdown",
   "metadata": {},
   "source": [
    "## Error management\n",
    "Restart kernel before run."
   ]
  },
  {
   "cell_type": "code",
   "execution_count": 1,
   "metadata": {
    "collapsed": false
   },
   "outputs": [
    {
     "name": "stdout",
     "output_type": "stream",
     "text": [
      "BlockInfo(signature='myutil.demo.cache.longfunc', hits=3, misses=1, maxsize=10, currsize=0)\n"
     ]
    }
   ],
   "source": [
    "from myutil import loggingBasicConfig\n",
    "loggingBasicConfig(level='INFO')\n",
    "from myutil.demo.cache import longfunc\n",
    "longfunc.cache.clear()\n",
    "print(longfunc.cache.info())\n",
    "class timing:\n",
    "    def __enter__(self): from time import perf_counter; self.time = perf_counter(); return self\n",
    "    def __exit__(self,*a): from time import perf_counter; self.time = perf_counter()-self.time"
   ]
  },
  {
   "cell_type": "markdown",
   "metadata": {},
   "source": [
    "Cache lookup misses (if cache was cleared).\n",
    "Execution lasts 3 seconds and raises exception, which is cached.\n",
    "On second iteration, cache hits and exception is directly raised."
   ]
  },
  {
   "cell_type": "code",
   "execution_count": 2,
   "metadata": {
    "collapsed": false
   },
   "outputs": [
    {
     "name": "stdout",
     "output_type": "stream",
     "text": [
      "Iteration 1..."
     ]
    },
    {
     "name": "stderr",
     "output_type": "stream",
     "text": [
      "INFO:myutil.cache:Cache</home/andreoli/src/PYTOOLS/demo/cache.dir:myutil.demo.cache.longfunc(x,-delay)> MISS(18)\n"
     ]
    },
    {
     "name": "stdout",
     "output_type": "stream",
     "text": [
      "result: Exception[longfunc error] (3.1sec)\n",
      "Iteration 2..."
     ]
    },
    {
     "name": "stderr",
     "output_type": "stream",
     "text": [
      "INFO:myutil.cache:Cache</home/andreoli/src/PYTOOLS/demo/cache.dir:myutil.demo.cache.longfunc(x,-delay)> HIT(18)\n"
     ]
    },
    {
     "name": "stdout",
     "output_type": "stream",
     "text": [
      "result: Exception[longfunc error] (0.1sec)\n"
     ]
    }
   ],
   "source": [
    "for i in range(1,3):\n",
    "    print('Iteration',i,end='...',flush=True)\n",
    "    with timing() as T:\n",
    "        try: v = longfunc(None,3)\n",
    "        except Exception as e: v = 'Exception[{}]'.format(e)\n",
    "    print('result:',v,'({:.01f}sec)'.format(T.time),flush=True)"
   ]
  },
  {
   "cell_type": "markdown",
   "metadata": {},
   "source": [
    "Note that cache values which are exceptions are marked with a star in the size column."
   ]
  },
  {
   "cell_type": "code",
   "execution_count": 3,
   "metadata": {
    "collapsed": false
   },
   "outputs": [
    {
     "data": {
      "text/html": [
       "<DIV id=\"py_139715864737832\"><TABLE><THEAD><TR style=\"background-color: gray; color: white\"><TD colspan=\"6\">2: myutil.demo.cache.longfunc(x,-delay)</TD></TR><TR><TD/><TH>hitdate</TH><TH>ckey</TH><TH>size</TH><TH>tprc</TH><TH>ttot</TH></TR></THEAD><TBODY><TR><TH>18</TH><TD>2016-08-23 09:47:28</TD><TD><DIV style=\"padding:0\"><SPAN style=\"padding: 5px\"><B>x</B>=<SPAN>None</SPAN></SPAN></DIV></TD><TD>*52B</TD><TD>0.000711sec</TD><TD>3sec</TD></TR></TBODY></TABLE></DIV>"
      ],
      "text/plain": [
       "<myutil.cache.CacheBlock at 0x7f12227cb828>"
      ]
     },
     "execution_count": 3,
     "metadata": {},
     "output_type": "execute_result"
    }
   ],
   "source": [
    "longfunc.cache"
   ]
  },
  {
   "cell_type": "markdown",
   "metadata": {},
   "source": [
    "Now, interrupt execution for 42,5 in iteration 1. The ``KeyboardInterrupt`` exception is cached. The ``clear_error`` call will clear that cached value so iteration 2 will complete successufully."
   ]
  },
  {
   "cell_type": "code",
   "execution_count": 4,
   "metadata": {
    "collapsed": false
   },
   "outputs": [
    {
     "name": "stdout",
     "output_type": "stream",
     "text": [
      "Iteration 1 (36, 2)..."
     ]
    },
    {
     "name": "stderr",
     "output_type": "stream",
     "text": [
      "INFO:myutil.cache:Cache</home/andreoli/src/PYTOOLS/demo/cache.dir:myutil.demo.cache.longfunc(x,-delay)> MISS(19)\n"
     ]
    },
    {
     "name": "stdout",
     "output_type": "stream",
     "text": [
      "result: 36 (2.1sec)\n",
      "Iteration 1 (42, 5)..."
     ]
    },
    {
     "name": "stderr",
     "output_type": "stream",
     "text": [
      "INFO:myutil.cache:Cache</home/andreoli/src/PYTOOLS/demo/cache.dir:myutil.demo.cache.longfunc(x,-delay)> MISS(20)\n"
     ]
    },
    {
     "name": "stdout",
     "output_type": "stream",
     "text": [
      "result: Exception[] (0.8sec)\n",
      "Iteration 2 (36, 2)..."
     ]
    },
    {
     "name": "stderr",
     "output_type": "stream",
     "text": [
      "INFO:myutil.cache:Cache</home/andreoli/src/PYTOOLS/demo/cache.dir:myutil.demo.cache.longfunc(x,-delay)> HIT(19)\n"
     ]
    },
    {
     "name": "stdout",
     "output_type": "stream",
     "text": [
      "result: 36 (0.1sec)\n",
      "Iteration 2 (42, 5)..."
     ]
    },
    {
     "name": "stderr",
     "output_type": "stream",
     "text": [
      "INFO:myutil.cache:Cache</home/andreoli/src/PYTOOLS/demo/cache.dir:myutil.demo.cache.longfunc(x,-delay)> MISS(21)\n"
     ]
    },
    {
     "name": "stdout",
     "output_type": "stream",
     "text": [
      "result: 42 (5.1sec)\n"
     ]
    }
   ],
   "source": [
    "for i in range(1,3):\n",
    "    for x,t in (36,2),(42,5):\n",
    "        print('Iteration',i,(x,t),end='...',flush=True)\n",
    "        with timing() as T:\n",
    "            try: v = longfunc(x,t)\n",
    "            except BaseException as e: v = 'Exception[{}]'.format(e)\n",
    "        print('result:',v,'({:.01f}sec)'.format(T.time),flush=True)\n",
    "    longfunc.cache.clear_error()"
   ]
  },
  {
   "cell_type": "code",
   "execution_count": 5,
   "metadata": {
    "collapsed": false
   },
   "outputs": [
    {
     "data": {
      "text/html": [
       "<DIV id=\"py_139715864737832\"><TABLE><THEAD><TR style=\"background-color: gray; color: white\"><TD colspan=\"6\">2: myutil.demo.cache.longfunc(x,-delay)</TD></TR><TR><TD/><TH>hitdate</TH><TH>ckey</TH><TH>size</TH><TH>tprc</TH><TH>ttot</TH></TR></THEAD><TBODY><TR><TH>19</TH><TD>2016-08-23 09:48:13</TD><TD><DIV style=\"padding:0\"><SPAN style=\"padding: 5px\"><B>x</B>=<SPAN>36</SPAN></SPAN></DIV></TD><TD>5B</TD><TD>0.00149sec</TD><TD>2sec</TD></TR><TR><TH>21</TH><TD>2016-08-23 09:48:18</TD><TD><DIV style=\"padding:0\"><SPAN style=\"padding: 5px\"><B>x</B>=<SPAN>42</SPAN></SPAN></DIV></TD><TD>5B</TD><TD>0.00364sec</TD><TD>5.01sec</TD></TR></TBODY></TABLE></DIV>"
      ],
      "text/plain": [
       "<myutil.cache.CacheBlock at 0x7f12227cb828>"
      ]
     },
     "execution_count": 5,
     "metadata": {},
     "output_type": "execute_result"
    }
   ],
   "source": [
    "longfunc.cache"
   ]
  },
  {
   "cell_type": "markdown",
   "metadata": {},
   "source": [
    "## Processes\n",
    "\n",
    "Restart the kernel before run."
   ]
  },
  {
   "cell_type": "code",
   "execution_count": 1,
   "metadata": {
    "collapsed": false
   },
   "outputs": [],
   "source": [
    "from myutil import loggingBasicConfig\n",
    "loggingBasicConfig(level='INFO')\n",
    "from myutil.demo.cache import proc, stepA, stepB\n",
    "#for s in (stepA,stepB): s.cache.clear() # un/comment to clear/keep cache from previous run\n",
    "e = proc()"
   ]
  },
  {
   "cell_type": "code",
   "execution_count": 2,
   "metadata": {
    "collapsed": false
   },
   "outputs": [
    {
     "name": "stderr",
     "output_type": "stream",
     "text": [
      "INFO:myutil.cache:Cache</home/andreoli/src/PYTOOLS/demo/cache.dir:myutil.demo.cache.stepB(E,fr,to,r)> HIT(22)\n"
     ]
    },
    {
     "data": {
      "text/plain": [
       "14"
      ]
     },
     "execution_count": 2,
     "metadata": {},
     "output_type": "execute_result"
    }
   ],
   "source": [
    "e['abc']"
   ]
  },
  {
   "cell_type": "code",
   "execution_count": 3,
   "metadata": {
    "collapsed": false,
    "scrolled": false
   },
   "outputs": [
    {
     "data": {
      "text/html": [
       "<TABLE><THEAD><TR><TD style=\"padding:0; border-bottom: thick solid black;\" colspan=\"2\"><DIV id=\"py_140621598870272\"><TABLE><THEAD><TR style=\"background-color: gray; color: white\"><TD colspan=\"6\">4: myutil.demo.cache.stepB(E,fr,to,r)</TD></TR><TR><TD/><TH>hitdate</TH><TH>ckey</TH><TH>size</TH><TH>tprc</TH><TH>ttot</TH></TR></THEAD><TBODY><TR><TH>22</TH><TD>2016-08-23 09:50:42</TD><TD><DIV style=\"padding:0\"><SPAN style=\"padding: 5px\"><B>E</B>=<SPAN title=\"[| collections.ChainMap :: ?2 | ?4 |]\" onmouseleave=\"document.getElementById('py_140621592587848').style.outline='inherit'\" style=\"color: blue; background-color: #e0e0e0;\" onmouseenter=\"document.getElementById('py_140621592587848').style.outline='thick solid red'\">?1</SPAN></SPAN><SPAN style=\"padding: 5px\"><B>fr</B>=<SPAN>('ab', 'bc')</SPAN></SPAN><SPAN style=\"padding: 5px\"><B>to</B>=<SPAN>abc</SPAN></SPAN><SPAN style=\"padding: 5px\"><B>r</B>=<SPAN>3</SPAN></SPAN></DIV></TD><TD>412B</TD><TD>0.0214sec</TD><TD>0.256sec</TD></TR><TR><TH>23</TH><TD>2016-08-23 09:50:31</TD><TD><DIV style=\"padding:0\"><SPAN style=\"padding: 5px\"><B>E</B>=<SPAN title=\"[| myutil.demo.cache.stepA :: a = 1 | b = 2 | c = 3 |]\" onmouseleave=\"document.getElementById('py_140621592588072').style.outline='inherit'\" style=\"color: blue; background-color: #e0e0e0;\" onmouseenter=\"document.getElementById('py_140621592588072').style.outline='thick solid red'\">?3</SPAN></SPAN><SPAN style=\"padding: 5px\"><B>fr</B>=<SPAN>('a', 'b')</SPAN></SPAN><SPAN style=\"padding: 5px\"><B>to</B>=<SPAN>ab</SPAN></SPAN><SPAN style=\"padding: 5px\"><B>r</B>=<SPAN>1</SPAN></SPAN></DIV></TD><TD>196B</TD><TD>0.00724sec</TD><TD>0.086sec</TD></TR><TR><TH>25</TH><TD>2016-08-23 09:50:31</TD><TD><DIV style=\"padding:0\"><SPAN style=\"padding: 5px\"><B>E</B>=<SPAN title=\"[| myutil.demo.cache.stepA :: a = 1 | b = 2 | c = 3 |]\" onmouseleave=\"document.getElementById('py_140621592588072').style.outline='inherit'\" style=\"color: blue; background-color: #e0e0e0;\" onmouseenter=\"document.getElementById('py_140621592588072').style.outline='thick solid red'\">?3</SPAN></SPAN><SPAN style=\"padding: 5px\"><B>fr</B>=<SPAN>('b', 'c')</SPAN></SPAN><SPAN style=\"padding: 5px\"><B>to</B>=<SPAN>bc</SPAN></SPAN><SPAN style=\"padding: 5px\"><B>r</B>=<SPAN>2</SPAN></SPAN></DIV></TD><TD>196B</TD><TD>2.82e-05sec</TD><TD>8.91e-06sec</TD></TR></TBODY></TABLE></DIV></TD></TR></THEAD><TBODY><TR><TH style=\"color: blue; background-color: #e0e0e0;\">?1</TH><TD><DIV id=\"py_140621592587848\"><DIV style=\"padding:0\">[|<EM style=\"padding:5px;\">collections.ChainMap</EM><B>::</B><SPAN style=\"padding: 5px\"><SPAN title=\"[| myutil.demo.cache.stepB :: ?3 | fr = ('a', 'b') | r = 1 | to = ab |]\" onmouseleave=\"document.getElementById('py_140621592587960').style.outline='inherit'\" style=\"color: blue; background-color: #e0e0e0;\" onmouseenter=\"document.getElementById('py_140621592587960').style.outline='thick solid red'\">?2</SPAN></SPAN>|<SPAN style=\"padding: 5px\"><SPAN title=\"[| myutil.demo.cache.stepB :: ?3 | fr = ('b', 'c') | r = 2 | to = bc |]\" onmouseleave=\"document.getElementById('py_140621592625392').style.outline='inherit'\" style=\"color: blue; background-color: #e0e0e0;\" onmouseenter=\"document.getElementById('py_140621592625392').style.outline='thick solid red'\">?4</SPAN></SPAN>|]</DIV></DIV></TD></TR><TR><TH style=\"color: blue; background-color: #e0e0e0;\">?2</TH><TD><DIV id=\"py_140621592587960\"><DIV style=\"padding:0\">[|<EM style=\"padding:5px;\">myutil.demo.cache.stepB</EM><B>::</B><SPAN style=\"padding: 5px\"><SPAN title=\"[| myutil.demo.cache.stepA :: a = 1 | b = 2 | c = 3 |]\" onmouseleave=\"document.getElementById('py_140621592588072').style.outline='inherit'\" style=\"color: blue; background-color: #e0e0e0;\" onmouseenter=\"document.getElementById('py_140621592588072').style.outline='thick solid red'\">?3</SPAN></SPAN>|<SPAN style=\"padding: 5px\"><B>fr</B>=<SPAN>('a', 'b')</SPAN></SPAN>|<SPAN style=\"padding: 5px\"><B>r</B>=<SPAN>1</SPAN></SPAN>|<SPAN style=\"padding: 5px\"><B>to</B>=<SPAN>ab</SPAN></SPAN>|]</DIV></DIV></TD></TR><TR><TH style=\"color: blue; background-color: #e0e0e0;\">?3</TH><TD><DIV id=\"py_140621592588072\"><DIV style=\"padding:0\">[|<EM style=\"padding:5px;\">myutil.demo.cache.stepA</EM><B>::</B><SPAN style=\"padding: 5px\"><B>a</B>=<SPAN>1</SPAN></SPAN>|<SPAN style=\"padding: 5px\"><B>b</B>=<SPAN>2</SPAN></SPAN>|<SPAN style=\"padding: 5px\"><B>c</B>=<SPAN>3</SPAN></SPAN>|]</DIV></DIV></TD></TR><TR><TH style=\"color: blue; background-color: #e0e0e0;\">?4</TH><TD><DIV id=\"py_140621592625392\"><DIV style=\"padding:0\">[|<EM style=\"padding:5px;\">myutil.demo.cache.stepB</EM><B>::</B><SPAN style=\"padding: 5px\"><SPAN title=\"[| myutil.demo.cache.stepA :: a = 1 | b = 2 | c = 3 |]\" onmouseleave=\"document.getElementById('py_140621592588072').style.outline='inherit'\" style=\"color: blue; background-color: #e0e0e0;\" onmouseenter=\"document.getElementById('py_140621592588072').style.outline='thick solid red'\">?3</SPAN></SPAN>|<SPAN style=\"padding: 5px\"><B>fr</B>=<SPAN>('b', 'c')</SPAN></SPAN>|<SPAN style=\"padding: 5px\"><B>r</B>=<SPAN>2</SPAN></SPAN>|<SPAN style=\"padding: 5px\"><B>to</B>=<SPAN>bc</SPAN></SPAN>|]</DIV></DIV></TD></TR></TBODY></TABLE>"
      ],
      "text/plain": [
       "<myutil.cache.CacheBlock at 0x7fe50472cb00>"
      ]
     },
     "execution_count": 3,
     "metadata": {},
     "output_type": "execute_result"
    }
   ],
   "source": [
    "stepB.cache"
   ]
  },
  {
   "cell_type": "markdown",
   "metadata": {},
   "source": [
    "## Direct cache content display"
   ]
  },
  {
   "cell_type": "code",
   "execution_count": 1,
   "metadata": {
    "collapsed": false,
    "scrolled": true
   },
   "outputs": [
    {
     "data": {
      "text/html": [
       "<TABLE><THEAD><TR><TD colspan=\"2\" style=\"padding:0; border-bottom: thick solid black;\"><DIV id=\"py_140320817434128\"><DIV><DIV><TABLE><THEAD><TR style=\"background-color: gray; color: white\"><TD colspan=\"6\">1: myutil.demo.cache.simplefunc(x,y,-z)</TD></TR><TR><TD/><TH>hitdate</TH><TH>ckey</TH><TH>size</TH><TH>tprc</TH><TH>ttot</TH></TR></THEAD><TBODY><TR><TH>13</TH><TD>2016-08-23 09:44:19</TD><TD><DIV style=\"padding:0\"><SPAN style=\"padding: 5px\"><B>x</B>=<SPAN>1</SPAN></SPAN><SPAN style=\"padding: 5px\"><B>y</B>=<SPAN>12</SPAN></SPAN></DIV></TD><TD>10B</TD><TD>5.36e-06sec</TD><TD>4.17e-06sec</TD></TR><TR><TH>14</TH><TD>2016-08-23 09:44:19</TD><TD><DIV style=\"padding:0\"><SPAN style=\"padding: 5px\"><B>x</B>=<SPAN>1</SPAN></SPAN><SPAN style=\"padding: 5px\"><B>y</B>=<SPAN>13</SPAN></SPAN></DIV></TD><TD>10B</TD><TD>6.86e-06sec</TD><TD>5.79e-06sec</TD></TR><TR><TH>15</TH><TD>2016-08-23 09:44:19</TD><TD><DIV style=\"padding:0\"><SPAN style=\"padding: 5px\"><B>x</B>=<SPAN>1</SPAN></SPAN><SPAN style=\"padding: 5px\"><B>y</B>=<SPAN>14</SPAN></SPAN></DIV></TD><TD>10B</TD><TD>3.16e-05sec</TD><TD>1.47e-05sec</TD></TR><TR><TH>16</TH><TD>2016-08-23 09:44:19</TD><TD><DIV style=\"padding:0\"><SPAN style=\"padding: 5px\"><B>x</B>=<SPAN>1</SPAN></SPAN><SPAN style=\"padding: 5px\"><B>y</B>=<SPAN>15</SPAN></SPAN></DIV></TD><TD>10B</TD><TD>4.68e-06sec</TD><TD>3.74e-06sec</TD></TR></TBODY></TABLE></DIV><DIV><TABLE><THEAD><TR style=\"background-color: gray; color: white\"><TD colspan=\"6\">2: myutil.demo.cache.longfunc(x,-delay)</TD></TR><TR><TD/><TH>hitdate</TH><TH>ckey</TH><TH>size</TH><TH>tprc</TH><TH>ttot</TH></TR></THEAD><TBODY><TR><TH>19</TH><TD>2016-08-23 09:48:13</TD><TD><DIV style=\"padding:0\"><SPAN style=\"padding: 5px\"><B>x</B>=<SPAN>36</SPAN></SPAN></DIV></TD><TD>5B</TD><TD>0.00149sec</TD><TD>2sec</TD></TR><TR><TH>21</TH><TD>2016-08-23 09:48:18</TD><TD><DIV style=\"padding:0\"><SPAN style=\"padding: 5px\"><B>x</B>=<SPAN>42</SPAN></SPAN></DIV></TD><TD>5B</TD><TD>0.00364sec</TD><TD>5.01sec</TD></TR></TBODY></TABLE></DIV><DIV><TABLE><THEAD><TR style=\"background-color: gray; color: white\"><TD colspan=\"6\">3: myutil.demo.cache.stepA(**ini)</TD></TR><TR><TD/><TH>hitdate</TH><TH>ckey</TH><TH>size</TH><TH>tprc</TH><TH>ttot</TH></TR></THEAD><TBODY><TR><TH>24</TH><TD>2016-08-23 09:50:31</TD><TD><DIV style=\"padding:0\"><SPAN style=\"padding: 5px\"><B>a</B>=<SPAN>1</SPAN></SPAN><SPAN style=\"padding: 5px\"><B>b</B>=<SPAN>2</SPAN></SPAN><SPAN style=\"padding: 5px\"><B>c</B>=<SPAN>3</SPAN></SPAN></DIV></TD><TD>38B</TD><TD>1.02e-05sec</TD><TD>7.42e-06sec</TD></TR></TBODY></TABLE></DIV><DIV><TABLE><THEAD><TR style=\"background-color: gray; color: white\"><TD colspan=\"6\">4: myutil.demo.cache.stepB(E,fr,to,r)</TD></TR><TR><TD/><TH>hitdate</TH><TH>ckey</TH><TH>size</TH><TH>tprc</TH><TH>ttot</TH></TR></THEAD><TBODY><TR><TH>22</TH><TD>2016-08-23 09:50:42</TD><TD><DIV style=\"padding:0\"><SPAN style=\"padding: 5px\"><B>E</B>=<SPAN title=\"[| collections.ChainMap :: ?2 | ?4 |]\" onmouseenter=\"document.getElementById('py_140320810365336').style.outline='thick solid red'\" onmouseleave=\"document.getElementById('py_140320810365336').style.outline='inherit'\" style=\"color: blue; background-color: #e0e0e0;\">?1</SPAN></SPAN><SPAN style=\"padding: 5px\"><B>fr</B>=<SPAN>('ab', 'bc')</SPAN></SPAN><SPAN style=\"padding: 5px\"><B>to</B>=<SPAN>abc</SPAN></SPAN><SPAN style=\"padding: 5px\"><B>r</B>=<SPAN>3</SPAN></SPAN></DIV></TD><TD>412B</TD><TD>0.0214sec</TD><TD>0.256sec</TD></TR><TR><TH>23</TH><TD>2016-08-23 09:50:31</TD><TD><DIV style=\"padding:0\"><SPAN style=\"padding: 5px\"><B>E</B>=<SPAN title=\"[| myutil.demo.cache.stepA :: a = 1 | b = 2 | c = 3 |]\" onmouseenter=\"document.getElementById('py_140320810365952').style.outline='thick solid red'\" onmouseleave=\"document.getElementById('py_140320810365952').style.outline='inherit'\" style=\"color: blue; background-color: #e0e0e0;\">?3</SPAN></SPAN><SPAN style=\"padding: 5px\"><B>fr</B>=<SPAN>('a', 'b')</SPAN></SPAN><SPAN style=\"padding: 5px\"><B>to</B>=<SPAN>ab</SPAN></SPAN><SPAN style=\"padding: 5px\"><B>r</B>=<SPAN>1</SPAN></SPAN></DIV></TD><TD>196B</TD><TD>0.00724sec</TD><TD>0.086sec</TD></TR><TR><TH>25</TH><TD>2016-08-23 09:50:31</TD><TD><DIV style=\"padding:0\"><SPAN style=\"padding: 5px\"><B>E</B>=<SPAN title=\"[| myutil.demo.cache.stepA :: a = 1 | b = 2 | c = 3 |]\" onmouseenter=\"document.getElementById('py_140320810365952').style.outline='thick solid red'\" onmouseleave=\"document.getElementById('py_140320810365952').style.outline='inherit'\" style=\"color: blue; background-color: #e0e0e0;\">?3</SPAN></SPAN><SPAN style=\"padding: 5px\"><B>fr</B>=<SPAN>('b', 'c')</SPAN></SPAN><SPAN style=\"padding: 5px\"><B>to</B>=<SPAN>bc</SPAN></SPAN><SPAN style=\"padding: 5px\"><B>r</B>=<SPAN>2</SPAN></SPAN></DIV></TD><TD>196B</TD><TD>2.82e-05sec</TD><TD>8.91e-06sec</TD></TR></TBODY></TABLE></DIV></DIV></DIV></TD></TR></THEAD><TBODY><TR><TH style=\"color: blue; background-color: #e0e0e0;\">?1</TH><TD><DIV id=\"py_140320810365336\"><DIV style=\"padding:0\">[|<EM style=\"padding:5px;\">collections.ChainMap</EM><B>::</B><SPAN style=\"padding: 5px\"><SPAN title=\"[| myutil.demo.cache.stepB :: ?3 | fr = ('a', 'b') | r = 1 | to = ab |]\" onmouseenter=\"document.getElementById('py_140320810365840').style.outline='thick solid red'\" onmouseleave=\"document.getElementById('py_140320810365840').style.outline='inherit'\" style=\"color: blue; background-color: #e0e0e0;\">?2</SPAN></SPAN>|<SPAN style=\"padding: 5px\"><SPAN title=\"[| myutil.demo.cache.stepB :: ?3 | fr = ('b', 'c') | r = 2 | to = bc |]\" onmouseenter=\"document.getElementById('py_140320810418304').style.outline='thick solid red'\" onmouseleave=\"document.getElementById('py_140320810418304').style.outline='inherit'\" style=\"color: blue; background-color: #e0e0e0;\">?4</SPAN></SPAN>|]</DIV></DIV></TD></TR><TR><TH style=\"color: blue; background-color: #e0e0e0;\">?2</TH><TD><DIV id=\"py_140320810365840\"><DIV style=\"padding:0\">[|<EM style=\"padding:5px;\">myutil.demo.cache.stepB</EM><B>::</B><SPAN style=\"padding: 5px\"><SPAN title=\"[| myutil.demo.cache.stepA :: a = 1 | b = 2 | c = 3 |]\" onmouseenter=\"document.getElementById('py_140320810365952').style.outline='thick solid red'\" onmouseleave=\"document.getElementById('py_140320810365952').style.outline='inherit'\" style=\"color: blue; background-color: #e0e0e0;\">?3</SPAN></SPAN>|<SPAN style=\"padding: 5px\"><B>fr</B>=<SPAN>('a', 'b')</SPAN></SPAN>|<SPAN style=\"padding: 5px\"><B>r</B>=<SPAN>1</SPAN></SPAN>|<SPAN style=\"padding: 5px\"><B>to</B>=<SPAN>ab</SPAN></SPAN>|]</DIV></DIV></TD></TR><TR><TH style=\"color: blue; background-color: #e0e0e0;\">?3</TH><TD><DIV id=\"py_140320810365952\"><DIV style=\"padding:0\">[|<EM style=\"padding:5px;\">myutil.demo.cache.stepA</EM><B>::</B><SPAN style=\"padding: 5px\"><B>a</B>=<SPAN>1</SPAN></SPAN>|<SPAN style=\"padding: 5px\"><B>b</B>=<SPAN>2</SPAN></SPAN>|<SPAN style=\"padding: 5px\"><B>c</B>=<SPAN>3</SPAN></SPAN>|]</DIV></DIV></TD></TR><TR><TH style=\"color: blue; background-color: #e0e0e0;\">?4</TH><TD><DIV id=\"py_140320810418304\"><DIV style=\"padding:0\">[|<EM style=\"padding:5px;\">myutil.demo.cache.stepB</EM><B>::</B><SPAN style=\"padding: 5px\"><SPAN title=\"[| myutil.demo.cache.stepA :: a = 1 | b = 2 | c = 3 |]\" onmouseenter=\"document.getElementById('py_140320810365952').style.outline='thick solid red'\" onmouseleave=\"document.getElementById('py_140320810365952').style.outline='inherit'\" style=\"color: blue; background-color: #e0e0e0;\">?3</SPAN></SPAN>|<SPAN style=\"padding: 5px\"><B>fr</B>=<SPAN>('b', 'c')</SPAN></SPAN>|<SPAN style=\"padding: 5px\"><B>r</B>=<SPAN>2</SPAN></SPAN>|<SPAN style=\"padding: 5px\"><B>to</B>=<SPAN>bc</SPAN></SPAN>|]</DIV></DIV></TD></TR></TBODY></TABLE>"
      ],
      "text/plain": [
       "<myutil.cache.CacheDB at 0x7f9efc7a4e10>"
      ]
     },
     "execution_count": 1,
     "metadata": {},
     "output_type": "execute_result"
    }
   ],
   "source": [
    "from myutil.cache import CacheDB\n",
    "db = CacheDB('cache.dir')\n",
    "db"
   ]
  },
  {
   "cell_type": "code",
   "execution_count": 1,
   "metadata": {
    "collapsed": false
   },
   "outputs": [
    {
     "ename": "Exception",
     "evalue": "Cache cell creation disallowed",
     "output_type": "error",
     "traceback": [
      "\u001b[0;31m---------------------------------------------------------------------------\u001b[0m",
      "\u001b[0;31mException\u001b[0m                                 Traceback (most recent call last)",
      "\u001b[0;32m<ipython-input-1-e10f74518d68>\u001b[0m in \u001b[0;36m<module>\u001b[0;34m()\u001b[0m\n\u001b[1;32m      1\u001b[0m \u001b[0;32mfrom\u001b[0m \u001b[0mmyutil\u001b[0m\u001b[0;34m.\u001b[0m\u001b[0mdemo\u001b[0m\u001b[0;34m.\u001b[0m\u001b[0mcache\u001b[0m \u001b[0;32mimport\u001b[0m \u001b[0msimplefunc\u001b[0m \u001b[0;32mas\u001b[0m \u001b[0mf\u001b[0m\u001b[0;34m\u001b[0m\u001b[0m\n\u001b[1;32m      2\u001b[0m \u001b[0mf\u001b[0m\u001b[0;34m.\u001b[0m\u001b[0mcache\u001b[0m\u001b[0;34m.\u001b[0m\u001b[0mcacheonly\u001b[0m \u001b[0;34m=\u001b[0m \u001b[0;32mTrue\u001b[0m\u001b[0;34m\u001b[0m\u001b[0m\n\u001b[0;32m----> 3\u001b[0;31m \u001b[0mf\u001b[0m\u001b[0;34m(\u001b[0m\u001b[0;36m2\u001b[0m\u001b[0;34m)\u001b[0m\u001b[0;34m\u001b[0m\u001b[0m\n\u001b[0m",
      "\u001b[0;32m/home/andreoli/src/distrib/myutil/cache.py\u001b[0m in \u001b[0;36m<lambda>\u001b[0;34m(*a, **ka)\u001b[0m\n\u001b[1;32m    580\u001b[0m   \u001b[0;32mdef\u001b[0m \u001b[0mtransf\u001b[0m\u001b[0;34m(\u001b[0m\u001b[0mf\u001b[0m\u001b[0;34m,\u001b[0m\u001b[0mignore\u001b[0m\u001b[0;34m=\u001b[0m\u001b[0;34m(\u001b[0m\u001b[0;34m)\u001b[0m\u001b[0;34m,\u001b[0m\u001b[0mfactory\u001b[0m\u001b[0;34m=\u001b[0m\u001b[0mCacheBlock\u001b[0m\u001b[0;34m,\u001b[0m\u001b[0;34m**\u001b[0m\u001b[0mka\u001b[0m\u001b[0;34m)\u001b[0m\u001b[0;34m:\u001b[0m\u001b[0;34m\u001b[0m\u001b[0m\n\u001b[1;32m    581\u001b[0m     \u001b[0mc\u001b[0m \u001b[0;34m=\u001b[0m \u001b[0mfactory\u001b[0m\u001b[0;34m(\u001b[0m\u001b[0msignature\u001b[0m\u001b[0;34m=\u001b[0m\u001b[0mSignature\u001b[0m\u001b[0;34m(\u001b[0m\u001b[0mf\u001b[0m\u001b[0;34m,\u001b[0m\u001b[0mignore\u001b[0m\u001b[0;34m)\u001b[0m\u001b[0;34m,\u001b[0m\u001b[0;34m**\u001b[0m\u001b[0mka\u001b[0m\u001b[0;34m)\u001b[0m\u001b[0;34m\u001b[0m\u001b[0m\n\u001b[0;32m--> 582\u001b[0;31m     \u001b[0mF\u001b[0m \u001b[0;34m=\u001b[0m \u001b[0;32mlambda\u001b[0m \u001b[0;34m*\u001b[0m\u001b[0ma\u001b[0m\u001b[0;34m,\u001b[0m\u001b[0;34m**\u001b[0m\u001b[0mka\u001b[0m\u001b[0;34m:\u001b[0m \u001b[0mc\u001b[0m\u001b[0;34m(\u001b[0m\u001b[0;34m(\u001b[0m\u001b[0ma\u001b[0m\u001b[0;34m,\u001b[0m\u001b[0mka\u001b[0m\u001b[0;34m)\u001b[0m\u001b[0;34m)\u001b[0m\u001b[0;34m\u001b[0m\u001b[0m\n\u001b[0m\u001b[1;32m    583\u001b[0m     \u001b[0mF\u001b[0m\u001b[0;34m.\u001b[0m\u001b[0mcache\u001b[0m \u001b[0;34m=\u001b[0m \u001b[0mc\u001b[0m\u001b[0;34m\u001b[0m\u001b[0m\n\u001b[1;32m    584\u001b[0m     \u001b[0;32mreturn\u001b[0m \u001b[0mupdate_wrapper\u001b[0m\u001b[0;34m(\u001b[0m\u001b[0mF\u001b[0m\u001b[0;34m,\u001b[0m\u001b[0mf\u001b[0m\u001b[0;34m)\u001b[0m\u001b[0;34m\u001b[0m\u001b[0m\n",
      "\u001b[0;32m/home/andreoli/src/distrib/myutil/cache.py\u001b[0m in \u001b[0;36m__call__\u001b[0;34m(self, arg)\u001b[0m\n\u001b[1;32m    299\u001b[0m       \u001b[0mrow\u001b[0m \u001b[0;34m=\u001b[0m \u001b[0mconn\u001b[0m\u001b[0;34m.\u001b[0m\u001b[0mexecute\u001b[0m\u001b[0;34m(\u001b[0m\u001b[0;34m'SELECT oid,size FROM Cell WHERE block=? AND ckey=?'\u001b[0m\u001b[0;34m,\u001b[0m\u001b[0;34m(\u001b[0m\u001b[0mself\u001b[0m\u001b[0;34m.\u001b[0m\u001b[0mblock\u001b[0m\u001b[0;34m,\u001b[0m\u001b[0mckey\u001b[0m\u001b[0;34m,\u001b[0m\u001b[0;34m)\u001b[0m\u001b[0;34m)\u001b[0m\u001b[0;34m.\u001b[0m\u001b[0mfetchone\u001b[0m\u001b[0;34m(\u001b[0m\u001b[0;34m)\u001b[0m\u001b[0;34m\u001b[0m\u001b[0m\n\u001b[1;32m    300\u001b[0m       \u001b[0;32mif\u001b[0m \u001b[0mrow\u001b[0m \u001b[0;32mis\u001b[0m \u001b[0;32mNone\u001b[0m\u001b[0;34m:\u001b[0m\u001b[0;34m\u001b[0m\u001b[0m\n\u001b[0;32m--> 301\u001b[0;31m         \u001b[0;32mif\u001b[0m \u001b[0mself\u001b[0m\u001b[0;34m.\u001b[0m\u001b[0mcacheonly\u001b[0m\u001b[0;34m:\u001b[0m \u001b[0;32mraise\u001b[0m \u001b[0mException\u001b[0m\u001b[0;34m(\u001b[0m\u001b[0;34m'Cache cell creation disallowed'\u001b[0m\u001b[0;34m)\u001b[0m\u001b[0;34m\u001b[0m\u001b[0m\n\u001b[0m\u001b[1;32m    302\u001b[0m         \u001b[0mcell\u001b[0m \u001b[0;34m=\u001b[0m \u001b[0mconn\u001b[0m\u001b[0;34m.\u001b[0m\u001b[0mexecute\u001b[0m\u001b[0;34m(\u001b[0m\u001b[0;34m'INSERT INTO Cell (block,ckey) VALUES (?,?)'\u001b[0m\u001b[0;34m,\u001b[0m\u001b[0;34m(\u001b[0m\u001b[0mself\u001b[0m\u001b[0;34m.\u001b[0m\u001b[0mblock\u001b[0m\u001b[0;34m,\u001b[0m\u001b[0mckey\u001b[0m\u001b[0;34m)\u001b[0m\u001b[0;34m)\u001b[0m\u001b[0;34m.\u001b[0m\u001b[0mlastrowid\u001b[0m\u001b[0;34m\u001b[0m\u001b[0m\n\u001b[1;32m    303\u001b[0m         \u001b[0mconn\u001b[0m\u001b[0;34m.\u001b[0m\u001b[0mexecute\u001b[0m\u001b[0;34m(\u001b[0m\u001b[0;34m'UPDATE Block SET misses=misses+1 WHERE oid=?'\u001b[0m\u001b[0;34m,\u001b[0m\u001b[0;34m(\u001b[0m\u001b[0mself\u001b[0m\u001b[0;34m.\u001b[0m\u001b[0mblock\u001b[0m\u001b[0;34m,\u001b[0m\u001b[0;34m)\u001b[0m\u001b[0;34m)\u001b[0m\u001b[0;34m\u001b[0m\u001b[0m\n",
      "\u001b[0;31mException\u001b[0m: Cache cell creation disallowed"
     ]
    }
   ],
   "source": [
    "from myutil.demo.cache import simplefunc as f\n",
    "f.cache.cacheonly = True\n",
    "f(2)"
   ]
  },
  {
   "cell_type": "code",
   "execution_count": null,
   "metadata": {
    "collapsed": true
   },
   "outputs": [],
   "source": []
  }
 ],
 "metadata": {
  "kernelspec": {
   "display_name": "Python 3",
   "language": "python",
   "name": "python3"
  },
  "language_info": {
   "codemirror_mode": {
    "name": "ipython",
    "version": 3
   },
   "file_extension": ".py",
   "mimetype": "text/x-python",
   "name": "python",
   "nbconvert_exporter": "python",
   "pygments_lexer": "ipython3",
   "version": "3.5.2"
  }
 },
 "nbformat": 4,
 "nbformat_minor": 0
}
