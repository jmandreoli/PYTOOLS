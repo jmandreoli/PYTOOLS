{
 "cells": [
  {
   "cell_type": "markdown",
   "metadata": {},
   "source": [
    "#Test of module myutil.chronorec\n",
    "Documentation: [here](../../doc/_build/html/chronorec.html)"
   ]
  },
  {
   "cell_type": "code",
   "execution_count": 1,
   "metadata": {
    "collapsed": false
   },
   "outputs": [],
   "source": [
    "from pathlib import Path; [p.unlink() for p in Path('chrono.dir').iterdir()]\n",
    "import logging\n",
    "logger = logging.getLogger()\n",
    "logger.setLevel(logging.INFO)\n",
    "\n",
    "from myutil.remote.main import shclients\n",
    "from chrono import weatherchrono as w"
   ]
  },
  {
   "cell_type": "code",
   "execution_count": 2,
   "metadata": {
    "collapsed": false,
    "scrolled": false
   },
   "outputs": [
    {
     "name": "stderr",
     "output_type": "stream",
     "text": [
      "INFO:myutil.chrono:session created: 1\n"
     ]
    }
   ],
   "source": [
    "w.engine = lambda **ka: shclients(1,**ka)[0]\n",
    "w.activate(slice(0,None),level=logger.level)"
   ]
  },
  {
   "cell_type": "code",
   "execution_count": 3,
   "metadata": {
    "collapsed": false
   },
   "outputs": [
    {
     "data": {
      "text/html": [
       "<TABLE><THEAD><TR style=\"background-color: gray; color: white\"><TD colspan=\"8\">OpenWeather(london,2)</TD></TR><TR><TD/><TH>status</TH><TH>started</TH><TH>slice</TH><TH>nrec</TH><TH>nfield</TH><TH>nlog</TH><TH>nint</TH></TR></THEAD><TBODY><TR><TH>1</TH><TD>None</TD><TD>2015-07-08 20:51:39</TD><TD>0::</TD><TD>1</TD><TD>6</TD><TD>1</TD><TD>None</TD></TR></TBODY></TABLE>"
      ],
      "text/plain": [
       "<myutil.chrono.ChronoBlock at 0x7fa7f558e4a8>"
      ]
     },
     "execution_count": 3,
     "metadata": {},
     "output_type": "execute_result"
    }
   ],
   "source": [
    "w"
   ]
  },
  {
   "cell_type": "code",
   "execution_count": 4,
   "metadata": {
    "collapsed": true
   },
   "outputs": [],
   "source": [
    "w.pause('Hard stop')"
   ]
  },
  {
   "cell_type": "code",
   "execution_count": 6,
   "metadata": {
    "collapsed": false
   },
   "outputs": [
    {
     "data": {
      "text/html": [
       "<TABLE><THEAD><TR style=\"background-color: gray; color: white\"><TD colspan=\"8\">OpenWeather(london,2)</TD></TR><TR><TD/><TH>status</TH><TH>started</TH><TH>slice</TH><TH>nrec</TH><TH>nfield</TH><TH>nlog</TH><TH>nint</TH></TR></THEAD><TBODY><TR><TH>1</TH><TD>1</TD><TD>2015-07-08 20:51:39</TD><TD>0::</TD><TD>4</TD><TD>6</TD><TD>2</TD><TD>1</TD></TR></TBODY></TABLE>"
      ],
      "text/plain": [
       "<myutil.chrono.ChronoBlock at 0x7fa7f558e4a8>"
      ]
     },
     "execution_count": 6,
     "metadata": {},
     "output_type": "execute_result"
    }
   ],
   "source": [
    "w"
   ]
  },
  {
   "cell_type": "code",
   "execution_count": 7,
   "metadata": {
    "collapsed": false
   },
   "outputs": [
    {
     "name": "stdout",
     "output_type": "stream",
     "text": [
      "started 2015-07-08 20:51:39\n"
     ]
    },
    {
     "data": {
      "text/html": [
       "<div>\n",
       "<table border=\"1\" class=\"dataframe\">\n",
       "  <thead>\n",
       "    <tr style=\"text-align: right;\">\n",
       "      <th></th>\n",
       "      <th>record</th>\n",
       "      <th>timestamp</th>\n",
       "      <th>dt</th>\n",
       "      <th>humidity</th>\n",
       "      <th>lat</th>\n",
       "      <th>lon</th>\n",
       "      <th>pressure</th>\n",
       "      <th>temp</th>\n",
       "    </tr>\n",
       "  </thead>\n",
       "  <tbody>\n",
       "    <tr>\n",
       "      <th>0</th>\n",
       "      <td>4</td>\n",
       "      <td>6.097844</td>\n",
       "      <td>1436386020</td>\n",
       "      <td>48</td>\n",
       "      <td>None</td>\n",
       "      <td>None</td>\n",
       "      <td>1016</td>\n",
       "      <td>17.11</td>\n",
       "    </tr>\n",
       "    <tr>\n",
       "      <th>1</th>\n",
       "      <td>3</td>\n",
       "      <td>4.103972</td>\n",
       "      <td>1436386020</td>\n",
       "      <td>48</td>\n",
       "      <td>None</td>\n",
       "      <td>None</td>\n",
       "      <td>1016</td>\n",
       "      <td>17.11</td>\n",
       "    </tr>\n",
       "    <tr>\n",
       "      <th>2</th>\n",
       "      <td>2</td>\n",
       "      <td>2.102057</td>\n",
       "      <td>1436386020</td>\n",
       "      <td>48</td>\n",
       "      <td>None</td>\n",
       "      <td>None</td>\n",
       "      <td>1016</td>\n",
       "      <td>17.11</td>\n",
       "    </tr>\n",
       "    <tr>\n",
       "      <th>3</th>\n",
       "      <td>1</td>\n",
       "      <td>0.1992549</td>\n",
       "      <td>1436386020</td>\n",
       "      <td>48</td>\n",
       "      <td>51.51</td>\n",
       "      <td>-0.13</td>\n",
       "      <td>1016</td>\n",
       "      <td>17.11</td>\n",
       "    </tr>\n",
       "  </tbody>\n",
       "</table>\n",
       "</div>"
      ],
      "text/plain": [
       "  record  timestamp          dt humidity    lat   lon pressure   temp\n",
       "0      4   6.097844  1436386020       48   None  None     1016  17.11\n",
       "1      3   4.103972  1436386020       48   None  None     1016  17.11\n",
       "2      2   2.102057  1436386020       48   None  None     1016  17.11\n",
       "3      1  0.1992549  1436386020       48  51.51 -0.13     1016  17.11"
      ]
     },
     "metadata": {},
     "output_type": "display_data"
    }
   ],
   "source": [
    "from pandas import DataFrame\n",
    "from numpy import array\n",
    "from IPython.display import display\n",
    "for k,v in w.items():\n",
    "    if v.nrec > 9: continue\n",
    "    L = v.streamer(limit=(10,0),reverse=True)\n",
    "    print('started',v.started)\n",
    "    display(DataFrame(array(list(L),dtype=object),columns=L.attributes))"
   ]
  },
  {
   "cell_type": "code",
   "execution_count": 8,
   "metadata": {
    "collapsed": false
   },
   "outputs": [
    {
     "data": {
      "text/html": [
       "<DIV><DIV><TABLE><THEAD><TR style=\"background-color: gray; color: white\"><TD colspan=\"8\">OpenWeather(london,2)</TD></TR><TR><TD/><TH>status</TH><TH>started</TH><TH>slice</TH><TH>nrec</TH><TH>nfield</TH><TH>nlog</TH><TH>nint</TH></TR></THEAD><TBODY><TR><TH>1</TH><TD>1</TD><TD>2015-07-08 20:51:39</TD><TD>0::</TD><TD>4</TD><TD>6</TD><TD>2</TD><TD>1</TD></TR></TBODY></TABLE></DIV></DIV>"
      ],
      "text/plain": [
       "<myutil.chrono.ChronoDB at 0x7fa7f558e438>"
      ]
     },
     "execution_count": 8,
     "metadata": {},
     "output_type": "execute_result"
    }
   ],
   "source": [
    "w.db"
   ]
  },
  {
   "cell_type": "code",
   "execution_count": 9,
   "metadata": {
    "collapsed": false
   },
   "outputs": [],
   "source": [
    "w.clear()"
   ]
  }
 ],
 "metadata": {
  "kernelspec": {
   "display_name": "Python 3",
   "language": "python",
   "name": "python3"
  },
  "language_info": {
   "codemirror_mode": {
    "name": "ipython",
    "version": 3
   },
   "file_extension": ".py",
   "mimetype": "text/x-python",
   "name": "python",
   "nbconvert_exporter": "python",
   "pygments_lexer": "ipython3",
   "version": "3.4.3"
  }
 },
 "nbformat": 4,
 "nbformat_minor": 0
}
